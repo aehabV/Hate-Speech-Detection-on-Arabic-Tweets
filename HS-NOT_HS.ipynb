{
  "nbformat": 4,
  "nbformat_minor": 0,
  "metadata": {
    "colab": {
      "name": "Copy_of_OFF_NOT_OFF_1 (1).ipynb",
      "provenance": [],
      "collapsed_sections": [
        "GnqiZOT37ByE"
      ]
    },
    "kernelspec": {
      "name": "python3",
      "display_name": "Python 3"
    },
    "accelerator": "GPU",
    "widgets": {
      "application/vnd.jupyter.widget-state+json": {
        "de74668c984d453f8b4f76df1d30b588": {
          "model_module": "@jupyter-widgets/controls",
          "model_name": "HBoxModel",
          "model_module_version": "1.5.0",
          "state": {
            "_dom_classes": [],
            "_model_module": "@jupyter-widgets/controls",
            "_model_module_version": "1.5.0",
            "_model_name": "HBoxModel",
            "_view_count": null,
            "_view_module": "@jupyter-widgets/controls",
            "_view_module_version": "1.5.0",
            "_view_name": "HBoxView",
            "box_style": "",
            "children": [
              "IPY_MODEL_1caa641187374a4a83a98b14089fc751",
              "IPY_MODEL_4244067bf2204ab0b5f94291e69313ea",
              "IPY_MODEL_6dbecbd3bad54e46aeba9f88b9808008"
            ],
            "layout": "IPY_MODEL_54c9bff0b03c4f0aaa33461f881bb492"
          }
        },
        "1caa641187374a4a83a98b14089fc751": {
          "model_module": "@jupyter-widgets/controls",
          "model_name": "HTMLModel",
          "model_module_version": "1.5.0",
          "state": {
            "_dom_classes": [],
            "_model_module": "@jupyter-widgets/controls",
            "_model_module_version": "1.5.0",
            "_model_name": "HTMLModel",
            "_view_count": null,
            "_view_module": "@jupyter-widgets/controls",
            "_view_module_version": "1.5.0",
            "_view_name": "HTMLView",
            "description": "",
            "description_tooltip": null,
            "layout": "IPY_MODEL_93fc5576318049f4bb262d6a69fb06b6",
            "placeholder": "​",
            "style": "IPY_MODEL_edaa33cc34584bdfb8ccdc0704afd283",
            "value": "Downloading: 100%"
          }
        },
        "4244067bf2204ab0b5f94291e69313ea": {
          "model_module": "@jupyter-widgets/controls",
          "model_name": "FloatProgressModel",
          "model_module_version": "1.5.0",
          "state": {
            "_dom_classes": [],
            "_model_module": "@jupyter-widgets/controls",
            "_model_module_version": "1.5.0",
            "_model_name": "FloatProgressModel",
            "_view_count": null,
            "_view_module": "@jupyter-widgets/controls",
            "_view_module_version": "1.5.0",
            "_view_name": "ProgressView",
            "bar_style": "success",
            "description": "",
            "description_tooltip": null,
            "layout": "IPY_MODEL_05e46acb53ab4f468f67bf79bb85be44",
            "max": 543490667,
            "min": 0,
            "orientation": "horizontal",
            "style": "IPY_MODEL_1deb32de0d774721a9959e64b727447a",
            "value": 543490667
          }
        },
        "6dbecbd3bad54e46aeba9f88b9808008": {
          "model_module": "@jupyter-widgets/controls",
          "model_name": "HTMLModel",
          "model_module_version": "1.5.0",
          "state": {
            "_dom_classes": [],
            "_model_module": "@jupyter-widgets/controls",
            "_model_module_version": "1.5.0",
            "_model_name": "HTMLModel",
            "_view_count": null,
            "_view_module": "@jupyter-widgets/controls",
            "_view_module_version": "1.5.0",
            "_view_name": "HTMLView",
            "description": "",
            "description_tooltip": null,
            "layout": "IPY_MODEL_3d6fe9bf051b4d9aab38374e70d78565",
            "placeholder": "​",
            "style": "IPY_MODEL_6841f224f7554e0ab4ec0891b28eb00f",
            "value": " 543M/543M [00:37&lt;00:00, 32.1MB/s]"
          }
        },
        "54c9bff0b03c4f0aaa33461f881bb492": {
          "model_module": "@jupyter-widgets/base",
          "model_name": "LayoutModel",
          "model_module_version": "1.2.0",
          "state": {
            "_model_module": "@jupyter-widgets/base",
            "_model_module_version": "1.2.0",
            "_model_name": "LayoutModel",
            "_view_count": null,
            "_view_module": "@jupyter-widgets/base",
            "_view_module_version": "1.2.0",
            "_view_name": "LayoutView",
            "align_content": null,
            "align_items": null,
            "align_self": null,
            "border": null,
            "bottom": null,
            "display": null,
            "flex": null,
            "flex_flow": null,
            "grid_area": null,
            "grid_auto_columns": null,
            "grid_auto_flow": null,
            "grid_auto_rows": null,
            "grid_column": null,
            "grid_gap": null,
            "grid_row": null,
            "grid_template_areas": null,
            "grid_template_columns": null,
            "grid_template_rows": null,
            "height": null,
            "justify_content": null,
            "justify_items": null,
            "left": null,
            "margin": null,
            "max_height": null,
            "max_width": null,
            "min_height": null,
            "min_width": null,
            "object_fit": null,
            "object_position": null,
            "order": null,
            "overflow": null,
            "overflow_x": null,
            "overflow_y": null,
            "padding": null,
            "right": null,
            "top": null,
            "visibility": null,
            "width": null
          }
        },
        "93fc5576318049f4bb262d6a69fb06b6": {
          "model_module": "@jupyter-widgets/base",
          "model_name": "LayoutModel",
          "model_module_version": "1.2.0",
          "state": {
            "_model_module": "@jupyter-widgets/base",
            "_model_module_version": "1.2.0",
            "_model_name": "LayoutModel",
            "_view_count": null,
            "_view_module": "@jupyter-widgets/base",
            "_view_module_version": "1.2.0",
            "_view_name": "LayoutView",
            "align_content": null,
            "align_items": null,
            "align_self": null,
            "border": null,
            "bottom": null,
            "display": null,
            "flex": null,
            "flex_flow": null,
            "grid_area": null,
            "grid_auto_columns": null,
            "grid_auto_flow": null,
            "grid_auto_rows": null,
            "grid_column": null,
            "grid_gap": null,
            "grid_row": null,
            "grid_template_areas": null,
            "grid_template_columns": null,
            "grid_template_rows": null,
            "height": null,
            "justify_content": null,
            "justify_items": null,
            "left": null,
            "margin": null,
            "max_height": null,
            "max_width": null,
            "min_height": null,
            "min_width": null,
            "object_fit": null,
            "object_position": null,
            "order": null,
            "overflow": null,
            "overflow_x": null,
            "overflow_y": null,
            "padding": null,
            "right": null,
            "top": null,
            "visibility": null,
            "width": null
          }
        },
        "edaa33cc34584bdfb8ccdc0704afd283": {
          "model_module": "@jupyter-widgets/controls",
          "model_name": "DescriptionStyleModel",
          "model_module_version": "1.5.0",
          "state": {
            "_model_module": "@jupyter-widgets/controls",
            "_model_module_version": "1.5.0",
            "_model_name": "DescriptionStyleModel",
            "_view_count": null,
            "_view_module": "@jupyter-widgets/base",
            "_view_module_version": "1.2.0",
            "_view_name": "StyleView",
            "description_width": ""
          }
        },
        "05e46acb53ab4f468f67bf79bb85be44": {
          "model_module": "@jupyter-widgets/base",
          "model_name": "LayoutModel",
          "model_module_version": "1.2.0",
          "state": {
            "_model_module": "@jupyter-widgets/base",
            "_model_module_version": "1.2.0",
            "_model_name": "LayoutModel",
            "_view_count": null,
            "_view_module": "@jupyter-widgets/base",
            "_view_module_version": "1.2.0",
            "_view_name": "LayoutView",
            "align_content": null,
            "align_items": null,
            "align_self": null,
            "border": null,
            "bottom": null,
            "display": null,
            "flex": null,
            "flex_flow": null,
            "grid_area": null,
            "grid_auto_columns": null,
            "grid_auto_flow": null,
            "grid_auto_rows": null,
            "grid_column": null,
            "grid_gap": null,
            "grid_row": null,
            "grid_template_areas": null,
            "grid_template_columns": null,
            "grid_template_rows": null,
            "height": null,
            "justify_content": null,
            "justify_items": null,
            "left": null,
            "margin": null,
            "max_height": null,
            "max_width": null,
            "min_height": null,
            "min_width": null,
            "object_fit": null,
            "object_position": null,
            "order": null,
            "overflow": null,
            "overflow_x": null,
            "overflow_y": null,
            "padding": null,
            "right": null,
            "top": null,
            "visibility": null,
            "width": null
          }
        },
        "1deb32de0d774721a9959e64b727447a": {
          "model_module": "@jupyter-widgets/controls",
          "model_name": "ProgressStyleModel",
          "model_module_version": "1.5.0",
          "state": {
            "_model_module": "@jupyter-widgets/controls",
            "_model_module_version": "1.5.0",
            "_model_name": "ProgressStyleModel",
            "_view_count": null,
            "_view_module": "@jupyter-widgets/base",
            "_view_module_version": "1.2.0",
            "_view_name": "StyleView",
            "bar_color": null,
            "description_width": ""
          }
        },
        "3d6fe9bf051b4d9aab38374e70d78565": {
          "model_module": "@jupyter-widgets/base",
          "model_name": "LayoutModel",
          "model_module_version": "1.2.0",
          "state": {
            "_model_module": "@jupyter-widgets/base",
            "_model_module_version": "1.2.0",
            "_model_name": "LayoutModel",
            "_view_count": null,
            "_view_module": "@jupyter-widgets/base",
            "_view_module_version": "1.2.0",
            "_view_name": "LayoutView",
            "align_content": null,
            "align_items": null,
            "align_self": null,
            "border": null,
            "bottom": null,
            "display": null,
            "flex": null,
            "flex_flow": null,
            "grid_area": null,
            "grid_auto_columns": null,
            "grid_auto_flow": null,
            "grid_auto_rows": null,
            "grid_column": null,
            "grid_gap": null,
            "grid_row": null,
            "grid_template_areas": null,
            "grid_template_columns": null,
            "grid_template_rows": null,
            "height": null,
            "justify_content": null,
            "justify_items": null,
            "left": null,
            "margin": null,
            "max_height": null,
            "max_width": null,
            "min_height": null,
            "min_width": null,
            "object_fit": null,
            "object_position": null,
            "order": null,
            "overflow": null,
            "overflow_x": null,
            "overflow_y": null,
            "padding": null,
            "right": null,
            "top": null,
            "visibility": null,
            "width": null
          }
        },
        "6841f224f7554e0ab4ec0891b28eb00f": {
          "model_module": "@jupyter-widgets/controls",
          "model_name": "DescriptionStyleModel",
          "model_module_version": "1.5.0",
          "state": {
            "_model_module": "@jupyter-widgets/controls",
            "_model_module_version": "1.5.0",
            "_model_name": "DescriptionStyleModel",
            "_view_count": null,
            "_view_module": "@jupyter-widgets/base",
            "_view_module_version": "1.2.0",
            "_view_name": "StyleView",
            "description_width": ""
          }
        },
        "7edf5050c96d4e6aa880b7f6c347941d": {
          "model_module": "@jupyter-widgets/controls",
          "model_name": "HBoxModel",
          "model_module_version": "1.5.0",
          "state": {
            "_dom_classes": [],
            "_model_module": "@jupyter-widgets/controls",
            "_model_module_version": "1.5.0",
            "_model_name": "HBoxModel",
            "_view_count": null,
            "_view_module": "@jupyter-widgets/controls",
            "_view_module_version": "1.5.0",
            "_view_name": "HBoxView",
            "box_style": "",
            "children": [
              "IPY_MODEL_b855cb7aed764b81a6343e8041d0c1d5",
              "IPY_MODEL_7df34ab60da84641a9ab12173d768ce7",
              "IPY_MODEL_48f469009de24b2c8acfc3728d29114f"
            ],
            "layout": "IPY_MODEL_e0827d7a7ac04efe927e2d216329e022"
          }
        },
        "b855cb7aed764b81a6343e8041d0c1d5": {
          "model_module": "@jupyter-widgets/controls",
          "model_name": "HTMLModel",
          "model_module_version": "1.5.0",
          "state": {
            "_dom_classes": [],
            "_model_module": "@jupyter-widgets/controls",
            "_model_module_version": "1.5.0",
            "_model_name": "HTMLModel",
            "_view_count": null,
            "_view_module": "@jupyter-widgets/controls",
            "_view_module_version": "1.5.0",
            "_view_name": "HTMLView",
            "description": "",
            "description_tooltip": null,
            "layout": "IPY_MODEL_e4ba22e67de24d32809286fd9ba192b3",
            "placeholder": "​",
            "style": "IPY_MODEL_115e281bc3e04ac59d5c42df2fe6336d",
            "value": "Downloading: 100%"
          }
        },
        "7df34ab60da84641a9ab12173d768ce7": {
          "model_module": "@jupyter-widgets/controls",
          "model_name": "FloatProgressModel",
          "model_module_version": "1.5.0",
          "state": {
            "_dom_classes": [],
            "_model_module": "@jupyter-widgets/controls",
            "_model_module_version": "1.5.0",
            "_model_name": "FloatProgressModel",
            "_view_count": null,
            "_view_module": "@jupyter-widgets/controls",
            "_view_module_version": "1.5.0",
            "_view_name": "ProgressView",
            "bar_style": "success",
            "description": "",
            "description_tooltip": null,
            "layout": "IPY_MODEL_80bfb83d46464f35a87ce2a96027c621",
            "max": 701,
            "min": 0,
            "orientation": "horizontal",
            "style": "IPY_MODEL_45d803120d2241d597de3a5bff2cab76",
            "value": 701
          }
        },
        "48f469009de24b2c8acfc3728d29114f": {
          "model_module": "@jupyter-widgets/controls",
          "model_name": "HTMLModel",
          "model_module_version": "1.5.0",
          "state": {
            "_dom_classes": [],
            "_model_module": "@jupyter-widgets/controls",
            "_model_module_version": "1.5.0",
            "_model_name": "HTMLModel",
            "_view_count": null,
            "_view_module": "@jupyter-widgets/controls",
            "_view_module_version": "1.5.0",
            "_view_name": "HTMLView",
            "description": "",
            "description_tooltip": null,
            "layout": "IPY_MODEL_1544688b7223407899d10d03ade8c3e6",
            "placeholder": "​",
            "style": "IPY_MODEL_54a382e38514433280c9c5ab8777d555",
            "value": " 701/701 [00:00&lt;00:00, 7.83kB/s]"
          }
        },
        "e0827d7a7ac04efe927e2d216329e022": {
          "model_module": "@jupyter-widgets/base",
          "model_name": "LayoutModel",
          "model_module_version": "1.2.0",
          "state": {
            "_model_module": "@jupyter-widgets/base",
            "_model_module_version": "1.2.0",
            "_model_name": "LayoutModel",
            "_view_count": null,
            "_view_module": "@jupyter-widgets/base",
            "_view_module_version": "1.2.0",
            "_view_name": "LayoutView",
            "align_content": null,
            "align_items": null,
            "align_self": null,
            "border": null,
            "bottom": null,
            "display": null,
            "flex": null,
            "flex_flow": null,
            "grid_area": null,
            "grid_auto_columns": null,
            "grid_auto_flow": null,
            "grid_auto_rows": null,
            "grid_column": null,
            "grid_gap": null,
            "grid_row": null,
            "grid_template_areas": null,
            "grid_template_columns": null,
            "grid_template_rows": null,
            "height": null,
            "justify_content": null,
            "justify_items": null,
            "left": null,
            "margin": null,
            "max_height": null,
            "max_width": null,
            "min_height": null,
            "min_width": null,
            "object_fit": null,
            "object_position": null,
            "order": null,
            "overflow": null,
            "overflow_x": null,
            "overflow_y": null,
            "padding": null,
            "right": null,
            "top": null,
            "visibility": null,
            "width": null
          }
        },
        "e4ba22e67de24d32809286fd9ba192b3": {
          "model_module": "@jupyter-widgets/base",
          "model_name": "LayoutModel",
          "model_module_version": "1.2.0",
          "state": {
            "_model_module": "@jupyter-widgets/base",
            "_model_module_version": "1.2.0",
            "_model_name": "LayoutModel",
            "_view_count": null,
            "_view_module": "@jupyter-widgets/base",
            "_view_module_version": "1.2.0",
            "_view_name": "LayoutView",
            "align_content": null,
            "align_items": null,
            "align_self": null,
            "border": null,
            "bottom": null,
            "display": null,
            "flex": null,
            "flex_flow": null,
            "grid_area": null,
            "grid_auto_columns": null,
            "grid_auto_flow": null,
            "grid_auto_rows": null,
            "grid_column": null,
            "grid_gap": null,
            "grid_row": null,
            "grid_template_areas": null,
            "grid_template_columns": null,
            "grid_template_rows": null,
            "height": null,
            "justify_content": null,
            "justify_items": null,
            "left": null,
            "margin": null,
            "max_height": null,
            "max_width": null,
            "min_height": null,
            "min_width": null,
            "object_fit": null,
            "object_position": null,
            "order": null,
            "overflow": null,
            "overflow_x": null,
            "overflow_y": null,
            "padding": null,
            "right": null,
            "top": null,
            "visibility": null,
            "width": null
          }
        },
        "115e281bc3e04ac59d5c42df2fe6336d": {
          "model_module": "@jupyter-widgets/controls",
          "model_name": "DescriptionStyleModel",
          "model_module_version": "1.5.0",
          "state": {
            "_model_module": "@jupyter-widgets/controls",
            "_model_module_version": "1.5.0",
            "_model_name": "DescriptionStyleModel",
            "_view_count": null,
            "_view_module": "@jupyter-widgets/base",
            "_view_module_version": "1.2.0",
            "_view_name": "StyleView",
            "description_width": ""
          }
        },
        "80bfb83d46464f35a87ce2a96027c621": {
          "model_module": "@jupyter-widgets/base",
          "model_name": "LayoutModel",
          "model_module_version": "1.2.0",
          "state": {
            "_model_module": "@jupyter-widgets/base",
            "_model_module_version": "1.2.0",
            "_model_name": "LayoutModel",
            "_view_count": null,
            "_view_module": "@jupyter-widgets/base",
            "_view_module_version": "1.2.0",
            "_view_name": "LayoutView",
            "align_content": null,
            "align_items": null,
            "align_self": null,
            "border": null,
            "bottom": null,
            "display": null,
            "flex": null,
            "flex_flow": null,
            "grid_area": null,
            "grid_auto_columns": null,
            "grid_auto_flow": null,
            "grid_auto_rows": null,
            "grid_column": null,
            "grid_gap": null,
            "grid_row": null,
            "grid_template_areas": null,
            "grid_template_columns": null,
            "grid_template_rows": null,
            "height": null,
            "justify_content": null,
            "justify_items": null,
            "left": null,
            "margin": null,
            "max_height": null,
            "max_width": null,
            "min_height": null,
            "min_width": null,
            "object_fit": null,
            "object_position": null,
            "order": null,
            "overflow": null,
            "overflow_x": null,
            "overflow_y": null,
            "padding": null,
            "right": null,
            "top": null,
            "visibility": null,
            "width": null
          }
        },
        "45d803120d2241d597de3a5bff2cab76": {
          "model_module": "@jupyter-widgets/controls",
          "model_name": "ProgressStyleModel",
          "model_module_version": "1.5.0",
          "state": {
            "_model_module": "@jupyter-widgets/controls",
            "_model_module_version": "1.5.0",
            "_model_name": "ProgressStyleModel",
            "_view_count": null,
            "_view_module": "@jupyter-widgets/base",
            "_view_module_version": "1.2.0",
            "_view_name": "StyleView",
            "bar_color": null,
            "description_width": ""
          }
        },
        "1544688b7223407899d10d03ade8c3e6": {
          "model_module": "@jupyter-widgets/base",
          "model_name": "LayoutModel",
          "model_module_version": "1.2.0",
          "state": {
            "_model_module": "@jupyter-widgets/base",
            "_model_module_version": "1.2.0",
            "_model_name": "LayoutModel",
            "_view_count": null,
            "_view_module": "@jupyter-widgets/base",
            "_view_module_version": "1.2.0",
            "_view_name": "LayoutView",
            "align_content": null,
            "align_items": null,
            "align_self": null,
            "border": null,
            "bottom": null,
            "display": null,
            "flex": null,
            "flex_flow": null,
            "grid_area": null,
            "grid_auto_columns": null,
            "grid_auto_flow": null,
            "grid_auto_rows": null,
            "grid_column": null,
            "grid_gap": null,
            "grid_row": null,
            "grid_template_areas": null,
            "grid_template_columns": null,
            "grid_template_rows": null,
            "height": null,
            "justify_content": null,
            "justify_items": null,
            "left": null,
            "margin": null,
            "max_height": null,
            "max_width": null,
            "min_height": null,
            "min_width": null,
            "object_fit": null,
            "object_position": null,
            "order": null,
            "overflow": null,
            "overflow_x": null,
            "overflow_y": null,
            "padding": null,
            "right": null,
            "top": null,
            "visibility": null,
            "width": null
          }
        },
        "54a382e38514433280c9c5ab8777d555": {
          "model_module": "@jupyter-widgets/controls",
          "model_name": "DescriptionStyleModel",
          "model_module_version": "1.5.0",
          "state": {
            "_model_module": "@jupyter-widgets/controls",
            "_model_module_version": "1.5.0",
            "_model_name": "DescriptionStyleModel",
            "_view_count": null,
            "_view_module": "@jupyter-widgets/base",
            "_view_module_version": "1.2.0",
            "_view_name": "StyleView",
            "description_width": ""
          }
        },
        "ecd129ccf86c443d9fb8aed952b816c8": {
          "model_module": "@jupyter-widgets/controls",
          "model_name": "HBoxModel",
          "model_module_version": "1.5.0",
          "state": {
            "_dom_classes": [],
            "_model_module": "@jupyter-widgets/controls",
            "_model_module_version": "1.5.0",
            "_model_name": "HBoxModel",
            "_view_count": null,
            "_view_module": "@jupyter-widgets/controls",
            "_view_module_version": "1.5.0",
            "_view_name": "HBoxView",
            "box_style": "",
            "children": [
              "IPY_MODEL_88ccef7c10a84d7bacaaa0b972c51d75",
              "IPY_MODEL_a10220c5e1aa4458915339a5a947db2b",
              "IPY_MODEL_9501a62f988e482e89e290adf041bf49"
            ],
            "layout": "IPY_MODEL_1ec9c3a78eac42b8932e94e627ba04b6"
          }
        },
        "88ccef7c10a84d7bacaaa0b972c51d75": {
          "model_module": "@jupyter-widgets/controls",
          "model_name": "HTMLModel",
          "model_module_version": "1.5.0",
          "state": {
            "_dom_classes": [],
            "_model_module": "@jupyter-widgets/controls",
            "_model_module_version": "1.5.0",
            "_model_name": "HTMLModel",
            "_view_count": null,
            "_view_module": "@jupyter-widgets/controls",
            "_view_module_version": "1.5.0",
            "_view_name": "HTMLView",
            "description": "",
            "description_tooltip": null,
            "layout": "IPY_MODEL_605c0ab5583943de83173d2a530b22e5",
            "placeholder": "​",
            "style": "IPY_MODEL_6215a80445c34e16be3798923fc4d3e7",
            "value": "Downloading: 100%"
          }
        },
        "a10220c5e1aa4458915339a5a947db2b": {
          "model_module": "@jupyter-widgets/controls",
          "model_name": "FloatProgressModel",
          "model_module_version": "1.5.0",
          "state": {
            "_dom_classes": [],
            "_model_module": "@jupyter-widgets/controls",
            "_model_module_version": "1.5.0",
            "_model_name": "FloatProgressModel",
            "_view_count": null,
            "_view_module": "@jupyter-widgets/controls",
            "_view_module_version": "1.5.0",
            "_view_name": "ProgressView",
            "bar_style": "success",
            "description": "",
            "description_tooltip": null,
            "layout": "IPY_MODEL_53add5126d8d4776a6ccedda7386b1dc",
            "max": 1099714,
            "min": 0,
            "orientation": "horizontal",
            "style": "IPY_MODEL_85b9b77369094dc3b9ae1dbbfdda962f",
            "value": 1099714
          }
        },
        "9501a62f988e482e89e290adf041bf49": {
          "model_module": "@jupyter-widgets/controls",
          "model_name": "HTMLModel",
          "model_module_version": "1.5.0",
          "state": {
            "_dom_classes": [],
            "_model_module": "@jupyter-widgets/controls",
            "_model_module_version": "1.5.0",
            "_model_name": "HTMLModel",
            "_view_count": null,
            "_view_module": "@jupyter-widgets/controls",
            "_view_module_version": "1.5.0",
            "_view_name": "HTMLView",
            "description": "",
            "description_tooltip": null,
            "layout": "IPY_MODEL_7d98e156c1724499bdfc0582aa5b569d",
            "placeholder": "​",
            "style": "IPY_MODEL_054feb75596a42f6af013da1cb1dfd93",
            "value": " 1.10M/1.10M [00:00&lt;00:00, 1.65MB/s]"
          }
        },
        "1ec9c3a78eac42b8932e94e627ba04b6": {
          "model_module": "@jupyter-widgets/base",
          "model_name": "LayoutModel",
          "model_module_version": "1.2.0",
          "state": {
            "_model_module": "@jupyter-widgets/base",
            "_model_module_version": "1.2.0",
            "_model_name": "LayoutModel",
            "_view_count": null,
            "_view_module": "@jupyter-widgets/base",
            "_view_module_version": "1.2.0",
            "_view_name": "LayoutView",
            "align_content": null,
            "align_items": null,
            "align_self": null,
            "border": null,
            "bottom": null,
            "display": null,
            "flex": null,
            "flex_flow": null,
            "grid_area": null,
            "grid_auto_columns": null,
            "grid_auto_flow": null,
            "grid_auto_rows": null,
            "grid_column": null,
            "grid_gap": null,
            "grid_row": null,
            "grid_template_areas": null,
            "grid_template_columns": null,
            "grid_template_rows": null,
            "height": null,
            "justify_content": null,
            "justify_items": null,
            "left": null,
            "margin": null,
            "max_height": null,
            "max_width": null,
            "min_height": null,
            "min_width": null,
            "object_fit": null,
            "object_position": null,
            "order": null,
            "overflow": null,
            "overflow_x": null,
            "overflow_y": null,
            "padding": null,
            "right": null,
            "top": null,
            "visibility": null,
            "width": null
          }
        },
        "605c0ab5583943de83173d2a530b22e5": {
          "model_module": "@jupyter-widgets/base",
          "model_name": "LayoutModel",
          "model_module_version": "1.2.0",
          "state": {
            "_model_module": "@jupyter-widgets/base",
            "_model_module_version": "1.2.0",
            "_model_name": "LayoutModel",
            "_view_count": null,
            "_view_module": "@jupyter-widgets/base",
            "_view_module_version": "1.2.0",
            "_view_name": "LayoutView",
            "align_content": null,
            "align_items": null,
            "align_self": null,
            "border": null,
            "bottom": null,
            "display": null,
            "flex": null,
            "flex_flow": null,
            "grid_area": null,
            "grid_auto_columns": null,
            "grid_auto_flow": null,
            "grid_auto_rows": null,
            "grid_column": null,
            "grid_gap": null,
            "grid_row": null,
            "grid_template_areas": null,
            "grid_template_columns": null,
            "grid_template_rows": null,
            "height": null,
            "justify_content": null,
            "justify_items": null,
            "left": null,
            "margin": null,
            "max_height": null,
            "max_width": null,
            "min_height": null,
            "min_width": null,
            "object_fit": null,
            "object_position": null,
            "order": null,
            "overflow": null,
            "overflow_x": null,
            "overflow_y": null,
            "padding": null,
            "right": null,
            "top": null,
            "visibility": null,
            "width": null
          }
        },
        "6215a80445c34e16be3798923fc4d3e7": {
          "model_module": "@jupyter-widgets/controls",
          "model_name": "DescriptionStyleModel",
          "model_module_version": "1.5.0",
          "state": {
            "_model_module": "@jupyter-widgets/controls",
            "_model_module_version": "1.5.0",
            "_model_name": "DescriptionStyleModel",
            "_view_count": null,
            "_view_module": "@jupyter-widgets/base",
            "_view_module_version": "1.2.0",
            "_view_name": "StyleView",
            "description_width": ""
          }
        },
        "53add5126d8d4776a6ccedda7386b1dc": {
          "model_module": "@jupyter-widgets/base",
          "model_name": "LayoutModel",
          "model_module_version": "1.2.0",
          "state": {
            "_model_module": "@jupyter-widgets/base",
            "_model_module_version": "1.2.0",
            "_model_name": "LayoutModel",
            "_view_count": null,
            "_view_module": "@jupyter-widgets/base",
            "_view_module_version": "1.2.0",
            "_view_name": "LayoutView",
            "align_content": null,
            "align_items": null,
            "align_self": null,
            "border": null,
            "bottom": null,
            "display": null,
            "flex": null,
            "flex_flow": null,
            "grid_area": null,
            "grid_auto_columns": null,
            "grid_auto_flow": null,
            "grid_auto_rows": null,
            "grid_column": null,
            "grid_gap": null,
            "grid_row": null,
            "grid_template_areas": null,
            "grid_template_columns": null,
            "grid_template_rows": null,
            "height": null,
            "justify_content": null,
            "justify_items": null,
            "left": null,
            "margin": null,
            "max_height": null,
            "max_width": null,
            "min_height": null,
            "min_width": null,
            "object_fit": null,
            "object_position": null,
            "order": null,
            "overflow": null,
            "overflow_x": null,
            "overflow_y": null,
            "padding": null,
            "right": null,
            "top": null,
            "visibility": null,
            "width": null
          }
        },
        "85b9b77369094dc3b9ae1dbbfdda962f": {
          "model_module": "@jupyter-widgets/controls",
          "model_name": "ProgressStyleModel",
          "model_module_version": "1.5.0",
          "state": {
            "_model_module": "@jupyter-widgets/controls",
            "_model_module_version": "1.5.0",
            "_model_name": "ProgressStyleModel",
            "_view_count": null,
            "_view_module": "@jupyter-widgets/base",
            "_view_module_version": "1.2.0",
            "_view_name": "StyleView",
            "bar_color": null,
            "description_width": ""
          }
        },
        "7d98e156c1724499bdfc0582aa5b569d": {
          "model_module": "@jupyter-widgets/base",
          "model_name": "LayoutModel",
          "model_module_version": "1.2.0",
          "state": {
            "_model_module": "@jupyter-widgets/base",
            "_model_module_version": "1.2.0",
            "_model_name": "LayoutModel",
            "_view_count": null,
            "_view_module": "@jupyter-widgets/base",
            "_view_module_version": "1.2.0",
            "_view_name": "LayoutView",
            "align_content": null,
            "align_items": null,
            "align_self": null,
            "border": null,
            "bottom": null,
            "display": null,
            "flex": null,
            "flex_flow": null,
            "grid_area": null,
            "grid_auto_columns": null,
            "grid_auto_flow": null,
            "grid_auto_rows": null,
            "grid_column": null,
            "grid_gap": null,
            "grid_row": null,
            "grid_template_areas": null,
            "grid_template_columns": null,
            "grid_template_rows": null,
            "height": null,
            "justify_content": null,
            "justify_items": null,
            "left": null,
            "margin": null,
            "max_height": null,
            "max_width": null,
            "min_height": null,
            "min_width": null,
            "object_fit": null,
            "object_position": null,
            "order": null,
            "overflow": null,
            "overflow_x": null,
            "overflow_y": null,
            "padding": null,
            "right": null,
            "top": null,
            "visibility": null,
            "width": null
          }
        },
        "054feb75596a42f6af013da1cb1dfd93": {
          "model_module": "@jupyter-widgets/controls",
          "model_name": "DescriptionStyleModel",
          "model_module_version": "1.5.0",
          "state": {
            "_model_module": "@jupyter-widgets/controls",
            "_model_module_version": "1.5.0",
            "_model_name": "DescriptionStyleModel",
            "_view_count": null,
            "_view_module": "@jupyter-widgets/base",
            "_view_module_version": "1.2.0",
            "_view_name": "StyleView",
            "description_width": ""
          }
        },
        "1f8d50ba4e284fd599c0bf4f56c2ec1d": {
          "model_module": "@jupyter-widgets/controls",
          "model_name": "HBoxModel",
          "model_module_version": "1.5.0",
          "state": {
            "_dom_classes": [],
            "_model_module": "@jupyter-widgets/controls",
            "_model_module_version": "1.5.0",
            "_model_name": "HBoxModel",
            "_view_count": null,
            "_view_module": "@jupyter-widgets/controls",
            "_view_module_version": "1.5.0",
            "_view_name": "HBoxView",
            "box_style": "",
            "children": [
              "IPY_MODEL_4149f8db26044f62bf18fa160c718122",
              "IPY_MODEL_235e505b88384ccab3902d6c8ef7208d",
              "IPY_MODEL_f7711c8924304754b7660bd90fd8b16e"
            ],
            "layout": "IPY_MODEL_e2a0269253bc4b19950df983a8134bcd"
          }
        },
        "4149f8db26044f62bf18fa160c718122": {
          "model_module": "@jupyter-widgets/controls",
          "model_name": "HTMLModel",
          "model_module_version": "1.5.0",
          "state": {
            "_dom_classes": [],
            "_model_module": "@jupyter-widgets/controls",
            "_model_module_version": "1.5.0",
            "_model_name": "HTMLModel",
            "_view_count": null,
            "_view_module": "@jupyter-widgets/controls",
            "_view_module_version": "1.5.0",
            "_view_name": "HTMLView",
            "description": "",
            "description_tooltip": null,
            "layout": "IPY_MODEL_22ae76f79f0c457f8644b9369ad038a7",
            "placeholder": "​",
            "style": "IPY_MODEL_112998a300234ee6a3d7f7fcab31a4c7",
            "value": "Downloading: 100%"
          }
        },
        "235e505b88384ccab3902d6c8ef7208d": {
          "model_module": "@jupyter-widgets/controls",
          "model_name": "FloatProgressModel",
          "model_module_version": "1.5.0",
          "state": {
            "_dom_classes": [],
            "_model_module": "@jupyter-widgets/controls",
            "_model_module_version": "1.5.0",
            "_model_name": "FloatProgressModel",
            "_view_count": null,
            "_view_module": "@jupyter-widgets/controls",
            "_view_module_version": "1.5.0",
            "_view_name": "ProgressView",
            "bar_style": "success",
            "description": "",
            "description_tooltip": null,
            "layout": "IPY_MODEL_3ddbf5bdd5bf45588f335ab4ca322eaf",
            "max": 112,
            "min": 0,
            "orientation": "horizontal",
            "style": "IPY_MODEL_ee51d643b01044d0b95ca76b9b395f59",
            "value": 112
          }
        },
        "f7711c8924304754b7660bd90fd8b16e": {
          "model_module": "@jupyter-widgets/controls",
          "model_name": "HTMLModel",
          "model_module_version": "1.5.0",
          "state": {
            "_dom_classes": [],
            "_model_module": "@jupyter-widgets/controls",
            "_model_module_version": "1.5.0",
            "_model_name": "HTMLModel",
            "_view_count": null,
            "_view_module": "@jupyter-widgets/controls",
            "_view_module_version": "1.5.0",
            "_view_name": "HTMLView",
            "description": "",
            "description_tooltip": null,
            "layout": "IPY_MODEL_52928ab3fba64d7dac9ccdaa83fe218f",
            "placeholder": "​",
            "style": "IPY_MODEL_379b2853471b4938874e67a952f84aac",
            "value": " 112/112 [00:00&lt;00:00, 1.46kB/s]"
          }
        },
        "e2a0269253bc4b19950df983a8134bcd": {
          "model_module": "@jupyter-widgets/base",
          "model_name": "LayoutModel",
          "model_module_version": "1.2.0",
          "state": {
            "_model_module": "@jupyter-widgets/base",
            "_model_module_version": "1.2.0",
            "_model_name": "LayoutModel",
            "_view_count": null,
            "_view_module": "@jupyter-widgets/base",
            "_view_module_version": "1.2.0",
            "_view_name": "LayoutView",
            "align_content": null,
            "align_items": null,
            "align_self": null,
            "border": null,
            "bottom": null,
            "display": null,
            "flex": null,
            "flex_flow": null,
            "grid_area": null,
            "grid_auto_columns": null,
            "grid_auto_flow": null,
            "grid_auto_rows": null,
            "grid_column": null,
            "grid_gap": null,
            "grid_row": null,
            "grid_template_areas": null,
            "grid_template_columns": null,
            "grid_template_rows": null,
            "height": null,
            "justify_content": null,
            "justify_items": null,
            "left": null,
            "margin": null,
            "max_height": null,
            "max_width": null,
            "min_height": null,
            "min_width": null,
            "object_fit": null,
            "object_position": null,
            "order": null,
            "overflow": null,
            "overflow_x": null,
            "overflow_y": null,
            "padding": null,
            "right": null,
            "top": null,
            "visibility": null,
            "width": null
          }
        },
        "22ae76f79f0c457f8644b9369ad038a7": {
          "model_module": "@jupyter-widgets/base",
          "model_name": "LayoutModel",
          "model_module_version": "1.2.0",
          "state": {
            "_model_module": "@jupyter-widgets/base",
            "_model_module_version": "1.2.0",
            "_model_name": "LayoutModel",
            "_view_count": null,
            "_view_module": "@jupyter-widgets/base",
            "_view_module_version": "1.2.0",
            "_view_name": "LayoutView",
            "align_content": null,
            "align_items": null,
            "align_self": null,
            "border": null,
            "bottom": null,
            "display": null,
            "flex": null,
            "flex_flow": null,
            "grid_area": null,
            "grid_auto_columns": null,
            "grid_auto_flow": null,
            "grid_auto_rows": null,
            "grid_column": null,
            "grid_gap": null,
            "grid_row": null,
            "grid_template_areas": null,
            "grid_template_columns": null,
            "grid_template_rows": null,
            "height": null,
            "justify_content": null,
            "justify_items": null,
            "left": null,
            "margin": null,
            "max_height": null,
            "max_width": null,
            "min_height": null,
            "min_width": null,
            "object_fit": null,
            "object_position": null,
            "order": null,
            "overflow": null,
            "overflow_x": null,
            "overflow_y": null,
            "padding": null,
            "right": null,
            "top": null,
            "visibility": null,
            "width": null
          }
        },
        "112998a300234ee6a3d7f7fcab31a4c7": {
          "model_module": "@jupyter-widgets/controls",
          "model_name": "DescriptionStyleModel",
          "model_module_version": "1.5.0",
          "state": {
            "_model_module": "@jupyter-widgets/controls",
            "_model_module_version": "1.5.0",
            "_model_name": "DescriptionStyleModel",
            "_view_count": null,
            "_view_module": "@jupyter-widgets/base",
            "_view_module_version": "1.2.0",
            "_view_name": "StyleView",
            "description_width": ""
          }
        },
        "3ddbf5bdd5bf45588f335ab4ca322eaf": {
          "model_module": "@jupyter-widgets/base",
          "model_name": "LayoutModel",
          "model_module_version": "1.2.0",
          "state": {
            "_model_module": "@jupyter-widgets/base",
            "_model_module_version": "1.2.0",
            "_model_name": "LayoutModel",
            "_view_count": null,
            "_view_module": "@jupyter-widgets/base",
            "_view_module_version": "1.2.0",
            "_view_name": "LayoutView",
            "align_content": null,
            "align_items": null,
            "align_self": null,
            "border": null,
            "bottom": null,
            "display": null,
            "flex": null,
            "flex_flow": null,
            "grid_area": null,
            "grid_auto_columns": null,
            "grid_auto_flow": null,
            "grid_auto_rows": null,
            "grid_column": null,
            "grid_gap": null,
            "grid_row": null,
            "grid_template_areas": null,
            "grid_template_columns": null,
            "grid_template_rows": null,
            "height": null,
            "justify_content": null,
            "justify_items": null,
            "left": null,
            "margin": null,
            "max_height": null,
            "max_width": null,
            "min_height": null,
            "min_width": null,
            "object_fit": null,
            "object_position": null,
            "order": null,
            "overflow": null,
            "overflow_x": null,
            "overflow_y": null,
            "padding": null,
            "right": null,
            "top": null,
            "visibility": null,
            "width": null
          }
        },
        "ee51d643b01044d0b95ca76b9b395f59": {
          "model_module": "@jupyter-widgets/controls",
          "model_name": "ProgressStyleModel",
          "model_module_version": "1.5.0",
          "state": {
            "_model_module": "@jupyter-widgets/controls",
            "_model_module_version": "1.5.0",
            "_model_name": "ProgressStyleModel",
            "_view_count": null,
            "_view_module": "@jupyter-widgets/base",
            "_view_module_version": "1.2.0",
            "_view_name": "StyleView",
            "bar_color": null,
            "description_width": ""
          }
        },
        "52928ab3fba64d7dac9ccdaa83fe218f": {
          "model_module": "@jupyter-widgets/base",
          "model_name": "LayoutModel",
          "model_module_version": "1.2.0",
          "state": {
            "_model_module": "@jupyter-widgets/base",
            "_model_module_version": "1.2.0",
            "_model_name": "LayoutModel",
            "_view_count": null,
            "_view_module": "@jupyter-widgets/base",
            "_view_module_version": "1.2.0",
            "_view_name": "LayoutView",
            "align_content": null,
            "align_items": null,
            "align_self": null,
            "border": null,
            "bottom": null,
            "display": null,
            "flex": null,
            "flex_flow": null,
            "grid_area": null,
            "grid_auto_columns": null,
            "grid_auto_flow": null,
            "grid_auto_rows": null,
            "grid_column": null,
            "grid_gap": null,
            "grid_row": null,
            "grid_template_areas": null,
            "grid_template_columns": null,
            "grid_template_rows": null,
            "height": null,
            "justify_content": null,
            "justify_items": null,
            "left": null,
            "margin": null,
            "max_height": null,
            "max_width": null,
            "min_height": null,
            "min_width": null,
            "object_fit": null,
            "object_position": null,
            "order": null,
            "overflow": null,
            "overflow_x": null,
            "overflow_y": null,
            "padding": null,
            "right": null,
            "top": null,
            "visibility": null,
            "width": null
          }
        },
        "379b2853471b4938874e67a952f84aac": {
          "model_module": "@jupyter-widgets/controls",
          "model_name": "DescriptionStyleModel",
          "model_module_version": "1.5.0",
          "state": {
            "_model_module": "@jupyter-widgets/controls",
            "_model_module_version": "1.5.0",
            "_model_name": "DescriptionStyleModel",
            "_view_count": null,
            "_view_module": "@jupyter-widgets/base",
            "_view_module_version": "1.2.0",
            "_view_name": "StyleView",
            "description_width": ""
          }
        },
        "fd2070005a8c46a2b418592765ee68dc": {
          "model_module": "@jupyter-widgets/controls",
          "model_name": "HBoxModel",
          "model_module_version": "1.5.0",
          "state": {
            "_dom_classes": [],
            "_model_module": "@jupyter-widgets/controls",
            "_model_module_version": "1.5.0",
            "_model_name": "HBoxModel",
            "_view_count": null,
            "_view_module": "@jupyter-widgets/controls",
            "_view_module_version": "1.5.0",
            "_view_name": "HBoxView",
            "box_style": "",
            "children": [
              "IPY_MODEL_47f361c389384570ae6ad8f87f00c273",
              "IPY_MODEL_44db999025c14d2db4e80f78dbaec9a3",
              "IPY_MODEL_68d0f67ed8054ca484bec6a5ce111978"
            ],
            "layout": "IPY_MODEL_6f3580da05a346488aab50aef8eedd2b"
          }
        },
        "47f361c389384570ae6ad8f87f00c273": {
          "model_module": "@jupyter-widgets/controls",
          "model_name": "HTMLModel",
          "model_module_version": "1.5.0",
          "state": {
            "_dom_classes": [],
            "_model_module": "@jupyter-widgets/controls",
            "_model_module_version": "1.5.0",
            "_model_name": "HTMLModel",
            "_view_count": null,
            "_view_module": "@jupyter-widgets/controls",
            "_view_module_version": "1.5.0",
            "_view_name": "HTMLView",
            "description": "",
            "description_tooltip": null,
            "layout": "IPY_MODEL_1a52df91ab374b90a953a58b4f0dfae9",
            "placeholder": "​",
            "style": "IPY_MODEL_21dd67e9974342d1978c285045ccb6e3",
            "value": "Downloading: 100%"
          }
        },
        "44db999025c14d2db4e80f78dbaec9a3": {
          "model_module": "@jupyter-widgets/controls",
          "model_name": "FloatProgressModel",
          "model_module_version": "1.5.0",
          "state": {
            "_dom_classes": [],
            "_model_module": "@jupyter-widgets/controls",
            "_model_module_version": "1.5.0",
            "_model_name": "FloatProgressModel",
            "_view_count": null,
            "_view_module": "@jupyter-widgets/controls",
            "_view_module_version": "1.5.0",
            "_view_name": "ProgressView",
            "bar_style": "success",
            "description": "",
            "description_tooltip": null,
            "layout": "IPY_MODEL_27e044b5bc7e4ab795a07908e2c78ad2",
            "max": 376,
            "min": 0,
            "orientation": "horizontal",
            "style": "IPY_MODEL_d666242a9be64c09937410178fb5b8b9",
            "value": 376
          }
        },
        "68d0f67ed8054ca484bec6a5ce111978": {
          "model_module": "@jupyter-widgets/controls",
          "model_name": "HTMLModel",
          "model_module_version": "1.5.0",
          "state": {
            "_dom_classes": [],
            "_model_module": "@jupyter-widgets/controls",
            "_model_module_version": "1.5.0",
            "_model_name": "HTMLModel",
            "_view_count": null,
            "_view_module": "@jupyter-widgets/controls",
            "_view_module_version": "1.5.0",
            "_view_name": "HTMLView",
            "description": "",
            "description_tooltip": null,
            "layout": "IPY_MODEL_d71eb34504024792b0090dd1e7337276",
            "placeholder": "​",
            "style": "IPY_MODEL_9ee22b23ec0d4dc6b72b970f1d622acd",
            "value": " 376/376 [00:00&lt;00:00, 4.37kB/s]"
          }
        },
        "6f3580da05a346488aab50aef8eedd2b": {
          "model_module": "@jupyter-widgets/base",
          "model_name": "LayoutModel",
          "model_module_version": "1.2.0",
          "state": {
            "_model_module": "@jupyter-widgets/base",
            "_model_module_version": "1.2.0",
            "_model_name": "LayoutModel",
            "_view_count": null,
            "_view_module": "@jupyter-widgets/base",
            "_view_module_version": "1.2.0",
            "_view_name": "LayoutView",
            "align_content": null,
            "align_items": null,
            "align_self": null,
            "border": null,
            "bottom": null,
            "display": null,
            "flex": null,
            "flex_flow": null,
            "grid_area": null,
            "grid_auto_columns": null,
            "grid_auto_flow": null,
            "grid_auto_rows": null,
            "grid_column": null,
            "grid_gap": null,
            "grid_row": null,
            "grid_template_areas": null,
            "grid_template_columns": null,
            "grid_template_rows": null,
            "height": null,
            "justify_content": null,
            "justify_items": null,
            "left": null,
            "margin": null,
            "max_height": null,
            "max_width": null,
            "min_height": null,
            "min_width": null,
            "object_fit": null,
            "object_position": null,
            "order": null,
            "overflow": null,
            "overflow_x": null,
            "overflow_y": null,
            "padding": null,
            "right": null,
            "top": null,
            "visibility": null,
            "width": null
          }
        },
        "1a52df91ab374b90a953a58b4f0dfae9": {
          "model_module": "@jupyter-widgets/base",
          "model_name": "LayoutModel",
          "model_module_version": "1.2.0",
          "state": {
            "_model_module": "@jupyter-widgets/base",
            "_model_module_version": "1.2.0",
            "_model_name": "LayoutModel",
            "_view_count": null,
            "_view_module": "@jupyter-widgets/base",
            "_view_module_version": "1.2.0",
            "_view_name": "LayoutView",
            "align_content": null,
            "align_items": null,
            "align_self": null,
            "border": null,
            "bottom": null,
            "display": null,
            "flex": null,
            "flex_flow": null,
            "grid_area": null,
            "grid_auto_columns": null,
            "grid_auto_flow": null,
            "grid_auto_rows": null,
            "grid_column": null,
            "grid_gap": null,
            "grid_row": null,
            "grid_template_areas": null,
            "grid_template_columns": null,
            "grid_template_rows": null,
            "height": null,
            "justify_content": null,
            "justify_items": null,
            "left": null,
            "margin": null,
            "max_height": null,
            "max_width": null,
            "min_height": null,
            "min_width": null,
            "object_fit": null,
            "object_position": null,
            "order": null,
            "overflow": null,
            "overflow_x": null,
            "overflow_y": null,
            "padding": null,
            "right": null,
            "top": null,
            "visibility": null,
            "width": null
          }
        },
        "21dd67e9974342d1978c285045ccb6e3": {
          "model_module": "@jupyter-widgets/controls",
          "model_name": "DescriptionStyleModel",
          "model_module_version": "1.5.0",
          "state": {
            "_model_module": "@jupyter-widgets/controls",
            "_model_module_version": "1.5.0",
            "_model_name": "DescriptionStyleModel",
            "_view_count": null,
            "_view_module": "@jupyter-widgets/base",
            "_view_module_version": "1.2.0",
            "_view_name": "StyleView",
            "description_width": ""
          }
        },
        "27e044b5bc7e4ab795a07908e2c78ad2": {
          "model_module": "@jupyter-widgets/base",
          "model_name": "LayoutModel",
          "model_module_version": "1.2.0",
          "state": {
            "_model_module": "@jupyter-widgets/base",
            "_model_module_version": "1.2.0",
            "_model_name": "LayoutModel",
            "_view_count": null,
            "_view_module": "@jupyter-widgets/base",
            "_view_module_version": "1.2.0",
            "_view_name": "LayoutView",
            "align_content": null,
            "align_items": null,
            "align_self": null,
            "border": null,
            "bottom": null,
            "display": null,
            "flex": null,
            "flex_flow": null,
            "grid_area": null,
            "grid_auto_columns": null,
            "grid_auto_flow": null,
            "grid_auto_rows": null,
            "grid_column": null,
            "grid_gap": null,
            "grid_row": null,
            "grid_template_areas": null,
            "grid_template_columns": null,
            "grid_template_rows": null,
            "height": null,
            "justify_content": null,
            "justify_items": null,
            "left": null,
            "margin": null,
            "max_height": null,
            "max_width": null,
            "min_height": null,
            "min_width": null,
            "object_fit": null,
            "object_position": null,
            "order": null,
            "overflow": null,
            "overflow_x": null,
            "overflow_y": null,
            "padding": null,
            "right": null,
            "top": null,
            "visibility": null,
            "width": null
          }
        },
        "d666242a9be64c09937410178fb5b8b9": {
          "model_module": "@jupyter-widgets/controls",
          "model_name": "ProgressStyleModel",
          "model_module_version": "1.5.0",
          "state": {
            "_model_module": "@jupyter-widgets/controls",
            "_model_module_version": "1.5.0",
            "_model_name": "ProgressStyleModel",
            "_view_count": null,
            "_view_module": "@jupyter-widgets/base",
            "_view_module_version": "1.2.0",
            "_view_name": "StyleView",
            "bar_color": null,
            "description_width": ""
          }
        },
        "d71eb34504024792b0090dd1e7337276": {
          "model_module": "@jupyter-widgets/base",
          "model_name": "LayoutModel",
          "model_module_version": "1.2.0",
          "state": {
            "_model_module": "@jupyter-widgets/base",
            "_model_module_version": "1.2.0",
            "_model_name": "LayoutModel",
            "_view_count": null,
            "_view_module": "@jupyter-widgets/base",
            "_view_module_version": "1.2.0",
            "_view_name": "LayoutView",
            "align_content": null,
            "align_items": null,
            "align_self": null,
            "border": null,
            "bottom": null,
            "display": null,
            "flex": null,
            "flex_flow": null,
            "grid_area": null,
            "grid_auto_columns": null,
            "grid_auto_flow": null,
            "grid_auto_rows": null,
            "grid_column": null,
            "grid_gap": null,
            "grid_row": null,
            "grid_template_areas": null,
            "grid_template_columns": null,
            "grid_template_rows": null,
            "height": null,
            "justify_content": null,
            "justify_items": null,
            "left": null,
            "margin": null,
            "max_height": null,
            "max_width": null,
            "min_height": null,
            "min_width": null,
            "object_fit": null,
            "object_position": null,
            "order": null,
            "overflow": null,
            "overflow_x": null,
            "overflow_y": null,
            "padding": null,
            "right": null,
            "top": null,
            "visibility": null,
            "width": null
          }
        },
        "9ee22b23ec0d4dc6b72b970f1d622acd": {
          "model_module": "@jupyter-widgets/controls",
          "model_name": "DescriptionStyleModel",
          "model_module_version": "1.5.0",
          "state": {
            "_model_module": "@jupyter-widgets/controls",
            "_model_module_version": "1.5.0",
            "_model_name": "DescriptionStyleModel",
            "_view_count": null,
            "_view_module": "@jupyter-widgets/base",
            "_view_module_version": "1.2.0",
            "_view_name": "StyleView",
            "description_width": ""
          }
        },
        "e8bc5a68aa3140b58628d7b9e56793ab": {
          "model_module": "@jupyter-widgets/controls",
          "model_name": "HBoxModel",
          "model_module_version": "1.5.0",
          "state": {
            "_dom_classes": [],
            "_model_module": "@jupyter-widgets/controls",
            "_model_module_version": "1.5.0",
            "_model_name": "HBoxModel",
            "_view_count": null,
            "_view_module": "@jupyter-widgets/controls",
            "_view_module_version": "1.5.0",
            "_view_name": "HBoxView",
            "box_style": "",
            "children": [
              "IPY_MODEL_3397a179e2334f1ab3f1ceeadce85497",
              "IPY_MODEL_028439d207d04ca5978fd47513426362",
              "IPY_MODEL_a9d0880f328a4796bf64303b97fdab3e"
            ],
            "layout": "IPY_MODEL_8a771c4b12334a71b6c9b75e4ac2f203"
          }
        },
        "3397a179e2334f1ab3f1ceeadce85497": {
          "model_module": "@jupyter-widgets/controls",
          "model_name": "HTMLModel",
          "model_module_version": "1.5.0",
          "state": {
            "_dom_classes": [],
            "_model_module": "@jupyter-widgets/controls",
            "_model_module_version": "1.5.0",
            "_model_name": "HTMLModel",
            "_view_count": null,
            "_view_module": "@jupyter-widgets/controls",
            "_view_module_version": "1.5.0",
            "_view_name": "HTMLView",
            "description": "",
            "description_tooltip": null,
            "layout": "IPY_MODEL_0552da96c558413090e2f85c4c28b2b4",
            "placeholder": "​",
            "style": "IPY_MODEL_9f3c3a890f72454e9bc2c9f49a88b611",
            "value": "Downloading: 100%"
          }
        },
        "028439d207d04ca5978fd47513426362": {
          "model_module": "@jupyter-widgets/controls",
          "model_name": "FloatProgressModel",
          "model_module_version": "1.5.0",
          "state": {
            "_dom_classes": [],
            "_model_module": "@jupyter-widgets/controls",
            "_model_module_version": "1.5.0",
            "_model_name": "FloatProgressModel",
            "_view_count": null,
            "_view_module": "@jupyter-widgets/controls",
            "_view_module_version": "1.5.0",
            "_view_name": "ProgressView",
            "bar_style": "success",
            "description": "",
            "description_tooltip": null,
            "layout": "IPY_MODEL_f58fe2fc30b848b28f8fdbc2cca15617",
            "max": 654186400,
            "min": 0,
            "orientation": "horizontal",
            "style": "IPY_MODEL_35078a5aaf6d4ea684fdf8f16c4f4aba",
            "value": 654186400
          }
        },
        "a9d0880f328a4796bf64303b97fdab3e": {
          "model_module": "@jupyter-widgets/controls",
          "model_name": "HTMLModel",
          "model_module_version": "1.5.0",
          "state": {
            "_dom_classes": [],
            "_model_module": "@jupyter-widgets/controls",
            "_model_module_version": "1.5.0",
            "_model_name": "HTMLModel",
            "_view_count": null,
            "_view_module": "@jupyter-widgets/controls",
            "_view_module_version": "1.5.0",
            "_view_name": "HTMLView",
            "description": "",
            "description_tooltip": null,
            "layout": "IPY_MODEL_47f89dc18a3d430f97d7176fa07b555a",
            "placeholder": "​",
            "style": "IPY_MODEL_fd2671151ffa4430be93718b1ae632ee",
            "value": " 654M/654M [00:42&lt;00:00, 16.1MB/s]"
          }
        },
        "8a771c4b12334a71b6c9b75e4ac2f203": {
          "model_module": "@jupyter-widgets/base",
          "model_name": "LayoutModel",
          "model_module_version": "1.2.0",
          "state": {
            "_model_module": "@jupyter-widgets/base",
            "_model_module_version": "1.2.0",
            "_model_name": "LayoutModel",
            "_view_count": null,
            "_view_module": "@jupyter-widgets/base",
            "_view_module_version": "1.2.0",
            "_view_name": "LayoutView",
            "align_content": null,
            "align_items": null,
            "align_self": null,
            "border": null,
            "bottom": null,
            "display": null,
            "flex": null,
            "flex_flow": null,
            "grid_area": null,
            "grid_auto_columns": null,
            "grid_auto_flow": null,
            "grid_auto_rows": null,
            "grid_column": null,
            "grid_gap": null,
            "grid_row": null,
            "grid_template_areas": null,
            "grid_template_columns": null,
            "grid_template_rows": null,
            "height": null,
            "justify_content": null,
            "justify_items": null,
            "left": null,
            "margin": null,
            "max_height": null,
            "max_width": null,
            "min_height": null,
            "min_width": null,
            "object_fit": null,
            "object_position": null,
            "order": null,
            "overflow": null,
            "overflow_x": null,
            "overflow_y": null,
            "padding": null,
            "right": null,
            "top": null,
            "visibility": null,
            "width": null
          }
        },
        "0552da96c558413090e2f85c4c28b2b4": {
          "model_module": "@jupyter-widgets/base",
          "model_name": "LayoutModel",
          "model_module_version": "1.2.0",
          "state": {
            "_model_module": "@jupyter-widgets/base",
            "_model_module_version": "1.2.0",
            "_model_name": "LayoutModel",
            "_view_count": null,
            "_view_module": "@jupyter-widgets/base",
            "_view_module_version": "1.2.0",
            "_view_name": "LayoutView",
            "align_content": null,
            "align_items": null,
            "align_self": null,
            "border": null,
            "bottom": null,
            "display": null,
            "flex": null,
            "flex_flow": null,
            "grid_area": null,
            "grid_auto_columns": null,
            "grid_auto_flow": null,
            "grid_auto_rows": null,
            "grid_column": null,
            "grid_gap": null,
            "grid_row": null,
            "grid_template_areas": null,
            "grid_template_columns": null,
            "grid_template_rows": null,
            "height": null,
            "justify_content": null,
            "justify_items": null,
            "left": null,
            "margin": null,
            "max_height": null,
            "max_width": null,
            "min_height": null,
            "min_width": null,
            "object_fit": null,
            "object_position": null,
            "order": null,
            "overflow": null,
            "overflow_x": null,
            "overflow_y": null,
            "padding": null,
            "right": null,
            "top": null,
            "visibility": null,
            "width": null
          }
        },
        "9f3c3a890f72454e9bc2c9f49a88b611": {
          "model_module": "@jupyter-widgets/controls",
          "model_name": "DescriptionStyleModel",
          "model_module_version": "1.5.0",
          "state": {
            "_model_module": "@jupyter-widgets/controls",
            "_model_module_version": "1.5.0",
            "_model_name": "DescriptionStyleModel",
            "_view_count": null,
            "_view_module": "@jupyter-widgets/base",
            "_view_module_version": "1.2.0",
            "_view_name": "StyleView",
            "description_width": ""
          }
        },
        "f58fe2fc30b848b28f8fdbc2cca15617": {
          "model_module": "@jupyter-widgets/base",
          "model_name": "LayoutModel",
          "model_module_version": "1.2.0",
          "state": {
            "_model_module": "@jupyter-widgets/base",
            "_model_module_version": "1.2.0",
            "_model_name": "LayoutModel",
            "_view_count": null,
            "_view_module": "@jupyter-widgets/base",
            "_view_module_version": "1.2.0",
            "_view_name": "LayoutView",
            "align_content": null,
            "align_items": null,
            "align_self": null,
            "border": null,
            "bottom": null,
            "display": null,
            "flex": null,
            "flex_flow": null,
            "grid_area": null,
            "grid_auto_columns": null,
            "grid_auto_flow": null,
            "grid_auto_rows": null,
            "grid_column": null,
            "grid_gap": null,
            "grid_row": null,
            "grid_template_areas": null,
            "grid_template_columns": null,
            "grid_template_rows": null,
            "height": null,
            "justify_content": null,
            "justify_items": null,
            "left": null,
            "margin": null,
            "max_height": null,
            "max_width": null,
            "min_height": null,
            "min_width": null,
            "object_fit": null,
            "object_position": null,
            "order": null,
            "overflow": null,
            "overflow_x": null,
            "overflow_y": null,
            "padding": null,
            "right": null,
            "top": null,
            "visibility": null,
            "width": null
          }
        },
        "35078a5aaf6d4ea684fdf8f16c4f4aba": {
          "model_module": "@jupyter-widgets/controls",
          "model_name": "ProgressStyleModel",
          "model_module_version": "1.5.0",
          "state": {
            "_model_module": "@jupyter-widgets/controls",
            "_model_module_version": "1.5.0",
            "_model_name": "ProgressStyleModel",
            "_view_count": null,
            "_view_module": "@jupyter-widgets/base",
            "_view_module_version": "1.2.0",
            "_view_name": "StyleView",
            "bar_color": null,
            "description_width": ""
          }
        },
        "47f89dc18a3d430f97d7176fa07b555a": {
          "model_module": "@jupyter-widgets/base",
          "model_name": "LayoutModel",
          "model_module_version": "1.2.0",
          "state": {
            "_model_module": "@jupyter-widgets/base",
            "_model_module_version": "1.2.0",
            "_model_name": "LayoutModel",
            "_view_count": null,
            "_view_module": "@jupyter-widgets/base",
            "_view_module_version": "1.2.0",
            "_view_name": "LayoutView",
            "align_content": null,
            "align_items": null,
            "align_self": null,
            "border": null,
            "bottom": null,
            "display": null,
            "flex": null,
            "flex_flow": null,
            "grid_area": null,
            "grid_auto_columns": null,
            "grid_auto_flow": null,
            "grid_auto_rows": null,
            "grid_column": null,
            "grid_gap": null,
            "grid_row": null,
            "grid_template_areas": null,
            "grid_template_columns": null,
            "grid_template_rows": null,
            "height": null,
            "justify_content": null,
            "justify_items": null,
            "left": null,
            "margin": null,
            "max_height": null,
            "max_width": null,
            "min_height": null,
            "min_width": null,
            "object_fit": null,
            "object_position": null,
            "order": null,
            "overflow": null,
            "overflow_x": null,
            "overflow_y": null,
            "padding": null,
            "right": null,
            "top": null,
            "visibility": null,
            "width": null
          }
        },
        "fd2671151ffa4430be93718b1ae632ee": {
          "model_module": "@jupyter-widgets/controls",
          "model_name": "DescriptionStyleModel",
          "model_module_version": "1.5.0",
          "state": {
            "_model_module": "@jupyter-widgets/controls",
            "_model_module_version": "1.5.0",
            "_model_name": "DescriptionStyleModel",
            "_view_count": null,
            "_view_module": "@jupyter-widgets/base",
            "_view_module_version": "1.2.0",
            "_view_name": "StyleView",
            "description_width": ""
          }
        }
      }
    }
  },
  "cells": [
    {
      "cell_type": "markdown",
      "metadata": {
        "id": "g4mZ8KYblg-g"
      },
      "source": [
        "#installing dependencies"
      ]
    },
    {
      "cell_type": "markdown",
      "source": [
        "# New Section"
      ],
      "metadata": {
        "id": "1ZidYpCuKVnU"
      }
    },
    {
      "cell_type": "code",
      "metadata": {
        "id": "C4tlwQ8si_FI",
        "colab": {
          "base_uri": "https://localhost:8080/"
        },
        "outputId": "24b6fe79-1521-41fe-996d-afcfd3691bf6"
      },
      "source": [
        "import torch\n",
        "\n",
        "# If there's a GPU available...\n",
        "if torch.cuda.is_available():    \n",
        "\n",
        "    # Tell PyTorch to use the GPU.\n",
        "    device = torch.device(\"cuda\")\n",
        "\n",
        "    print('There are %d GPU(s) available.' % torch.cuda.device_count())\n",
        "\n",
        "    print('We will use the GPU:', torch.cuda.get_device_name(0))\n",
        "    !nvidia-smi\n",
        "\n",
        "# If not...\n",
        "else:\n",
        "    print('No GPU available, using the CPU instead.')\n",
        "    device = torch.device(\"cpu\")"
      ],
      "execution_count": null,
      "outputs": [
        {
          "output_type": "stream",
          "name": "stdout",
          "text": [
            "There are 1 GPU(s) available.\n",
            "We will use the GPU: Tesla K80\n",
            "Mon Mar 28 20:50:06 2022       \n",
            "+-----------------------------------------------------------------------------+\n",
            "| NVIDIA-SMI 460.32.03    Driver Version: 460.32.03    CUDA Version: 11.2     |\n",
            "|-------------------------------+----------------------+----------------------+\n",
            "| GPU  Name        Persistence-M| Bus-Id        Disp.A | Volatile Uncorr. ECC |\n",
            "| Fan  Temp  Perf  Pwr:Usage/Cap|         Memory-Usage | GPU-Util  Compute M. |\n",
            "|                               |                      |               MIG M. |\n",
            "|===============================+======================+======================|\n",
            "|   0  Tesla K80           Off  | 00000000:00:04.0 Off |                    0 |\n",
            "| N/A   33C    P8    29W / 149W |      3MiB / 11441MiB |      0%      Default |\n",
            "|                               |                      |                  N/A |\n",
            "+-------------------------------+----------------------+----------------------+\n",
            "                                                                               \n",
            "+-----------------------------------------------------------------------------+\n",
            "| Processes:                                                                  |\n",
            "|  GPU   GI   CI        PID   Type   Process name                  GPU Memory |\n",
            "|        ID   ID                                                   Usage      |\n",
            "|=============================================================================|\n",
            "|  No running processes found                                                 |\n",
            "+-----------------------------------------------------------------------------+\n"
          ]
        }
      ]
    },
    {
      "cell_type": "code",
      "metadata": {
        "id": "y024z5AnlTLz",
        "colab": {
          "base_uri": "https://localhost:8080/"
        },
        "outputId": "e960c5ac-1dbb-41b0-fa4b-2ed33518be0d"
      },
      "source": [
        "!pip install optuna==2.3.0\n",
        "!pip install transformers==4.2.1\n",
        "!pip install farasapy\n",
        "!pip install pyarabic\n",
        "!git clone https://github.com/aub-mind/arabert\n",
        "!wget https://huggingface.co/UBC-NLP/MARBERT/resolve/main/MARBERT_pytorch_verison.tar.gz\n",
        "!tar -xvf MARBERT_pytorch_verison.tar.gz\n",
        "!wget https://raw.githubusercontent.com/UBC-NLP/marbert/main/examples/UBC_AJGT_final_shuffled_train.tsv\n",
        "!wget https://raw.githubusercontent.com/UBC-NLP/marbert/main/examples/UBC_AJGT_final_shuffled_test.tsv\n",
        "!mkdir -p AJGT\n",
        "!mv UBC_AJGT_final_shuffled_train.tsv ./AJGT/UBC_AJGT_final_shuffled_train.tsv\n",
        "!mv UBC_AJGT_final_shuffled_test.tsv ./AJGT/UBC_AJGT_final_shuffled_test.tsv\n",
        "!pip install GPUtil pytorch_pretrained_bert transformers"
      ],
      "execution_count": null,
      "outputs": [
        {
          "output_type": "stream",
          "name": "stdout",
          "text": [
            "Collecting optuna==2.3.0\n",
            "  Downloading optuna-2.3.0.tar.gz (258 kB)\n",
            "\u001b[?25l\r\u001b[K     |█▎                              | 10 kB 17.3 MB/s eta 0:00:01\r\u001b[K     |██▌                             | 20 kB 15.6 MB/s eta 0:00:01\r\u001b[K     |███▉                            | 30 kB 10.1 MB/s eta 0:00:01\r\u001b[K     |█████                           | 40 kB 8.6 MB/s eta 0:00:01\r\u001b[K     |██████▍                         | 51 kB 5.1 MB/s eta 0:00:01\r\u001b[K     |███████▋                        | 61 kB 6.0 MB/s eta 0:00:01\r\u001b[K     |████████▉                       | 71 kB 5.9 MB/s eta 0:00:01\r\u001b[K     |██████████▏                     | 81 kB 5.6 MB/s eta 0:00:01\r\u001b[K     |███████████▍                    | 92 kB 6.2 MB/s eta 0:00:01\r\u001b[K     |████████████▊                   | 102 kB 5.6 MB/s eta 0:00:01\r\u001b[K     |██████████████                  | 112 kB 5.6 MB/s eta 0:00:01\r\u001b[K     |███████████████▏                | 122 kB 5.6 MB/s eta 0:00:01\r\u001b[K     |████████████████▌               | 133 kB 5.6 MB/s eta 0:00:01\r\u001b[K     |█████████████████▊              | 143 kB 5.6 MB/s eta 0:00:01\r\u001b[K     |███████████████████             | 153 kB 5.6 MB/s eta 0:00:01\r\u001b[K     |████████████████████▎           | 163 kB 5.6 MB/s eta 0:00:01\r\u001b[K     |█████████████████████▌          | 174 kB 5.6 MB/s eta 0:00:01\r\u001b[K     |██████████████████████▉         | 184 kB 5.6 MB/s eta 0:00:01\r\u001b[K     |████████████████████████        | 194 kB 5.6 MB/s eta 0:00:01\r\u001b[K     |█████████████████████████▍      | 204 kB 5.6 MB/s eta 0:00:01\r\u001b[K     |██████████████████████████▋     | 215 kB 5.6 MB/s eta 0:00:01\r\u001b[K     |███████████████████████████▉    | 225 kB 5.6 MB/s eta 0:00:01\r\u001b[K     |█████████████████████████████▏  | 235 kB 5.6 MB/s eta 0:00:01\r\u001b[K     |██████████████████████████████▍ | 245 kB 5.6 MB/s eta 0:00:01\r\u001b[K     |███████████████████████████████▊| 256 kB 5.6 MB/s eta 0:00:01\r\u001b[K     |████████████████████████████████| 258 kB 5.6 MB/s \n",
            "\u001b[?25h  Installing build dependencies ... \u001b[?25l\u001b[?25hdone\n",
            "  Getting requirements to build wheel ... \u001b[?25l\u001b[?25hdone\n",
            "    Preparing wheel metadata ... \u001b[?25l\u001b[?25hdone\n",
            "Requirement already satisfied: scipy!=1.4.0 in /usr/local/lib/python3.7/dist-packages (from optuna==2.3.0) (1.4.1)\n",
            "Collecting cmaes>=0.6.0\n",
            "  Downloading cmaes-0.8.2-py3-none-any.whl (15 kB)\n",
            "Requirement already satisfied: packaging>=20.0 in /usr/local/lib/python3.7/dist-packages (from optuna==2.3.0) (21.3)\n",
            "Requirement already satisfied: tqdm in /usr/local/lib/python3.7/dist-packages (from optuna==2.3.0) (4.63.0)\n",
            "Requirement already satisfied: joblib in /usr/local/lib/python3.7/dist-packages (from optuna==2.3.0) (1.1.0)\n",
            "Collecting alembic\n",
            "  Downloading alembic-1.7.7-py3-none-any.whl (210 kB)\n",
            "\u001b[K     |████████████████████████████████| 210 kB 45.4 MB/s \n",
            "\u001b[?25hCollecting cliff\n",
            "  Downloading cliff-3.10.1-py3-none-any.whl (81 kB)\n",
            "\u001b[K     |████████████████████████████████| 81 kB 7.5 MB/s \n",
            "\u001b[?25hRequirement already satisfied: numpy in /usr/local/lib/python3.7/dist-packages (from optuna==2.3.0) (1.21.5)\n",
            "Requirement already satisfied: sqlalchemy>=1.1.0 in /usr/local/lib/python3.7/dist-packages (from optuna==2.3.0) (1.4.32)\n",
            "Collecting colorlog\n",
            "  Downloading colorlog-6.6.0-py2.py3-none-any.whl (11 kB)\n",
            "Requirement already satisfied: pyparsing!=3.0.5,>=2.0.2 in /usr/local/lib/python3.7/dist-packages (from packaging>=20.0->optuna==2.3.0) (3.0.7)\n",
            "Requirement already satisfied: importlib-metadata in /usr/local/lib/python3.7/dist-packages (from sqlalchemy>=1.1.0->optuna==2.3.0) (4.11.3)\n",
            "Requirement already satisfied: greenlet!=0.4.17 in /usr/local/lib/python3.7/dist-packages (from sqlalchemy>=1.1.0->optuna==2.3.0) (1.1.2)\n",
            "Collecting Mako\n",
            "  Downloading Mako-1.2.0-py3-none-any.whl (78 kB)\n",
            "\u001b[K     |████████████████████████████████| 78 kB 7.0 MB/s \n",
            "\u001b[?25hRequirement already satisfied: importlib-resources in /usr/local/lib/python3.7/dist-packages (from alembic->optuna==2.3.0) (5.4.0)\n",
            "Collecting cmd2>=1.0.0\n",
            "  Downloading cmd2-2.4.0-py3-none-any.whl (150 kB)\n",
            "\u001b[K     |████████████████████████████████| 150 kB 50.9 MB/s \n",
            "\u001b[?25hCollecting stevedore>=2.0.1\n",
            "  Downloading stevedore-3.5.0-py3-none-any.whl (49 kB)\n",
            "\u001b[K     |████████████████████████████████| 49 kB 6.0 MB/s \n",
            "\u001b[?25hRequirement already satisfied: PrettyTable>=0.7.2 in /usr/local/lib/python3.7/dist-packages (from cliff->optuna==2.3.0) (3.2.0)\n",
            "Collecting autopage>=0.4.0\n",
            "  Downloading autopage-0.5.0-py3-none-any.whl (29 kB)\n",
            "Collecting pbr!=2.1.0,>=2.0.0\n",
            "  Downloading pbr-5.8.1-py2.py3-none-any.whl (113 kB)\n",
            "\u001b[K     |████████████████████████████████| 113 kB 45.4 MB/s \n",
            "\u001b[?25hRequirement already satisfied: PyYAML>=3.12 in /usr/local/lib/python3.7/dist-packages (from cliff->optuna==2.3.0) (3.13)\n",
            "Requirement already satisfied: attrs>=16.3.0 in /usr/local/lib/python3.7/dist-packages (from cmd2>=1.0.0->cliff->optuna==2.3.0) (21.4.0)\n",
            "Requirement already satisfied: wcwidth>=0.1.7 in /usr/local/lib/python3.7/dist-packages (from cmd2>=1.0.0->cliff->optuna==2.3.0) (0.2.5)\n",
            "Collecting pyperclip>=1.6\n",
            "  Downloading pyperclip-1.8.2.tar.gz (20 kB)\n",
            "Requirement already satisfied: typing-extensions in /usr/local/lib/python3.7/dist-packages (from cmd2>=1.0.0->cliff->optuna==2.3.0) (3.10.0.2)\n",
            "Requirement already satisfied: zipp>=0.5 in /usr/local/lib/python3.7/dist-packages (from importlib-metadata->sqlalchemy>=1.1.0->optuna==2.3.0) (3.7.0)\n",
            "Requirement already satisfied: MarkupSafe>=0.9.2 in /usr/local/lib/python3.7/dist-packages (from Mako->alembic->optuna==2.3.0) (2.0.1)\n",
            "Building wheels for collected packages: optuna, pyperclip\n",
            "  Building wheel for optuna (PEP 517) ... \u001b[?25l\u001b[?25hdone\n",
            "  Created wheel for optuna: filename=optuna-2.3.0-py3-none-any.whl size=359772 sha256=9326df2a68b5231b2bfe7875597c257102a48610d3bf3492058e0b918d3d8b9c\n",
            "  Stored in directory: /root/.cache/pip/wheels/38/61/9e/955ab1890f6cab231b1d756db63f36c711968a324296e0b649\n",
            "  Building wheel for pyperclip (setup.py) ... \u001b[?25l\u001b[?25hdone\n",
            "  Created wheel for pyperclip: filename=pyperclip-1.8.2-py3-none-any.whl size=11137 sha256=3ef5f55013ef2c04d0db1031123ecd0b9fc6150139955431942781d032eae66e\n",
            "  Stored in directory: /root/.cache/pip/wheels/9f/18/84/8f69f8b08169c7bae2dde6bd7daf0c19fca8c8e500ee620a28\n",
            "Successfully built optuna pyperclip\n",
            "Installing collected packages: pyperclip, pbr, stevedore, Mako, cmd2, autopage, colorlog, cmaes, cliff, alembic, optuna\n",
            "Successfully installed Mako-1.2.0 alembic-1.7.7 autopage-0.5.0 cliff-3.10.1 cmaes-0.8.2 cmd2-2.4.0 colorlog-6.6.0 optuna-2.3.0 pbr-5.8.1 pyperclip-1.8.2 stevedore-3.5.0\n",
            "Collecting transformers==4.2.1\n",
            "  Downloading transformers-4.2.1-py3-none-any.whl (1.8 MB)\n",
            "\u001b[K     |████████████████████████████████| 1.8 MB 5.0 MB/s \n",
            "\u001b[?25hRequirement already satisfied: requests in /usr/local/lib/python3.7/dist-packages (from transformers==4.2.1) (2.23.0)\n",
            "Requirement already satisfied: importlib-metadata in /usr/local/lib/python3.7/dist-packages (from transformers==4.2.1) (4.11.3)\n",
            "Requirement already satisfied: packaging in /usr/local/lib/python3.7/dist-packages (from transformers==4.2.1) (21.3)\n",
            "Requirement already satisfied: regex!=2019.12.17 in /usr/local/lib/python3.7/dist-packages (from transformers==4.2.1) (2019.12.20)\n",
            "Collecting tokenizers==0.9.4\n",
            "  Downloading tokenizers-0.9.4-cp37-cp37m-manylinux2010_x86_64.whl (2.9 MB)\n",
            "\u001b[K     |████████████████████████████████| 2.9 MB 35.7 MB/s \n",
            "\u001b[?25hRequirement already satisfied: filelock in /usr/local/lib/python3.7/dist-packages (from transformers==4.2.1) (3.6.0)\n",
            "Collecting sacremoses\n",
            "  Downloading sacremoses-0.0.49-py3-none-any.whl (895 kB)\n",
            "\u001b[K     |████████████████████████████████| 895 kB 43.5 MB/s \n",
            "\u001b[?25hRequirement already satisfied: tqdm>=4.27 in /usr/local/lib/python3.7/dist-packages (from transformers==4.2.1) (4.63.0)\n",
            "Requirement already satisfied: numpy in /usr/local/lib/python3.7/dist-packages (from transformers==4.2.1) (1.21.5)\n",
            "Requirement already satisfied: typing-extensions>=3.6.4 in /usr/local/lib/python3.7/dist-packages (from importlib-metadata->transformers==4.2.1) (3.10.0.2)\n",
            "Requirement already satisfied: zipp>=0.5 in /usr/local/lib/python3.7/dist-packages (from importlib-metadata->transformers==4.2.1) (3.7.0)\n",
            "Requirement already satisfied: pyparsing!=3.0.5,>=2.0.2 in /usr/local/lib/python3.7/dist-packages (from packaging->transformers==4.2.1) (3.0.7)\n",
            "Requirement already satisfied: idna<3,>=2.5 in /usr/local/lib/python3.7/dist-packages (from requests->transformers==4.2.1) (2.10)\n",
            "Requirement already satisfied: chardet<4,>=3.0.2 in /usr/local/lib/python3.7/dist-packages (from requests->transformers==4.2.1) (3.0.4)\n",
            "Requirement already satisfied: certifi>=2017.4.17 in /usr/local/lib/python3.7/dist-packages (from requests->transformers==4.2.1) (2021.10.8)\n",
            "Requirement already satisfied: urllib3!=1.25.0,!=1.25.1,<1.26,>=1.21.1 in /usr/local/lib/python3.7/dist-packages (from requests->transformers==4.2.1) (1.24.3)\n",
            "Requirement already satisfied: click in /usr/local/lib/python3.7/dist-packages (from sacremoses->transformers==4.2.1) (7.1.2)\n",
            "Requirement already satisfied: six in /usr/local/lib/python3.7/dist-packages (from sacremoses->transformers==4.2.1) (1.15.0)\n",
            "Requirement already satisfied: joblib in /usr/local/lib/python3.7/dist-packages (from sacremoses->transformers==4.2.1) (1.1.0)\n",
            "Installing collected packages: tokenizers, sacremoses, transformers\n",
            "Successfully installed sacremoses-0.0.49 tokenizers-0.9.4 transformers-4.2.1\n",
            "Collecting farasapy\n",
            "  Downloading farasapy-0.0.14-py3-none-any.whl (11 kB)\n",
            "Requirement already satisfied: tqdm in /usr/local/lib/python3.7/dist-packages (from farasapy) (4.63.0)\n",
            "Requirement already satisfied: requests in /usr/local/lib/python3.7/dist-packages (from farasapy) (2.23.0)\n",
            "Requirement already satisfied: certifi>=2017.4.17 in /usr/local/lib/python3.7/dist-packages (from requests->farasapy) (2021.10.8)\n",
            "Requirement already satisfied: chardet<4,>=3.0.2 in /usr/local/lib/python3.7/dist-packages (from requests->farasapy) (3.0.4)\n",
            "Requirement already satisfied: idna<3,>=2.5 in /usr/local/lib/python3.7/dist-packages (from requests->farasapy) (2.10)\n",
            "Requirement already satisfied: urllib3!=1.25.0,!=1.25.1,<1.26,>=1.21.1 in /usr/local/lib/python3.7/dist-packages (from requests->farasapy) (1.24.3)\n",
            "Installing collected packages: farasapy\n",
            "Successfully installed farasapy-0.0.14\n",
            "Collecting pyarabic\n",
            "  Downloading PyArabic-0.6.14-py3-none-any.whl (126 kB)\n",
            "\u001b[K     |████████████████████████████████| 126 kB 5.2 MB/s \n",
            "\u001b[?25hRequirement already satisfied: six>=1.14.0 in /usr/local/lib/python3.7/dist-packages (from pyarabic) (1.15.0)\n",
            "Installing collected packages: pyarabic\n",
            "Successfully installed pyarabic-0.6.14\n",
            "Cloning into 'arabert'...\n",
            "remote: Enumerating objects: 564, done.\u001b[K\n",
            "remote: Counting objects: 100% (350/350), done.\u001b[K\n",
            "remote: Compressing objects: 100% (252/252), done.\u001b[K\n",
            "remote: Total 564 (delta 188), reused 247 (delta 92), pack-reused 214\u001b[K\n",
            "Receiving objects: 100% (564/564), 9.16 MiB | 24.42 MiB/s, done.\n",
            "Resolving deltas: 100% (311/311), done.\n",
            "--2022-03-28 20:50:50--  https://huggingface.co/UBC-NLP/MARBERT/resolve/main/MARBERT_pytorch_verison.tar.gz\n",
            "Resolving huggingface.co (huggingface.co)... 34.200.173.213, 34.224.55.150, 34.197.58.156, ...\n",
            "Connecting to huggingface.co (huggingface.co)|34.200.173.213|:443... connected.\n",
            "HTTP request sent, awaiting response... 302 Found\n",
            "Location: https://cdn-lfs.huggingface.co/UBC-NLP/MARBERT/85bfec76f38cba4bc2e6cd02a959016de37ba93de4c850a7d175811dce4e8adc [following]\n",
            "--2022-03-28 20:50:51--  https://cdn-lfs.huggingface.co/UBC-NLP/MARBERT/85bfec76f38cba4bc2e6cd02a959016de37ba93de4c850a7d175811dce4e8adc\n",
            "Resolving cdn-lfs.huggingface.co (cdn-lfs.huggingface.co)... 108.159.227.71, 108.159.227.69, 108.159.227.123, ...\n",
            "Connecting to cdn-lfs.huggingface.co (cdn-lfs.huggingface.co)|108.159.227.71|:443... connected.\n",
            "HTTP request sent, awaiting response... 200 OK\n",
            "Length: 607066087 (579M) [application/x-gzip]\n",
            "Saving to: ‘MARBERT_pytorch_verison.tar.gz’\n",
            "\n",
            "MARBERT_pytorch_ver 100%[===================>] 578.94M   124MB/s    in 4.8s    \n",
            "\n",
            "2022-03-28 20:50:56 (120 MB/s) - ‘MARBERT_pytorch_verison.tar.gz’ saved [607066087/607066087]\n",
            "\n",
            "MARBERT_pytorch_verison/\n",
            "MARBERT_pytorch_verison/pytorch_model.bin\n",
            "MARBERT_pytorch_verison/config.json\n",
            "MARBERT_pytorch_verison/vocab.txt\n",
            "--2022-03-28 20:51:04--  https://raw.githubusercontent.com/UBC-NLP/marbert/main/examples/UBC_AJGT_final_shuffled_train.tsv\n",
            "Resolving raw.githubusercontent.com (raw.githubusercontent.com)... 185.199.108.133, 185.199.109.133, 185.199.110.133, ...\n",
            "Connecting to raw.githubusercontent.com (raw.githubusercontent.com)|185.199.108.133|:443... connected.\n",
            "HTTP request sent, awaiting response... 200 OK\n",
            "Length: 149495 (146K) [text/plain]\n",
            "Saving to: ‘UBC_AJGT_final_shuffled_train.tsv’\n",
            "\n",
            "UBC_AJGT_final_shuf 100%[===================>] 145.99K  --.-KB/s    in 0.02s   \n",
            "\n",
            "2022-03-28 20:51:04 (6.79 MB/s) - ‘UBC_AJGT_final_shuffled_train.tsv’ saved [149495/149495]\n",
            "\n",
            "--2022-03-28 20:51:04--  https://raw.githubusercontent.com/UBC-NLP/marbert/main/examples/UBC_AJGT_final_shuffled_test.tsv\n",
            "Resolving raw.githubusercontent.com (raw.githubusercontent.com)... 185.199.110.133, 185.199.111.133, 185.199.108.133, ...\n",
            "Connecting to raw.githubusercontent.com (raw.githubusercontent.com)|185.199.110.133|:443... connected.\n",
            "HTTP request sent, awaiting response... 200 OK\n",
            "Length: 36901 (36K) [text/plain]\n",
            "Saving to: ‘UBC_AJGT_final_shuffled_test.tsv’\n",
            "\n",
            "UBC_AJGT_final_shuf 100%[===================>]  36.04K  --.-KB/s    in 0.003s  \n",
            "\n",
            "2022-03-28 20:51:05 (11.2 MB/s) - ‘UBC_AJGT_final_shuffled_test.tsv’ saved [36901/36901]\n",
            "\n",
            "Collecting GPUtil\n",
            "  Downloading GPUtil-1.4.0.tar.gz (5.5 kB)\n",
            "Collecting pytorch_pretrained_bert\n",
            "  Downloading pytorch_pretrained_bert-0.6.2-py3-none-any.whl (123 kB)\n",
            "\u001b[K     |████████████████████████████████| 123 kB 5.2 MB/s \n",
            "\u001b[?25hRequirement already satisfied: transformers in /usr/local/lib/python3.7/dist-packages (4.2.1)\n",
            "Requirement already satisfied: regex in /usr/local/lib/python3.7/dist-packages (from pytorch_pretrained_bert) (2019.12.20)\n",
            "Collecting boto3\n",
            "  Downloading boto3-1.21.28-py3-none-any.whl (132 kB)\n",
            "\u001b[K     |████████████████████████████████| 132 kB 40.0 MB/s \n",
            "\u001b[?25hRequirement already satisfied: torch>=0.4.1 in /usr/local/lib/python3.7/dist-packages (from pytorch_pretrained_bert) (1.10.0+cu111)\n",
            "Requirement already satisfied: requests in /usr/local/lib/python3.7/dist-packages (from pytorch_pretrained_bert) (2.23.0)\n",
            "Requirement already satisfied: numpy in /usr/local/lib/python3.7/dist-packages (from pytorch_pretrained_bert) (1.21.5)\n",
            "Requirement already satisfied: tqdm in /usr/local/lib/python3.7/dist-packages (from pytorch_pretrained_bert) (4.63.0)\n",
            "Requirement already satisfied: typing-extensions in /usr/local/lib/python3.7/dist-packages (from torch>=0.4.1->pytorch_pretrained_bert) (3.10.0.2)\n",
            "Requirement already satisfied: sacremoses in /usr/local/lib/python3.7/dist-packages (from transformers) (0.0.49)\n",
            "Requirement already satisfied: packaging in /usr/local/lib/python3.7/dist-packages (from transformers) (21.3)\n",
            "Requirement already satisfied: filelock in /usr/local/lib/python3.7/dist-packages (from transformers) (3.6.0)\n",
            "Requirement already satisfied: importlib-metadata in /usr/local/lib/python3.7/dist-packages (from transformers) (4.11.3)\n",
            "Requirement already satisfied: tokenizers==0.9.4 in /usr/local/lib/python3.7/dist-packages (from transformers) (0.9.4)\n",
            "Collecting botocore<1.25.0,>=1.24.28\n",
            "  Downloading botocore-1.24.28-py3-none-any.whl (8.6 MB)\n",
            "\u001b[K     |████████████████████████████████| 8.6 MB 32.4 MB/s \n",
            "\u001b[?25hCollecting s3transfer<0.6.0,>=0.5.0\n",
            "  Downloading s3transfer-0.5.2-py3-none-any.whl (79 kB)\n",
            "\u001b[K     |████████████████████████████████| 79 kB 8.1 MB/s \n",
            "\u001b[?25hCollecting jmespath<2.0.0,>=0.7.1\n",
            "  Downloading jmespath-1.0.0-py3-none-any.whl (23 kB)\n",
            "Collecting urllib3<1.27,>=1.25.4\n",
            "  Downloading urllib3-1.26.9-py2.py3-none-any.whl (138 kB)\n",
            "\u001b[K     |████████████████████████████████| 138 kB 52.6 MB/s \n",
            "\u001b[?25hRequirement already satisfied: python-dateutil<3.0.0,>=2.1 in /usr/local/lib/python3.7/dist-packages (from botocore<1.25.0,>=1.24.28->boto3->pytorch_pretrained_bert) (2.8.2)\n",
            "Requirement already satisfied: six>=1.5 in /usr/local/lib/python3.7/dist-packages (from python-dateutil<3.0.0,>=2.1->botocore<1.25.0,>=1.24.28->boto3->pytorch_pretrained_bert) (1.15.0)\n",
            "Requirement already satisfied: zipp>=0.5 in /usr/local/lib/python3.7/dist-packages (from importlib-metadata->transformers) (3.7.0)\n",
            "Requirement already satisfied: pyparsing!=3.0.5,>=2.0.2 in /usr/local/lib/python3.7/dist-packages (from packaging->transformers) (3.0.7)\n",
            "Requirement already satisfied: certifi>=2017.4.17 in /usr/local/lib/python3.7/dist-packages (from requests->pytorch_pretrained_bert) (2021.10.8)\n",
            "  Downloading urllib3-1.25.11-py2.py3-none-any.whl (127 kB)\n",
            "\u001b[K     |████████████████████████████████| 127 kB 52.8 MB/s \n",
            "\u001b[?25hRequirement already satisfied: chardet<4,>=3.0.2 in /usr/local/lib/python3.7/dist-packages (from requests->pytorch_pretrained_bert) (3.0.4)\n",
            "Requirement already satisfied: idna<3,>=2.5 in /usr/local/lib/python3.7/dist-packages (from requests->pytorch_pretrained_bert) (2.10)\n",
            "Requirement already satisfied: click in /usr/local/lib/python3.7/dist-packages (from sacremoses->transformers) (7.1.2)\n",
            "Requirement already satisfied: joblib in /usr/local/lib/python3.7/dist-packages (from sacremoses->transformers) (1.1.0)\n",
            "Building wheels for collected packages: GPUtil\n",
            "  Building wheel for GPUtil (setup.py) ... \u001b[?25l\u001b[?25hdone\n",
            "  Created wheel for GPUtil: filename=GPUtil-1.4.0-py3-none-any.whl size=7411 sha256=b9894fb09a741c022220d9d2dba80fa360e876a538c9159f486b16194276a40a\n",
            "  Stored in directory: /root/.cache/pip/wheels/6e/f8/83/534c52482d6da64622ddbf72cd93c35d2ef2881b78fd08ff0c\n",
            "Successfully built GPUtil\n",
            "Installing collected packages: urllib3, jmespath, botocore, s3transfer, boto3, pytorch-pretrained-bert, GPUtil\n",
            "  Attempting uninstall: urllib3\n",
            "    Found existing installation: urllib3 1.24.3\n",
            "    Uninstalling urllib3-1.24.3:\n",
            "      Successfully uninstalled urllib3-1.24.3\n",
            "\u001b[31mERROR: pip's dependency resolver does not currently take into account all the packages that are installed. This behaviour is the source of the following dependency conflicts.\n",
            "datascience 0.10.6 requires folium==0.2.1, but you have folium 0.8.3 which is incompatible.\u001b[0m\n",
            "Successfully installed GPUtil-1.4.0 boto3-1.21.28 botocore-1.24.28 jmespath-1.0.0 pytorch-pretrained-bert-0.6.2 s3transfer-0.5.2 urllib3-1.25.11\n"
          ]
        }
      ]
    },
    {
      "cell_type": "code",
      "metadata": {
        "id": "krBvefg6l6vv"
      },
      "source": [
        "!mkdir data\n",
        "!mkdir train"
      ],
      "execution_count": null,
      "outputs": []
    },
    {
      "cell_type": "markdown",
      "metadata": {
        "id": "TVay9KamnC3I"
      },
      "source": [
        "#Creating training datasets"
      ]
    },
    {
      "cell_type": "code",
      "metadata": {
        "id": "hr84ozGinCFh"
      },
      "source": [
        "import pandas as pd\n",
        "import numpy as np\n",
        "\n",
        "from tqdm import tqdm_notebook as tqdm\n",
        "from sklearn.model_selection import train_test_split\n",
        "all_datasets= []"
      ],
      "execution_count": null,
      "outputs": []
    },
    {
      "cell_type": "code",
      "metadata": {
        "id": "8PhWP2JzrEci"
      },
      "source": [
        "class Dataset:\n",
        "    def __init__(\n",
        "        self,\n",
        "        name,\n",
        "        train,\n",
        "        test,\n",
        "        label_list,\n",
        "    ):\n",
        "        self.name = name\n",
        "        self.train = train\n",
        "        self.test = test\n",
        "        self.label_list = label_list"
      ],
      "execution_count": null,
      "outputs": []
    },
    {
      "cell_type": "code",
      "metadata": {
        "id": "-WYy5ikAs7l3"
      },
      "source": [
        "DATA_COLUMN = \"Tweets\"\n",
        "LABEL_COLUMN = \"labels\""
      ],
      "execution_count": null,
      "outputs": []
    },
    {
      "cell_type": "markdown",
      "metadata": {
        "id": "joWPYWGMqLau"
      },
      "source": [
        "##HARD - Balanced"
      ]
    },
    {
      "cell_type": "code",
      "source": [
        "df_train=pd.read_csv(\"/content/train.csv\")\n",
        "df_valid=pd.read_csv(\"/content/dev.csv\")"
      ],
      "metadata": {
        "id": "JUbG0oSMeXJs"
      },
      "execution_count": null,
      "outputs": []
    },
    {
      "cell_type": "code",
      "source": [
        "df_valid"
      ],
      "metadata": {
        "colab": {
          "base_uri": "https://localhost:8080/",
          "height": 424
        },
        "id": "fuGbq__bfTu1",
        "outputId": "ef42db6e-a60e-4b69-fc3d-fb8118e38115"
      },
      "execution_count": null,
      "outputs": [
        {
          "output_type": "execute_result",
          "data": {
            "text/plain": [
              "                                                 Tweets  labels\n",
              "0                افطرت عليك بعقاء واثنين من فروخها الجن  NOT_HS\n",
              "1                           داليا مبارك مادري ليش تقرفت  NOT_HS\n",
              "2     ابديت السناب الجديد حاس الناس حوس أشوف مشاهير ...  NOT_HS\n",
              "3                                    هييه والله وااايدد  NOT_HS\n",
              "4                                           اكيد اخس شي  NOT_HS\n",
              "...                                                 ...     ...\n",
              "1265  روما محظوظين بذا المدرب بيروتي يسحب في رجوله ا...  NOT_HS\n",
              "1266  هلا والله بالحب هلا لولو من جد مو طايقتهم قللل...  NOT_HS\n",
              "1267  رينز فاز يعنني اوه شوفو العرض الأسطوري تفو علي...  NOT_HS\n",
              "1268      ييييع والله شيء يلوع الكبد مريضات الله يشفيهم  NOT_HS\n",
              "1269            تحسينها ع كليجه م اكلت شي واضح من الصوت  NOT_HS\n",
              "\n",
              "[1270 rows x 2 columns]"
            ],
            "text/html": [
              "\n",
              "  <div id=\"df-2421766d-eaed-4407-8a74-5921d5a9e948\">\n",
              "    <div class=\"colab-df-container\">\n",
              "      <div>\n",
              "<style scoped>\n",
              "    .dataframe tbody tr th:only-of-type {\n",
              "        vertical-align: middle;\n",
              "    }\n",
              "\n",
              "    .dataframe tbody tr th {\n",
              "        vertical-align: top;\n",
              "    }\n",
              "\n",
              "    .dataframe thead th {\n",
              "        text-align: right;\n",
              "    }\n",
              "</style>\n",
              "<table border=\"1\" class=\"dataframe\">\n",
              "  <thead>\n",
              "    <tr style=\"text-align: right;\">\n",
              "      <th></th>\n",
              "      <th>Tweets</th>\n",
              "      <th>labels</th>\n",
              "    </tr>\n",
              "  </thead>\n",
              "  <tbody>\n",
              "    <tr>\n",
              "      <th>0</th>\n",
              "      <td>افطرت عليك بعقاء واثنين من فروخها الجن</td>\n",
              "      <td>NOT_HS</td>\n",
              "    </tr>\n",
              "    <tr>\n",
              "      <th>1</th>\n",
              "      <td>داليا مبارك مادري ليش تقرفت</td>\n",
              "      <td>NOT_HS</td>\n",
              "    </tr>\n",
              "    <tr>\n",
              "      <th>2</th>\n",
              "      <td>ابديت السناب الجديد حاس الناس حوس أشوف مشاهير ...</td>\n",
              "      <td>NOT_HS</td>\n",
              "    </tr>\n",
              "    <tr>\n",
              "      <th>3</th>\n",
              "      <td>هييه والله وااايدد</td>\n",
              "      <td>NOT_HS</td>\n",
              "    </tr>\n",
              "    <tr>\n",
              "      <th>4</th>\n",
              "      <td>اكيد اخس شي</td>\n",
              "      <td>NOT_HS</td>\n",
              "    </tr>\n",
              "    <tr>\n",
              "      <th>...</th>\n",
              "      <td>...</td>\n",
              "      <td>...</td>\n",
              "    </tr>\n",
              "    <tr>\n",
              "      <th>1265</th>\n",
              "      <td>روما محظوظين بذا المدرب بيروتي يسحب في رجوله ا...</td>\n",
              "      <td>NOT_HS</td>\n",
              "    </tr>\n",
              "    <tr>\n",
              "      <th>1266</th>\n",
              "      <td>هلا والله بالحب هلا لولو من جد مو طايقتهم قللل...</td>\n",
              "      <td>NOT_HS</td>\n",
              "    </tr>\n",
              "    <tr>\n",
              "      <th>1267</th>\n",
              "      <td>رينز فاز يعنني اوه شوفو العرض الأسطوري تفو علي...</td>\n",
              "      <td>NOT_HS</td>\n",
              "    </tr>\n",
              "    <tr>\n",
              "      <th>1268</th>\n",
              "      <td>ييييع والله شيء يلوع الكبد مريضات الله يشفيهم</td>\n",
              "      <td>NOT_HS</td>\n",
              "    </tr>\n",
              "    <tr>\n",
              "      <th>1269</th>\n",
              "      <td>تحسينها ع كليجه م اكلت شي واضح من الصوت</td>\n",
              "      <td>NOT_HS</td>\n",
              "    </tr>\n",
              "  </tbody>\n",
              "</table>\n",
              "<p>1270 rows × 2 columns</p>\n",
              "</div>\n",
              "      <button class=\"colab-df-convert\" onclick=\"convertToInteractive('df-2421766d-eaed-4407-8a74-5921d5a9e948')\"\n",
              "              title=\"Convert this dataframe to an interactive table.\"\n",
              "              style=\"display:none;\">\n",
              "        \n",
              "  <svg xmlns=\"http://www.w3.org/2000/svg\" height=\"24px\"viewBox=\"0 0 24 24\"\n",
              "       width=\"24px\">\n",
              "    <path d=\"M0 0h24v24H0V0z\" fill=\"none\"/>\n",
              "    <path d=\"M18.56 5.44l.94 2.06.94-2.06 2.06-.94-2.06-.94-.94-2.06-.94 2.06-2.06.94zm-11 1L8.5 8.5l.94-2.06 2.06-.94-2.06-.94L8.5 2.5l-.94 2.06-2.06.94zm10 10l.94 2.06.94-2.06 2.06-.94-2.06-.94-.94-2.06-.94 2.06-2.06.94z\"/><path d=\"M17.41 7.96l-1.37-1.37c-.4-.4-.92-.59-1.43-.59-.52 0-1.04.2-1.43.59L10.3 9.45l-7.72 7.72c-.78.78-.78 2.05 0 2.83L4 21.41c.39.39.9.59 1.41.59.51 0 1.02-.2 1.41-.59l7.78-7.78 2.81-2.81c.8-.78.8-2.07 0-2.86zM5.41 20L4 18.59l7.72-7.72 1.47 1.35L5.41 20z\"/>\n",
              "  </svg>\n",
              "      </button>\n",
              "      \n",
              "  <style>\n",
              "    .colab-df-container {\n",
              "      display:flex;\n",
              "      flex-wrap:wrap;\n",
              "      gap: 12px;\n",
              "    }\n",
              "\n",
              "    .colab-df-convert {\n",
              "      background-color: #E8F0FE;\n",
              "      border: none;\n",
              "      border-radius: 50%;\n",
              "      cursor: pointer;\n",
              "      display: none;\n",
              "      fill: #1967D2;\n",
              "      height: 32px;\n",
              "      padding: 0 0 0 0;\n",
              "      width: 32px;\n",
              "    }\n",
              "\n",
              "    .colab-df-convert:hover {\n",
              "      background-color: #E2EBFA;\n",
              "      box-shadow: 0px 1px 2px rgba(60, 64, 67, 0.3), 0px 1px 3px 1px rgba(60, 64, 67, 0.15);\n",
              "      fill: #174EA6;\n",
              "    }\n",
              "\n",
              "    [theme=dark] .colab-df-convert {\n",
              "      background-color: #3B4455;\n",
              "      fill: #D2E3FC;\n",
              "    }\n",
              "\n",
              "    [theme=dark] .colab-df-convert:hover {\n",
              "      background-color: #434B5C;\n",
              "      box-shadow: 0px 1px 3px 1px rgba(0, 0, 0, 0.15);\n",
              "      filter: drop-shadow(0px 1px 2px rgba(0, 0, 0, 0.3));\n",
              "      fill: #FFFFFF;\n",
              "    }\n",
              "  </style>\n",
              "\n",
              "      <script>\n",
              "        const buttonEl =\n",
              "          document.querySelector('#df-2421766d-eaed-4407-8a74-5921d5a9e948 button.colab-df-convert');\n",
              "        buttonEl.style.display =\n",
              "          google.colab.kernel.accessAllowed ? 'block' : 'none';\n",
              "\n",
              "        async function convertToInteractive(key) {\n",
              "          const element = document.querySelector('#df-2421766d-eaed-4407-8a74-5921d5a9e948');\n",
              "          const dataTable =\n",
              "            await google.colab.kernel.invokeFunction('convertToInteractive',\n",
              "                                                     [key], {});\n",
              "          if (!dataTable) return;\n",
              "\n",
              "          const docLinkHtml = 'Like what you see? Visit the ' +\n",
              "            '<a target=\"_blank\" href=https://colab.research.google.com/notebooks/data_table.ipynb>data table notebook</a>'\n",
              "            + ' to learn more about interactive tables.';\n",
              "          element.innerHTML = '';\n",
              "          dataTable['output_type'] = 'display_data';\n",
              "          await google.colab.output.renderOutput(dataTable, element);\n",
              "          const docLink = document.createElement('div');\n",
              "          docLink.innerHTML = docLinkHtml;\n",
              "          element.appendChild(docLink);\n",
              "        }\n",
              "      </script>\n",
              "    </div>\n",
              "  </div>\n",
              "  "
            ]
          },
          "metadata": {},
          "execution_count": 8
        }
      ]
    },
    {
      "cell_type": "code",
      "source": [
        "df_train[LABEL_COLUMN]=df_train[LABEL_COLUMN].map({'NOT_HS':0,'HS':1})\n",
        "df_valid[LABEL_COLUMN]=df_valid[LABEL_COLUMN].map({'NOT_HS':0,'HS':1})"
      ],
      "metadata": {
        "id": "2y_tc6ZDgLfV"
      },
      "execution_count": null,
      "outputs": []
    },
    {
      "cell_type": "code",
      "metadata": {
        "id": "-6oL3qkXmOgJ"
      },
      "source": [
        "# train_HARD, test_HARD = train_test_split(df_HARD, test_size=0.2, random_state=42)\n",
        "label_list_HARD = [0,1]\n",
        "data_Hard = Dataset(\"HARD\", df_train, df_valid, label_list_HARD)\n",
        "all_datasets.append(data_Hard)"
      ],
      "execution_count": null,
      "outputs": []
    },
    {
      "cell_type": "markdown",
      "metadata": {
        "id": "Bcwdslw7v0Q8"
      },
      "source": [
        "#Trainer"
      ]
    },
    {
      "cell_type": "code",
      "metadata": {
        "id": "HUn2RB6Bvrxj"
      },
      "source": [
        "from arabert.preprocess import ArabertPreprocessor\n",
        "from transformers import AutoTokenizer, AutoModel\n",
        "import numpy as np\n",
        "from sklearn.metrics import classification_report, accuracy_score, f1_score, confusion_matrix, precision_score , recall_score\n",
        "\n",
        "from transformers import AutoConfig, AutoModelForSequenceClassification, AutoTokenizer, BertTokenizer\n",
        "from transformers.data.processors import SingleSentenceClassificationProcessor\n",
        "from transformers import Trainer , TrainingArguments\n",
        "from transformers.trainer_utils import EvaluationStrategy\n",
        "from transformers.data.processors.utils import InputFeatures\n",
        "from torch.utils.data import Dataset\n",
        "from torch.utils.data import DataLoader\n",
        "from sklearn.utils import resample\n",
        "import logging\n",
        "import torch\n",
        "import optuna"
      ],
      "execution_count": null,
      "outputs": []
    },
    {
      "cell_type": "code",
      "metadata": {
        "id": "KfNKr05tv7cA"
      },
      "source": [
        "logging.basicConfig(level=logging.WARNING)\n",
        "logger = logging.getLogger(__name__)"
      ],
      "execution_count": null,
      "outputs": []
    },
    {
      "cell_type": "code",
      "metadata": {
        "id": "R4SGYoB2EDJD",
        "colab": {
          "base_uri": "https://localhost:8080/"
        },
        "outputId": "42808bb5-cede-4c4d-a498-7be15703e782"
      },
      "source": [
        "for x in all_datasets:\n",
        "  print(x.name)"
      ],
      "execution_count": null,
      "outputs": [
        {
          "output_type": "stream",
          "name": "stdout",
          "text": [
            "HARD\n"
          ]
        }
      ]
    },
    {
      "cell_type": "markdown",
      "metadata": {
        "id": "62Lma6tT5zJi"
      },
      "source": [
        "You can choose which model, and dataset from here along with the max sentence length"
      ]
    },
    {
      "cell_type": "code",
      "metadata": {
        "id": "vzeVFoz1wDYf"
      },
      "source": [
        "dataset_name = 'HARD'\n",
        "model_name = 'UBC-NLP/MARBERT'\n",
        "task_name = 'classification'\n",
        "max_len = 256"
      ],
      "execution_count": null,
      "outputs": []
    },
    {
      "cell_type": "code",
      "metadata": {
        "id": "_ieCOj90aw8X",
        "colab": {
          "base_uri": "https://localhost:8080/"
        },
        "outputId": "cdd2e53b-ffff-4999-ce11-f4e3100630d6"
      },
      "source": [
        "for d in all_datasets:\n",
        "  if d.name==dataset_name:\n",
        "    selected_dataset = d\n",
        "    print('Dataset found')\n",
        "    break"
      ],
      "execution_count": null,
      "outputs": [
        {
          "output_type": "stream",
          "name": "stdout",
          "text": [
            "Dataset found\n"
          ]
        }
      ]
    },
    {
      "cell_type": "code",
      "metadata": {
        "id": "lt_lGy85zuca",
        "colab": {
          "base_uri": "https://localhost:8080/"
        },
        "outputId": "b2d907bf-336c-40d4-8b7f-b31020c9154e"
      },
      "source": [
        "\n",
        "arabert_prep = ArabertPreprocessor(model_name.split(\"/\")[-1])\n",
        "\n",
        "selected_dataset.train[DATA_COLUMN] = selected_dataset.train[DATA_COLUMN].apply(lambda x:   arabert_prep.preprocess(x))\n",
        "selected_dataset.test[DATA_COLUMN] = selected_dataset.test[DATA_COLUMN].apply(lambda x:   arabert_prep.preprocess(x))"
      ],
      "execution_count": null,
      "outputs": [
        {
          "output_type": "stream",
          "name": "stderr",
          "text": [
            "WARNING:root:Model provided is not in the accepted model list. Preprocessor will default to a base Arabic preprocessor\n"
          ]
        }
      ]
    },
    {
      "cell_type": "code",
      "source": [
        "test_set =pd.read_csv(\"/content/Test.csv\")[\"Tweets\"].apply(lambda x:   arabert_prep.preprocess(x))\n",
        "len(test_set)"
      ],
      "metadata": {
        "colab": {
          "base_uri": "https://localhost:8080/"
        },
        "id": "8O0RAPw_E37j",
        "outputId": "ec4ac56c-e1b0-497b-bc10-47fbd39af272"
      },
      "execution_count": null,
      "outputs": [
        {
          "output_type": "execute_result",
          "data": {
            "text/plain": [
              "2541"
            ]
          },
          "metadata": {},
          "execution_count": 17
        }
      ]
    },
    {
      "cell_type": "code",
      "metadata": {
        "colab": {
          "base_uri": "https://localhost:8080/"
        },
        "id": "PoyaRIGYCEzh",
        "outputId": "4202c8ef-9e4b-4ac1-85c2-9fb84a950c86"
      },
      "source": [
        "selected_dataset.test[DATA_COLUMN]"
      ],
      "execution_count": null,
      "outputs": [
        {
          "output_type": "execute_result",
          "data": {
            "text/plain": [
              "0                  افطرت عليك بعقاء واثنين من فروخها الجن\n",
              "1                             داليا مبارك مادري ليش تقرفت\n",
              "2       ابديت السناب الجديد حاس الناس حوس أشوف مشاهير ...\n",
              "3                                       هييه والله واايدد\n",
              "4                                             اكيد اخس شي\n",
              "                              ...                        \n",
              "1265    روما محظوظين بذا المدرب بيروتي يسحب في رجوله ا...\n",
              "1266    هلا والله بالحب هلا لولو من جد مو طايقتهم قللع...\n",
              "1267    رينز فاز يعنني اوه شوفو العرض الأسطوري تفو علي...\n",
              "1268          ييع والله شيء يلوع الكبد مريضات الله يشفيهم\n",
              "1269              تحسينها ع كليجه م اكلت شي واضح من الصوت\n",
              "Name: Tweets, Length: 1270, dtype: object"
            ]
          },
          "metadata": {},
          "execution_count": 18
        }
      ]
    },
    {
      "cell_type": "code",
      "metadata": {
        "id": "4YS7XI2bZTyz"
      },
      "source": [
        "class BERTDataset(Dataset):\n",
        "    def __init__(self, text, target, model_name, max_len, label_map):\n",
        "      super(BERTDataset).__init__()\n",
        "      self.text = text\n",
        "      self.target = target\n",
        "      self.tokenizer_name = model_name\n",
        "      self.tokenizer = AutoTokenizer.from_pretrained(model_name)\n",
        "      self.max_len = max_len\n",
        "      self.label_map = label_map\n",
        "      \n",
        "\n",
        "    def __len__(self):\n",
        "      return len(self.text)\n",
        "\n",
        "    def __getitem__(self,item):\n",
        "      text = str(self.text[item])\n",
        "      text = \" \".join(text.split())\n",
        "\n",
        "\n",
        "        \n",
        "      input_ids = self.tokenizer.encode(\n",
        "          text,\n",
        "          add_special_tokens=True,\n",
        "          max_length=self.max_len,\n",
        "          truncation='longest_first'\n",
        "      )     \n",
        "    \n",
        "      attention_mask = [1] * len(input_ids)\n",
        "\n",
        "      # Zero-pad up to the sequence length.\n",
        "      padding_length = self.max_len - len(input_ids)\n",
        "      input_ids = input_ids + ([self.tokenizer.pad_token_id] * padding_length)\n",
        "      attention_mask = attention_mask + ([0] * padding_length)    \n",
        "      \n",
        "      return InputFeatures(input_ids=input_ids, attention_mask=attention_mask, label=self.label_map[self.target[item]])"
      ],
      "execution_count": null,
      "outputs": []
    },
    {
      "cell_type": "code",
      "source": [
        "class embDataset(Dataset):\n",
        "    def __init__(self, text, model_name, max_len):\n",
        "      super(BERTDataset).__init__()\n",
        "      self.text = text\n",
        "      # self.target = target\n",
        "      self.tokenizer_name = model_name\n",
        "      self.tokenizer = AutoTokenizer.from_pretrained(model_name)\n",
        "      self.max_len = max_len\n",
        "      # self.label_map = label_map\n",
        "      \n",
        "\n",
        "    def __len__(self):\n",
        "      return len(self.text)\n",
        "\n",
        "    def __getitem__(self,item):\n",
        "      text = str(self.text[item])\n",
        "      text = \" \".join(text.split())\n",
        "\n",
        "\n",
        "        \n",
        "      input_ids = self.tokenizer.encode(\n",
        "          text,\n",
        "          add_special_tokens=True,\n",
        "          max_length=self.max_len,\n",
        "          truncation='longest_first'\n",
        "      )     \n",
        "    \n",
        "      attention_mask = [1] * len(input_ids)\n",
        "\n",
        "      # Zero-pad up to the sequence length.\n",
        "      padding_length = self.max_len - len(input_ids)\n",
        "      input_ids = input_ids + ([self.tokenizer.pad_token_id] * padding_length)\n",
        "      attention_mask = attention_mask + ([0] * padding_length)    \n",
        "      \n",
        "      return InputFeatures(input_ids=input_ids, attention_mask=attention_mask)"
      ],
      "metadata": {
        "id": "H0xrPM2hHdFQ"
      },
      "execution_count": null,
      "outputs": []
    },
    {
      "cell_type": "code",
      "source": [
        "# test_set= embDataset()\n",
        "len(test_set)"
      ],
      "metadata": {
        "colab": {
          "base_uri": "https://localhost:8080/"
        },
        "id": "ZHMhWFoyIAvF",
        "outputId": "40c4e798-c988-4ecd-fc0d-74795e054566"
      },
      "execution_count": null,
      "outputs": [
        {
          "output_type": "execute_result",
          "data": {
            "text/plain": [
              "2541"
            ]
          },
          "metadata": {},
          "execution_count": 21
        }
      ]
    },
    {
      "cell_type": "code",
      "metadata": {
        "id": "mciZOFz-amkV",
        "colab": {
          "base_uri": "https://localhost:8080/",
          "height": 162,
          "referenced_widgets": [
            "7edf5050c96d4e6aa880b7f6c347941d",
            "b855cb7aed764b81a6343e8041d0c1d5",
            "7df34ab60da84641a9ab12173d768ce7",
            "48f469009de24b2c8acfc3728d29114f",
            "e0827d7a7ac04efe927e2d216329e022",
            "e4ba22e67de24d32809286fd9ba192b3",
            "115e281bc3e04ac59d5c42df2fe6336d",
            "80bfb83d46464f35a87ce2a96027c621",
            "45d803120d2241d597de3a5bff2cab76",
            "1544688b7223407899d10d03ade8c3e6",
            "54a382e38514433280c9c5ab8777d555",
            "ecd129ccf86c443d9fb8aed952b816c8",
            "88ccef7c10a84d7bacaaa0b972c51d75",
            "a10220c5e1aa4458915339a5a947db2b",
            "9501a62f988e482e89e290adf041bf49",
            "1ec9c3a78eac42b8932e94e627ba04b6",
            "605c0ab5583943de83173d2a530b22e5",
            "6215a80445c34e16be3798923fc4d3e7",
            "53add5126d8d4776a6ccedda7386b1dc",
            "85b9b77369094dc3b9ae1dbbfdda962f",
            "7d98e156c1724499bdfc0582aa5b569d",
            "054feb75596a42f6af013da1cb1dfd93",
            "1f8d50ba4e284fd599c0bf4f56c2ec1d",
            "4149f8db26044f62bf18fa160c718122",
            "235e505b88384ccab3902d6c8ef7208d",
            "f7711c8924304754b7660bd90fd8b16e",
            "e2a0269253bc4b19950df983a8134bcd",
            "22ae76f79f0c457f8644b9369ad038a7",
            "112998a300234ee6a3d7f7fcab31a4c7",
            "3ddbf5bdd5bf45588f335ab4ca322eaf",
            "ee51d643b01044d0b95ca76b9b395f59",
            "52928ab3fba64d7dac9ccdaa83fe218f",
            "379b2853471b4938874e67a952f84aac",
            "fd2070005a8c46a2b418592765ee68dc",
            "47f361c389384570ae6ad8f87f00c273",
            "44db999025c14d2db4e80f78dbaec9a3",
            "68d0f67ed8054ca484bec6a5ce111978",
            "6f3580da05a346488aab50aef8eedd2b",
            "1a52df91ab374b90a953a58b4f0dfae9",
            "21dd67e9974342d1978c285045ccb6e3",
            "27e044b5bc7e4ab795a07908e2c78ad2",
            "d666242a9be64c09937410178fb5b8b9",
            "d71eb34504024792b0090dd1e7337276",
            "9ee22b23ec0d4dc6b72b970f1d622acd"
          ]
        },
        "outputId": "8c684d97-0036-4014-a9b6-57be7858c5b6"
      },
      "source": [
        "label_map = { v:index for index, v in enumerate(selected_dataset.label_list) }\n",
        "print(label_map)\n",
        "train_dataset = BERTDataset(selected_dataset.train[DATA_COLUMN].to_list(),selected_dataset.train[LABEL_COLUMN].to_list(),model_name,max_len,label_map)\n",
        "valid_dataset = BERTDataset(selected_dataset.test[DATA_COLUMN].to_list(),selected_dataset.test[LABEL_COLUMN].to_list(),model_name,max_len,label_map)\n"
      ],
      "execution_count": null,
      "outputs": [
        {
          "output_type": "stream",
          "name": "stdout",
          "text": [
            "{0: 0, 1: 1}\n"
          ]
        },
        {
          "output_type": "display_data",
          "data": {
            "text/plain": [
              "Downloading:   0%|          | 0.00/701 [00:00<?, ?B/s]"
            ],
            "application/vnd.jupyter.widget-view+json": {
              "version_major": 2,
              "version_minor": 0,
              "model_id": "7edf5050c96d4e6aa880b7f6c347941d"
            }
          },
          "metadata": {}
        },
        {
          "output_type": "display_data",
          "data": {
            "text/plain": [
              "Downloading:   0%|          | 0.00/1.10M [00:00<?, ?B/s]"
            ],
            "application/vnd.jupyter.widget-view+json": {
              "version_major": 2,
              "version_minor": 0,
              "model_id": "ecd129ccf86c443d9fb8aed952b816c8"
            }
          },
          "metadata": {}
        },
        {
          "output_type": "display_data",
          "data": {
            "text/plain": [
              "Downloading:   0%|          | 0.00/112 [00:00<?, ?B/s]"
            ],
            "application/vnd.jupyter.widget-view+json": {
              "version_major": 2,
              "version_minor": 0,
              "model_id": "1f8d50ba4e284fd599c0bf4f56c2ec1d"
            }
          },
          "metadata": {}
        },
        {
          "output_type": "display_data",
          "data": {
            "text/plain": [
              "Downloading:   0%|          | 0.00/376 [00:00<?, ?B/s]"
            ],
            "application/vnd.jupyter.widget-view+json": {
              "version_major": 2,
              "version_minor": 0,
              "model_id": "fd2070005a8c46a2b418592765ee68dc"
            }
          },
          "metadata": {}
        }
      ]
    },
    {
      "cell_type": "code",
      "source": [
        "test_set = embDataset(test_set,model_name,max_len)\n",
        "len(valid_dataset)"
      ],
      "metadata": {
        "colab": {
          "base_uri": "https://localhost:8080/"
        },
        "id": "YDUe05bQGkWU",
        "outputId": "a44643fc-5aeb-439b-b8e8-1b32527db453"
      },
      "execution_count": null,
      "outputs": [
        {
          "output_type": "execute_result",
          "data": {
            "text/plain": [
              "1270"
            ]
          },
          "metadata": {},
          "execution_count": 23
        }
      ]
    },
    {
      "cell_type": "code",
      "source": [
        "print(test_set)"
      ],
      "metadata": {
        "colab": {
          "base_uri": "https://localhost:8080/"
        },
        "id": "aViYDT2AIaZf",
        "outputId": "66d3f24b-8d6c-4daa-ea08-a51e693ec6d8"
      },
      "execution_count": null,
      "outputs": [
        {
          "output_type": "stream",
          "name": "stdout",
          "text": [
            "<__main__.embDataset object at 0x7f71b9ba87d0>\n"
          ]
        }
      ]
    },
    {
      "cell_type": "code",
      "metadata": {
        "id": "lt7l0IxjbmNu"
      },
      "source": [
        "def model_init():\n",
        "    return AutoModelForSequenceClassification.from_pretrained(model_name, return_dict=True, num_labels=len(label_map))"
      ],
      "execution_count": null,
      "outputs": []
    },
    {
      "cell_type": "code",
      "metadata": {
        "id": "UYU6G4vWc5nz"
      },
      "source": [
        "\n",
        "Predictions = []\n",
        "def compute_metrics(p): #p should be of type EvalPrediction\n",
        "  preds = np.argmax(p.predictions, axis=1)\n",
        "  assert len(preds) == len(p.label_ids)\n",
        "  Predictions.append(preds)\n",
        "  #print(classification_report(p.label_ids,preds))\n",
        "  #print(confusion_matrix(p.label_ids,preds))\n",
        "  macro_f1_pos_neg = f1_score(p.label_ids,preds,average='macro',labels=[0,1])\n",
        "  macro_f1 = f1_score(p.label_ids,preds,average='macro')\n",
        "  macro_precision = precision_score(p.label_ids,preds,average='macro')\n",
        "  macro_recall = recall_score(p.label_ids,preds,average='macro')\n",
        "  acc = accuracy_score(p.label_ids,preds)\n",
        "  return {\n",
        "      'macro_f1' : macro_f1,\n",
        "      'macro_f1_pos_neg' : macro_f1_pos_neg,  \n",
        "      'macro_precision': macro_precision,\n",
        "      'macro_recall': macro_recall,\n",
        "      'accuracy': acc\n",
        "  }"
      ],
      "execution_count": null,
      "outputs": []
    },
    {
      "cell_type": "markdown",
      "metadata": {
        "id": "GnqiZOT37ByE"
      },
      "source": [
        "# HyperParameter Search"
      ]
    },
    {
      "cell_type": "markdown",
      "metadata": {
        "id": "bJif-78C6Kmn"
      },
      "source": [
        "you can change the batch size and gradient accumulation from here\n",
        "\n"
      ]
    },
    {
      "cell_type": "code",
      "metadata": {
        "id": "L3Z_kPB-dE_w"
      },
      "source": [
        "training_args = TrainingArguments(\"./train\")\n",
        "training_args.evaluate_during_training = True\n",
        "training_args.adam_epsilon = 2e-8\n",
        "training_args.lr_scheduler_type = 'cosine'\n",
        "training_args.fp16 = True\n",
        "training_args.per_device_train_batch_size = 8\n",
        "training_args.per_device_eval_batch_size = 8\n",
        "training_args.gradient_accumulation_steps = 4\n",
        "training_args.num_train_epochs= 8\n",
        "training_args.evaluation_strategy = EvaluationStrategy.EPOCH\n",
        "# training_args.logging_steps = 200\n",
        "training_args.save_steps = 100000\n",
        "# training_args.save_steps = \n",
        "#training_args.eval_steps = \n",
        "training_args.disable_tqdm = True\n",
        "# print(\"Logging Step:\", training_args.logging_steps)\n",
        "# print(\"Eval Step:\",training_args.eval_steps)"
      ],
      "execution_count": null,
      "outputs": []
    },
    {
      "cell_type": "code",
      "metadata": {
        "id": "KeqRACPYheeb",
        "colab": {
          "base_uri": "https://localhost:8080/"
        },
        "outputId": "8d639c9e-c75d-4120-95da-0f55736dcdcb"
      },
      "source": [
        "steps_per_epoch = (len(selected_dataset.train)// (training_args.per_device_train_batch_size * training_args.gradient_accumulation_steps))\n",
        "total_steps = steps_per_epoch * training_args.num_train_epochs\n",
        "print(steps_per_epoch)\n",
        "print(total_steps)"
      ],
      "execution_count": null,
      "outputs": [
        {
          "output_type": "stream",
          "name": "stdout",
          "text": [
            "277\n",
            "2216\n"
          ]
        }
      ]
    },
    {
      "cell_type": "code",
      "metadata": {
        "id": "o8HOnY6odcwG",
        "colab": {
          "base_uri": "https://localhost:8080/",
          "height": 160,
          "referenced_widgets": [
            "de74668c984d453f8b4f76df1d30b588",
            "1caa641187374a4a83a98b14089fc751",
            "4244067bf2204ab0b5f94291e69313ea",
            "6dbecbd3bad54e46aeba9f88b9808008",
            "54c9bff0b03c4f0aaa33461f881bb492",
            "93fc5576318049f4bb262d6a69fb06b6",
            "edaa33cc34584bdfb8ccdc0704afd283",
            "05e46acb53ab4f468f67bf79bb85be44",
            "1deb32de0d774721a9959e64b727447a",
            "3d6fe9bf051b4d9aab38374e70d78565",
            "6841f224f7554e0ab4ec0891b28eb00f"
          ]
        },
        "outputId": "11dec2bd-4614-45e3-9988-5846107029f6"
      },
      "source": [
        "trainer = Trainer(\n",
        "    args=training_args,\n",
        "    train_dataset=train_dataset, \n",
        "    eval_dataset=test_dataset, \n",
        "    model_init=model_init,\n",
        "    compute_metrics=compute_metrics,\n",
        ")"
      ],
      "execution_count": null,
      "outputs": [
        {
          "output_type": "display_data",
          "data": {
            "text/plain": [
              "Downloading:   0%|          | 0.00/543M [00:00<?, ?B/s]"
            ],
            "application/vnd.jupyter.widget-view+json": {
              "version_major": 2,
              "version_minor": 0,
              "model_id": "de74668c984d453f8b4f76df1d30b588"
            }
          },
          "metadata": {}
        },
        {
          "output_type": "stream",
          "name": "stderr",
          "text": [
            "Some weights of the model checkpoint at aubmindlab/bert-base-arabertv02 were not used when initializing BertForSequenceClassification: ['cls.predictions.bias', 'cls.predictions.transform.dense.weight', 'cls.predictions.transform.dense.bias', 'cls.predictions.transform.LayerNorm.weight', 'cls.predictions.transform.LayerNorm.bias', 'cls.predictions.decoder.weight', 'cls.predictions.decoder.bias', 'cls.seq_relationship.weight', 'cls.seq_relationship.bias']\n",
            "- This IS expected if you are initializing BertForSequenceClassification from the checkpoint of a model trained on another task or with another architecture (e.g. initializing a BertForSequenceClassification model from a BertForPreTraining model).\n",
            "- This IS NOT expected if you are initializing BertForSequenceClassification from the checkpoint of a model that you expect to be exactly identical (initializing a BertForSequenceClassification model from a BertForSequenceClassification model).\n",
            "Some weights of BertForSequenceClassification were not initialized from the model checkpoint at aubmindlab/bert-base-arabertv02 and are newly initialized: ['classifier.weight', 'classifier.bias']\n",
            "You should probably TRAIN this model on a down-stream task to be able to use it for predictions and inference.\n"
          ]
        }
      ]
    },
    {
      "cell_type": "markdown",
      "metadata": {
        "id": "_CHULcuX6a48"
      },
      "source": [
        "here you can define your search space.\n",
        "\n",
        "the `my_hp_space` function defines the hyper parameter super set, of which you can choose a subset (or even the whole set) for the grid search\n",
        "\n",
        "\n",
        "Note: You can include the opch count as a hyperparameter, but this will drasticly increase the search space, I prefer setting a fixed epcoh size, then I manually search for the highest score between the epochs since optuna can't do that as far as I know"
      ]
    },
    {
      "cell_type": "code",
      "metadata": {
        "id": "lXwkOzRCdsIZ",
        "colab": {
          "base_uri": "https://localhost:8080/"
        },
        "outputId": "7e3cf4ca-9013-4d06-9d49-b11e1d0027b1"
      },
      "source": [
        "def my_hp_space(trial):\n",
        "    return {\n",
        "        \"learning_rate\": trial.suggest_float(\"learning_rate\", 2e-5, 7e-5, step=1e-5),\n",
        "        \"seed\": trial.suggest_categorical(\"seed\", [0, 1, 42, 666, 123, 12345]),\n",
        "        \"warmup_steps\": trial.suggest_int(\"warmup_steps\",0,total_steps*0.1,step=total_steps*0.1*0.5)\n",
        "    }\n",
        "\n",
        "search_space = {\n",
        "    \"learning_rate\":  list(np.arange(2e-5, 7e-5, 1e-5)),\n",
        "    \"seed\":  [0, 1, 42, 666, 123, 12345],\n",
        "    \"warmup_steps\": list(range(0, int((total_steps)*0.1)+1, int(total_steps*0.1*0.5)))\n",
        "}\n",
        "search_space"
      ],
      "execution_count": null,
      "outputs": [
        {
          "output_type": "execute_result",
          "data": {
            "text/plain": [
              "{'learning_rate': [2e-05,\n",
              "  3.0000000000000004e-05,\n",
              "  4.000000000000001e-05,\n",
              "  5.000000000000001e-05,\n",
              "  6.000000000000001e-05],\n",
              " 'seed': [0, 1, 42, 666, 123, 12345],\n",
              " 'warmup_steps': [0, 3, 6]}"
            ]
          },
          "metadata": {},
          "execution_count": 40
        }
      ]
    },
    {
      "cell_type": "code",
      "metadata": {
        "id": "GwcBc70Sfem3"
      },
      "source": [
        "def my_objective(metrics):\n",
        "    return metrics['eval_macro_f1']"
      ],
      "execution_count": null,
      "outputs": []
    },
    {
      "cell_type": "markdown",
      "metadata": {
        "id": "nc4gOvtE66Mj"
      },
      "source": [
        "choose a study name to save it on disk"
      ]
    },
    {
      "cell_type": "code",
      "metadata": {
        "id": "NSGLnBKv64sZ"
      },
      "source": [
        "name = \"sa-arabert-base-v2\""
      ],
      "execution_count": null,
      "outputs": []
    },
    {
      "cell_type": "code",
      "metadata": {
        "id": "7l821sW7fdaY",
        "colab": {
          "base_uri": "https://localhost:8080/",
          "height": 372
        },
        "outputId": "26584cc2-3eb0-4d7a-b6b6-b91323310d2b"
      },
      "source": [
        "best_run = trainer.hyperparameter_search(direction=\"maximize\",\n",
        "                                         hp_space=my_hp_space,\n",
        "                                         compute_objective=my_objective,\n",
        "                                         n_trials=None,\n",
        "                                         pruner=optuna.pruners.NopPruner(),\n",
        "                                         sampler=optuna.samplers.GridSampler(search_space),\n",
        "                                         study_name=name,\n",
        "                                         storage=\"sqlite:////content/drive/MyDrive/{}.db\".format(name),\n",
        "                                         load_if_exists=False # you can change this to true, for continuing the search\n",
        "                                         )"
      ],
      "execution_count": null,
      "outputs": [
        {
          "output_type": "error",
          "ename": "RuntimeError",
          "evalue": "ignored",
          "traceback": [
            "\u001b[0;31m---------------------------------------------------------------------------\u001b[0m",
            "\u001b[0;31mRuntimeError\u001b[0m                              Traceback (most recent call last)",
            "\u001b[0;32m<ipython-input-44-50f2e22b334e>\u001b[0m in \u001b[0;36m<module>\u001b[0;34m()\u001b[0m\n\u001b[1;32m      7\u001b[0m                                          \u001b[0mstudy_name\u001b[0m\u001b[0;34m=\u001b[0m\u001b[0mname\u001b[0m\u001b[0;34m,\u001b[0m\u001b[0;34m\u001b[0m\u001b[0;34m\u001b[0m\u001b[0m\n\u001b[1;32m      8\u001b[0m                                          \u001b[0mstorage\u001b[0m\u001b[0;34m=\u001b[0m\u001b[0;34m\"sqlite:////content/drive/MyDrive/{}.db\"\u001b[0m\u001b[0;34m.\u001b[0m\u001b[0mformat\u001b[0m\u001b[0;34m(\u001b[0m\u001b[0mname\u001b[0m\u001b[0;34m)\u001b[0m\u001b[0;34m,\u001b[0m\u001b[0;34m\u001b[0m\u001b[0;34m\u001b[0m\u001b[0m\n\u001b[0;32m----> 9\u001b[0;31m                                          \u001b[0mload_if_exists\u001b[0m\u001b[0;34m=\u001b[0m\u001b[0;32mFalse\u001b[0m \u001b[0;31m# you can change this to true, for continuing the search\u001b[0m\u001b[0;34m\u001b[0m\u001b[0;34m\u001b[0m\u001b[0m\n\u001b[0m\u001b[1;32m     10\u001b[0m                                          )\n",
            "\u001b[0;32m/usr/local/lib/python3.7/dist-packages/transformers/trainer.py\u001b[0m in \u001b[0;36mhyperparameter_search\u001b[0;34m(self, hp_space, compute_objective, n_trials, direction, backend, hp_name, **kwargs)\u001b[0m\n\u001b[1;32m   1178\u001b[0m         \u001b[0;32mif\u001b[0m \u001b[0mself\u001b[0m\u001b[0;34m.\u001b[0m\u001b[0mmodel_init\u001b[0m \u001b[0;32mis\u001b[0m \u001b[0;32mNone\u001b[0m\u001b[0;34m:\u001b[0m\u001b[0;34m\u001b[0m\u001b[0;34m\u001b[0m\u001b[0m\n\u001b[1;32m   1179\u001b[0m             raise RuntimeError(\n\u001b[0;32m-> 1180\u001b[0;31m                 \u001b[0;34m\"To use hyperparameter search, you need to pass your model through a model_init function.\"\u001b[0m\u001b[0;34m\u001b[0m\u001b[0;34m\u001b[0m\u001b[0m\n\u001b[0m\u001b[1;32m   1181\u001b[0m             )\n\u001b[1;32m   1182\u001b[0m \u001b[0;34m\u001b[0m\u001b[0m\n",
            "\u001b[0;31mRuntimeError\u001b[0m: To use hyperparameter search, you need to pass your model through a model_init function."
          ]
        }
      ]
    },
    {
      "cell_type": "code",
      "metadata": {
        "id": "OVwfM9ZJf12t"
      },
      "source": [
        "best_run"
      ],
      "execution_count": null,
      "outputs": []
    },
    {
      "cell_type": "markdown",
      "metadata": {
        "id": "vTmvFEs41WkV"
      },
      "source": [
        "#Regular Training"
      ]
    },
    {
      "cell_type": "markdown",
      "metadata": {
        "id": "V_oGjIC-7Vow"
      },
      "source": [
        "This paert allows you to do a regular training with no hyper parameter optimization"
      ]
    },
    {
      "cell_type": "code",
      "metadata": {
        "id": "u9xjs-X14uc0",
        "colab": {
          "base_uri": "https://localhost:8080/"
        },
        "outputId": "8975c8ee-2d36-47fc-ae32-ae063f2fb53a"
      },
      "source": [
        "training_args = TrainingArguments(\"./train\")\n",
        "training_args.evaluate_during_training = True\n",
        "training_args.adam_epsilon = 2e-8\n",
        "training_args.learning_rate =1e-5\n",
        "training_args.fp16 = True\n",
        "training_args.per_device_train_batch_size = 16\n",
        "training_args.per_device_eval_batch_size = 16\n",
        "training_args.gradient_accumulation_steps = 2\n",
        "training_args.num_train_epochs= 4\n",
        "\n",
        "\n",
        "steps_per_epoch = (len(selected_dataset.train)// (training_args.per_device_train_batch_size * training_args.gradient_accumulation_steps))\n",
        "total_steps = steps_per_epoch * training_args.num_train_epochs\n",
        "print(steps_per_epoch)\n",
        "print(total_steps)\n",
        "#Warmup_ratio\n",
        "warmup_ratio = 0.1\n",
        "training_args.warmup_steps = total_steps*warmup_ratio # or you can set the warmup steps directly \n",
        "\n",
        "training_args.evaluation_strategy = EvaluationStrategy.EPOCH\n",
        "# training_args.logging_steps = 200\n",
        "training_args.save_steps = 100000 #don't want to save any model, there is probably a better way to do this :)\n",
        "training_args.seed = 20\n",
        "training_args.disable_tqdm = False\n",
        "training_args.lr_scheduler_type = 'cosine'"
      ],
      "execution_count": null,
      "outputs": [
        {
          "output_type": "stream",
          "name": "stdout",
          "text": [
            "277\n",
            "1108\n"
          ]
        }
      ]
    },
    {
      "cell_type": "code",
      "metadata": {
        "id": "Ro5BW5ak4uc1",
        "colab": {
          "base_uri": "https://localhost:8080/",
          "height": 156,
          "referenced_widgets": [
            "e8bc5a68aa3140b58628d7b9e56793ab",
            "3397a179e2334f1ab3f1ceeadce85497",
            "028439d207d04ca5978fd47513426362",
            "a9d0880f328a4796bf64303b97fdab3e",
            "8a771c4b12334a71b6c9b75e4ac2f203",
            "0552da96c558413090e2f85c4c28b2b4",
            "9f3c3a890f72454e9bc2c9f49a88b611",
            "f58fe2fc30b848b28f8fdbc2cca15617",
            "35078a5aaf6d4ea684fdf8f16c4f4aba",
            "47f89dc18a3d430f97d7176fa07b555a",
            "fd2671151ffa4430be93718b1ae632ee"
          ]
        },
        "outputId": "98a6db9c-2b9d-4079-f107-8f16c9a7393c"
      },
      "source": [
        "trainer = Trainer(\n",
        "    model = model_init(),\n",
        "    args = training_args,\n",
        "    train_dataset = train_dataset,\n",
        "    eval_dataset=valid_dataset,\n",
        "    compute_metrics=compute_metrics,\n",
        ")"
      ],
      "execution_count": null,
      "outputs": [
        {
          "output_type": "display_data",
          "data": {
            "text/plain": [
              "Downloading:   0%|          | 0.00/654M [00:00<?, ?B/s]"
            ],
            "application/vnd.jupyter.widget-view+json": {
              "version_major": 2,
              "version_minor": 0,
              "model_id": "e8bc5a68aa3140b58628d7b9e56793ab"
            }
          },
          "metadata": {}
        },
        {
          "output_type": "stream",
          "name": "stderr",
          "text": [
            "Some weights of the model checkpoint at UBC-NLP/MARBERT were not used when initializing BertForSequenceClassification: ['cls.predictions.bias', 'cls.predictions.transform.dense.weight', 'cls.predictions.transform.dense.bias', 'cls.predictions.transform.LayerNorm.weight', 'cls.predictions.transform.LayerNorm.bias', 'cls.predictions.decoder.weight', 'cls.seq_relationship.weight', 'cls.seq_relationship.bias']\n",
            "- This IS expected if you are initializing BertForSequenceClassification from the checkpoint of a model trained on another task or with another architecture (e.g. initializing a BertForSequenceClassification model from a BertForPreTraining model).\n",
            "- This IS NOT expected if you are initializing BertForSequenceClassification from the checkpoint of a model that you expect to be exactly identical (initializing a BertForSequenceClassification model from a BertForSequenceClassification model).\n",
            "Some weights of BertForSequenceClassification were not initialized from the model checkpoint at UBC-NLP/MARBERT and are newly initialized: ['classifier.weight', 'classifier.bias']\n",
            "You should probably TRAIN this model on a down-stream task to be able to use it for predictions and inference.\n"
          ]
        }
      ]
    },
    {
      "cell_type": "code",
      "metadata": {
        "id": "yx336O3J2SdQ",
        "colab": {
          "base_uri": "https://localhost:8080/",
          "height": 371
        },
        "outputId": "fc60a065-3962-4cf3-a4d6-15e2092b43cc"
      },
      "source": [
        "trainer.train()"
      ],
      "execution_count": null,
      "outputs": [
        {
          "data": {
            "text/html": [
              "\n",
              "    <div>\n",
              "        <style>\n",
              "            /* Turns off some styling */\n",
              "            progress {\n",
              "                /* gets rid of default border in Firefox and Opera. */\n",
              "                border: none;\n",
              "                /* Needs to be in here for Safari polyfill so background images work as expected. */\n",
              "                background-size: auto;\n",
              "            }\n",
              "        </style>\n",
              "      \n",
              "      <progress value='1048' max='1112' style='width:300px; height:20px; vertical-align: middle;'></progress>\n",
              "      [1048/1112 2:18:51 < 08:29, 0.13 it/s, Epoch 3.77/4]\n",
              "    </div>\n",
              "    <table border=\"1\" class=\"dataframe\">\n",
              "  <thead>\n",
              "    <tr style=\"text-align: left;\">\n",
              "      <th>Epoch</th>\n",
              "      <th>Training Loss</th>\n",
              "      <th>Validation Loss</th>\n",
              "      <th>Macro F1</th>\n",
              "      <th>Macro F1 Pos Neg</th>\n",
              "      <th>Macro Precision</th>\n",
              "      <th>Macro Recall</th>\n",
              "      <th>Accuracy</th>\n",
              "      <th>Runtime</th>\n",
              "      <th>Samples Per Second</th>\n",
              "    </tr>\n",
              "  </thead>\n",
              "  <tbody>\n",
              "    <tr>\n",
              "      <td>1</td>\n",
              "      <td>No log</td>\n",
              "      <td>0.140026</td>\n",
              "      <td>0.794059</td>\n",
              "      <td>0.794059</td>\n",
              "      <td>0.806197</td>\n",
              "      <td>0.783092</td>\n",
              "      <td>0.937795</td>\n",
              "      <td>102.058700</td>\n",
              "      <td>12.444000</td>\n",
              "    </tr>\n",
              "    <tr>\n",
              "      <td>2</td>\n",
              "      <td>0.220600</td>\n",
              "      <td>0.139614</td>\n",
              "      <td>0.827243</td>\n",
              "      <td>0.827243</td>\n",
              "      <td>0.822022</td>\n",
              "      <td>0.832689</td>\n",
              "      <td>0.944882</td>\n",
              "      <td>102.069600</td>\n",
              "      <td>12.442000</td>\n",
              "    </tr>\n",
              "    <tr>\n",
              "      <td>3</td>\n",
              "      <td>0.220600</td>\n",
              "      <td>0.202723</td>\n",
              "      <td>0.818918</td>\n",
              "      <td>0.818918</td>\n",
              "      <td>0.794516</td>\n",
              "      <td>0.849596</td>\n",
              "      <td>0.937795</td>\n",
              "      <td>102.048800</td>\n",
              "      <td>12.445000</td>\n",
              "    </tr>\n",
              "  </tbody>\n",
              "</table><p>"
            ],
            "text/plain": [
              "<IPython.core.display.HTML object>"
            ]
          },
          "metadata": {},
          "output_type": "display_data"
        },
        {
          "output_type": "display_data",
          "data": {
            "text/plain": [
              "<IPython.core.display.HTML object>"
            ],
            "text/html": [
              "\n",
              "    <div>\n",
              "        <style>\n",
              "            /* Turns off some styling */\n",
              "            progress {\n",
              "                /* gets rid of default border in Firefox and Opera. */\n",
              "                border: none;\n",
              "                /* Needs to be in here for Safari polyfill so background images work as expected. */\n",
              "                background-size: auto;\n",
              "            }\n",
              "        </style>\n",
              "      \n",
              "      <progress value='1112' max='1112' style='width:300px; height:20px; vertical-align: middle;'></progress>\n",
              "      [1112/1112 2:28:50, Epoch 4/4]\n",
              "    </div>\n",
              "    <table border=\"1\" class=\"dataframe\">\n",
              "  <thead>\n",
              "    <tr style=\"text-align: left;\">\n",
              "      <th>Epoch</th>\n",
              "      <th>Training Loss</th>\n",
              "      <th>Validation Loss</th>\n",
              "      <th>Macro F1</th>\n",
              "      <th>Macro F1 Pos Neg</th>\n",
              "      <th>Macro Precision</th>\n",
              "      <th>Macro Recall</th>\n",
              "      <th>Accuracy</th>\n",
              "      <th>Runtime</th>\n",
              "      <th>Samples Per Second</th>\n",
              "    </tr>\n",
              "  </thead>\n",
              "  <tbody>\n",
              "    <tr>\n",
              "      <td>1</td>\n",
              "      <td>No log</td>\n",
              "      <td>0.140026</td>\n",
              "      <td>0.794059</td>\n",
              "      <td>0.794059</td>\n",
              "      <td>0.806197</td>\n",
              "      <td>0.783092</td>\n",
              "      <td>0.937795</td>\n",
              "      <td>102.058700</td>\n",
              "      <td>12.444000</td>\n",
              "    </tr>\n",
              "    <tr>\n",
              "      <td>2</td>\n",
              "      <td>0.220600</td>\n",
              "      <td>0.139614</td>\n",
              "      <td>0.827243</td>\n",
              "      <td>0.827243</td>\n",
              "      <td>0.822022</td>\n",
              "      <td>0.832689</td>\n",
              "      <td>0.944882</td>\n",
              "      <td>102.069600</td>\n",
              "      <td>12.442000</td>\n",
              "    </tr>\n",
              "    <tr>\n",
              "      <td>3</td>\n",
              "      <td>0.220600</td>\n",
              "      <td>0.202723</td>\n",
              "      <td>0.818918</td>\n",
              "      <td>0.818918</td>\n",
              "      <td>0.794516</td>\n",
              "      <td>0.849596</td>\n",
              "      <td>0.937795</td>\n",
              "      <td>102.048800</td>\n",
              "      <td>12.445000</td>\n",
              "    </tr>\n",
              "    <tr>\n",
              "      <td>4</td>\n",
              "      <td>0.078000</td>\n",
              "      <td>0.208702</td>\n",
              "      <td>0.823113</td>\n",
              "      <td>0.823113</td>\n",
              "      <td>0.808824</td>\n",
              "      <td>0.839280</td>\n",
              "      <td>0.941732</td>\n",
              "      <td>102.036900</td>\n",
              "      <td>12.446000</td>\n",
              "    </tr>\n",
              "  </tbody>\n",
              "</table><p>"
            ]
          },
          "metadata": {}
        },
        {
          "output_type": "execute_result",
          "data": {
            "text/plain": [
              "TrainOutput(global_step=1112, training_loss=0.13891053285530144, metrics={'train_runtime': 8938.1269, 'train_samples_per_second': 0.124, 'total_flos': 8891502749700096, 'epoch': 4.0})"
            ]
          },
          "metadata": {},
          "execution_count": 31
        }
      ]
    },
    {
      "cell_type": "code",
      "source": [
        "result=trainer.predict(test_set)\n"
      ],
      "metadata": {
        "id": "vqZ2UYV5_db8",
        "colab": {
          "base_uri": "https://localhost:8080/",
          "height": 37
        },
        "outputId": "23bcfd6c-18ab-453b-a164-fffc5bea8060"
      },
      "execution_count": null,
      "outputs": [
        {
          "output_type": "display_data",
          "data": {
            "text/plain": [
              "<IPython.core.display.HTML object>"
            ],
            "text/html": [
              "\n",
              "    <div>\n",
              "        <style>\n",
              "            /* Turns off some styling */\n",
              "            progress {\n",
              "                /* gets rid of default border in Firefox and Opera. */\n",
              "                border: none;\n",
              "                /* Needs to be in here for Safari polyfill so background images work as expected. */\n",
              "                background-size: auto;\n",
              "            }\n",
              "        </style>\n",
              "      \n",
              "      <progress value='159' max='159' style='width:300px; height:20px; vertical-align: middle;'></progress>\n",
              "      [159/159 03:22]\n",
              "    </div>\n",
              "    "
            ]
          },
          "metadata": {}
        }
      ]
    },
    {
      "cell_type": "code",
      "source": [
        "print(result[0])"
      ],
      "metadata": {
        "id": "ANvrShzPItW1",
        "colab": {
          "base_uri": "https://localhost:8080/"
        },
        "outputId": "adc37583-cd0b-400b-d8e1-af35865f0f41"
      },
      "execution_count": null,
      "outputs": [
        {
          "output_type": "stream",
          "name": "stdout",
          "text": [
            "[[ 3.488 -3.326]\n",
            " [ 3.49  -3.264]\n",
            " [ 3.492 -3.248]\n",
            " ...\n",
            " [ 3.438 -3.318]\n",
            " [ 2.865 -2.729]\n",
            " [ 2.613 -2.348]]\n"
          ]
        }
      ]
    },
    {
      "cell_type": "code",
      "metadata": {
        "id": "Seyz8Yaj2ZCK"
      },
      "source": [
        "trainer.save_model(\"HS_Not_HS\")"
      ],
      "execution_count": null,
      "outputs": []
    },
    {
      "cell_type": "code",
      "source": [
        "def conv2txt(labels):\n",
        "  txtLabels = []\n",
        "  for i in labels:\n",
        "    val, idx = max((val, idx) for (idx, val) in enumerate(i))\n",
        "    if idx == 0:\n",
        "      txtLabels.append(\"NOT_HS\")\n",
        "    elif idx == 1:\n",
        "      txtLabels.append(\"HS\")\n",
        "  return txtLabels"
      ],
      "metadata": {
        "id": "PQdlK-Qf6209"
      },
      "execution_count": null,
      "outputs": []
    },
    {
      "cell_type": "code",
      "source": [
        "labels= conv2txt(result[0])"
      ],
      "metadata": {
        "id": "1rA1mkxRWBrr"
      },
      "execution_count": null,
      "outputs": []
    },
    {
      "cell_type": "code",
      "source": [
        "print(labels)"
      ],
      "metadata": {
        "id": "ShsaKV_gWEZX",
        "colab": {
          "base_uri": "https://localhost:8080/"
        },
        "outputId": "997cb3b6-a39d-4066-8741-4b116dfcc525"
      },
      "execution_count": null,
      "outputs": [
        {
          "output_type": "stream",
          "name": "stdout",
          "text": [
            "['NOT_HS', 'NOT_HS', 'NOT_HS', 'NOT_HS', 'NOT_HS', 'NOT_HS', 'NOT_HS', 'NOT_HS', 'NOT_HS', 'NOT_HS', 'NOT_HS', 'HS', 'NOT_HS', 'NOT_HS', 'NOT_HS', 'NOT_HS', 'NOT_HS', 'HS', 'HS', 'NOT_HS', 'NOT_HS', 'HS', 'HS', 'HS', 'NOT_HS', 'NOT_HS', 'NOT_HS', 'NOT_HS', 'NOT_HS', 'HS', 'NOT_HS', 'NOT_HS', 'NOT_HS', 'NOT_HS', 'NOT_HS', 'NOT_HS', 'NOT_HS', 'NOT_HS', 'NOT_HS', 'NOT_HS', 'NOT_HS', 'HS', 'NOT_HS', 'NOT_HS', 'NOT_HS', 'NOT_HS', 'HS', 'NOT_HS', 'NOT_HS', 'NOT_HS', 'NOT_HS', 'NOT_HS', 'NOT_HS', 'NOT_HS', 'NOT_HS', 'NOT_HS', 'HS', 'NOT_HS', 'NOT_HS', 'NOT_HS', 'NOT_HS', 'HS', 'NOT_HS', 'NOT_HS', 'NOT_HS', 'NOT_HS', 'NOT_HS', 'NOT_HS', 'NOT_HS', 'NOT_HS', 'HS', 'NOT_HS', 'HS', 'NOT_HS', 'NOT_HS', 'NOT_HS', 'HS', 'NOT_HS', 'NOT_HS', 'NOT_HS', 'HS', 'NOT_HS', 'NOT_HS', 'NOT_HS', 'NOT_HS', 'NOT_HS', 'NOT_HS', 'HS', 'NOT_HS', 'NOT_HS', 'HS', 'NOT_HS', 'NOT_HS', 'NOT_HS', 'NOT_HS', 'NOT_HS', 'HS', 'NOT_HS', 'NOT_HS', 'NOT_HS', 'NOT_HS', 'NOT_HS', 'NOT_HS', 'NOT_HS', 'NOT_HS', 'NOT_HS', 'NOT_HS', 'NOT_HS', 'NOT_HS', 'NOT_HS', 'NOT_HS', 'HS', 'NOT_HS', 'NOT_HS', 'NOT_HS', 'NOT_HS', 'NOT_HS', 'HS', 'NOT_HS', 'NOT_HS', 'NOT_HS', 'NOT_HS', 'NOT_HS', 'NOT_HS', 'NOT_HS', 'NOT_HS', 'NOT_HS', 'NOT_HS', 'NOT_HS', 'NOT_HS', 'NOT_HS', 'NOT_HS', 'NOT_HS', 'NOT_HS', 'NOT_HS', 'NOT_HS', 'NOT_HS', 'NOT_HS', 'NOT_HS', 'NOT_HS', 'NOT_HS', 'NOT_HS', 'NOT_HS', 'NOT_HS', 'NOT_HS', 'NOT_HS', 'NOT_HS', 'NOT_HS', 'NOT_HS', 'NOT_HS', 'NOT_HS', 'HS', 'NOT_HS', 'NOT_HS', 'NOT_HS', 'NOT_HS', 'NOT_HS', 'NOT_HS', 'NOT_HS', 'NOT_HS', 'NOT_HS', 'NOT_HS', 'NOT_HS', 'NOT_HS', 'NOT_HS', 'NOT_HS', 'NOT_HS', 'NOT_HS', 'NOT_HS', 'NOT_HS', 'HS', 'NOT_HS', 'NOT_HS', 'NOT_HS', 'HS', 'NOT_HS', 'HS', 'NOT_HS', 'NOT_HS', 'HS', 'NOT_HS', 'NOT_HS', 'NOT_HS', 'NOT_HS', 'NOT_HS', 'NOT_HS', 'NOT_HS', 'NOT_HS', 'NOT_HS', 'NOT_HS', 'NOT_HS', 'NOT_HS', 'HS', 'NOT_HS', 'NOT_HS', 'NOT_HS', 'NOT_HS', 'NOT_HS', 'NOT_HS', 'NOT_HS', 'NOT_HS', 'NOT_HS', 'NOT_HS', 'NOT_HS', 'NOT_HS', 'NOT_HS', 'NOT_HS', 'NOT_HS', 'NOT_HS', 'NOT_HS', 'NOT_HS', 'NOT_HS', 'HS', 'NOT_HS', 'NOT_HS', 'NOT_HS', 'NOT_HS', 'NOT_HS', 'NOT_HS', 'NOT_HS', 'NOT_HS', 'NOT_HS', 'NOT_HS', 'HS', 'NOT_HS', 'NOT_HS', 'NOT_HS', 'NOT_HS', 'NOT_HS', 'NOT_HS', 'NOT_HS', 'NOT_HS', 'HS', 'NOT_HS', 'NOT_HS', 'NOT_HS', 'NOT_HS', 'NOT_HS', 'NOT_HS', 'NOT_HS', 'NOT_HS', 'NOT_HS', 'NOT_HS', 'NOT_HS', 'NOT_HS', 'NOT_HS', 'NOT_HS', 'NOT_HS', 'NOT_HS', 'NOT_HS', 'NOT_HS', 'NOT_HS', 'NOT_HS', 'NOT_HS', 'NOT_HS', 'NOT_HS', 'NOT_HS', 'HS', 'NOT_HS', 'NOT_HS', 'NOT_HS', 'NOT_HS', 'NOT_HS', 'NOT_HS', 'NOT_HS', 'NOT_HS', 'NOT_HS', 'NOT_HS', 'NOT_HS', 'NOT_HS', 'NOT_HS', 'NOT_HS', 'NOT_HS', 'NOT_HS', 'NOT_HS', 'HS', 'NOT_HS', 'NOT_HS', 'NOT_HS', 'NOT_HS', 'NOT_HS', 'NOT_HS', 'NOT_HS', 'NOT_HS', 'NOT_HS', 'NOT_HS', 'NOT_HS', 'NOT_HS', 'HS', 'NOT_HS', 'NOT_HS', 'NOT_HS', 'NOT_HS', 'NOT_HS', 'NOT_HS', 'HS', 'HS', 'NOT_HS', 'NOT_HS', 'NOT_HS', 'NOT_HS', 'NOT_HS', 'NOT_HS', 'NOT_HS', 'NOT_HS', 'NOT_HS', 'HS', 'NOT_HS', 'HS', 'NOT_HS', 'NOT_HS', 'NOT_HS', 'NOT_HS', 'NOT_HS', 'NOT_HS', 'NOT_HS', 'NOT_HS', 'NOT_HS', 'NOT_HS', 'NOT_HS', 'NOT_HS', 'HS', 'HS', 'NOT_HS', 'NOT_HS', 'NOT_HS', 'NOT_HS', 'NOT_HS', 'NOT_HS', 'NOT_HS', 'NOT_HS', 'NOT_HS', 'NOT_HS', 'NOT_HS', 'NOT_HS', 'NOT_HS', 'NOT_HS', 'NOT_HS', 'NOT_HS', 'NOT_HS', 'NOT_HS', 'HS', 'NOT_HS', 'NOT_HS', 'NOT_HS', 'HS', 'NOT_HS', 'HS', 'NOT_HS', 'NOT_HS', 'NOT_HS', 'NOT_HS', 'NOT_HS', 'NOT_HS', 'NOT_HS', 'NOT_HS', 'NOT_HS', 'NOT_HS', 'NOT_HS', 'NOT_HS', 'NOT_HS', 'NOT_HS', 'NOT_HS', 'HS', 'NOT_HS', 'NOT_HS', 'NOT_HS', 'NOT_HS', 'NOT_HS', 'NOT_HS', 'NOT_HS', 'NOT_HS', 'NOT_HS', 'NOT_HS', 'NOT_HS', 'NOT_HS', 'NOT_HS', 'HS', 'NOT_HS', 'NOT_HS', 'NOT_HS', 'NOT_HS', 'NOT_HS', 'NOT_HS', 'NOT_HS', 'NOT_HS', 'NOT_HS', 'NOT_HS', 'NOT_HS', 'NOT_HS', 'NOT_HS', 'NOT_HS', 'NOT_HS', 'NOT_HS', 'NOT_HS', 'NOT_HS', 'NOT_HS', 'NOT_HS', 'NOT_HS', 'HS', 'HS', 'NOT_HS', 'NOT_HS', 'NOT_HS', 'NOT_HS', 'HS', 'HS', 'NOT_HS', 'NOT_HS', 'NOT_HS', 'NOT_HS', 'NOT_HS', 'NOT_HS', 'NOT_HS', 'NOT_HS', 'NOT_HS', 'NOT_HS', 'NOT_HS', 'HS', 'NOT_HS', 'NOT_HS', 'NOT_HS', 'NOT_HS', 'NOT_HS', 'NOT_HS', 'NOT_HS', 'NOT_HS', 'NOT_HS', 'NOT_HS', 'NOT_HS', 'NOT_HS', 'HS', 'NOT_HS', 'NOT_HS', 'NOT_HS', 'NOT_HS', 'NOT_HS', 'NOT_HS', 'NOT_HS', 'NOT_HS', 'NOT_HS', 'NOT_HS', 'NOT_HS', 'NOT_HS', 'NOT_HS', 'NOT_HS', 'NOT_HS', 'NOT_HS', 'NOT_HS', 'NOT_HS', 'HS', 'NOT_HS', 'NOT_HS', 'NOT_HS', 'NOT_HS', 'NOT_HS', 'NOT_HS', 'NOT_HS', 'NOT_HS', 'NOT_HS', 'NOT_HS', 'NOT_HS', 'NOT_HS', 'NOT_HS', 'HS', 'HS', 'HS', 'NOT_HS', 'NOT_HS', 'NOT_HS', 'HS', 'NOT_HS', 'HS', 'NOT_HS', 'HS', 'NOT_HS', 'NOT_HS', 'NOT_HS', 'HS', 'NOT_HS', 'NOT_HS', 'NOT_HS', 'NOT_HS', 'NOT_HS', 'NOT_HS', 'NOT_HS', 'NOT_HS', 'HS', 'NOT_HS', 'NOT_HS', 'NOT_HS', 'HS', 'NOT_HS', 'NOT_HS', 'NOT_HS', 'NOT_HS', 'HS', 'NOT_HS', 'NOT_HS', 'NOT_HS', 'NOT_HS', 'NOT_HS', 'NOT_HS', 'NOT_HS', 'NOT_HS', 'NOT_HS', 'NOT_HS', 'NOT_HS', 'NOT_HS', 'NOT_HS', 'NOT_HS', 'HS', 'NOT_HS', 'NOT_HS', 'NOT_HS', 'NOT_HS', 'NOT_HS', 'NOT_HS', 'NOT_HS', 'NOT_HS', 'NOT_HS', 'NOT_HS', 'NOT_HS', 'NOT_HS', 'NOT_HS', 'NOT_HS', 'NOT_HS', 'NOT_HS', 'NOT_HS', 'NOT_HS', 'NOT_HS', 'HS', 'HS', 'NOT_HS', 'NOT_HS', 'NOT_HS', 'NOT_HS', 'NOT_HS', 'NOT_HS', 'NOT_HS', 'NOT_HS', 'NOT_HS', 'NOT_HS', 'NOT_HS', 'NOT_HS', 'HS', 'HS', 'HS', 'NOT_HS', 'NOT_HS', 'NOT_HS', 'NOT_HS', 'NOT_HS', 'NOT_HS', 'NOT_HS', 'NOT_HS', 'NOT_HS', 'HS', 'NOT_HS', 'HS', 'NOT_HS', 'NOT_HS', 'NOT_HS', 'NOT_HS', 'NOT_HS', 'NOT_HS', 'NOT_HS', 'NOT_HS', 'NOT_HS', 'NOT_HS', 'NOT_HS', 'NOT_HS', 'NOT_HS', 'NOT_HS', 'HS', 'NOT_HS', 'NOT_HS', 'NOT_HS', 'NOT_HS', 'NOT_HS', 'NOT_HS', 'NOT_HS', 'NOT_HS', 'NOT_HS', 'NOT_HS', 'NOT_HS', 'NOT_HS', 'NOT_HS', 'NOT_HS', 'NOT_HS', 'NOT_HS', 'HS', 'NOT_HS', 'NOT_HS', 'NOT_HS', 'NOT_HS', 'NOT_HS', 'NOT_HS', 'NOT_HS', 'NOT_HS', 'NOT_HS', 'NOT_HS', 'NOT_HS', 'NOT_HS', 'NOT_HS', 'NOT_HS', 'NOT_HS', 'NOT_HS', 'NOT_HS', 'NOT_HS', 'HS', 'HS', 'NOT_HS', 'NOT_HS', 'NOT_HS', 'NOT_HS', 'NOT_HS', 'NOT_HS', 'NOT_HS', 'HS', 'NOT_HS', 'NOT_HS', 'NOT_HS', 'NOT_HS', 'NOT_HS', 'NOT_HS', 'NOT_HS', 'HS', 'NOT_HS', 'NOT_HS', 'NOT_HS', 'NOT_HS', 'NOT_HS', 'NOT_HS', 'NOT_HS', 'NOT_HS', 'NOT_HS', 'NOT_HS', 'NOT_HS', 'NOT_HS', 'NOT_HS', 'NOT_HS', 'NOT_HS', 'NOT_HS', 'NOT_HS', 'HS', 'NOT_HS', 'HS', 'NOT_HS', 'HS', 'NOT_HS', 'NOT_HS', 'NOT_HS', 'NOT_HS', 'NOT_HS', 'NOT_HS', 'NOT_HS', 'NOT_HS', 'NOT_HS', 'NOT_HS', 'NOT_HS', 'NOT_HS', 'NOT_HS', 'NOT_HS', 'HS', 'NOT_HS', 'NOT_HS', 'NOT_HS', 'NOT_HS', 'NOT_HS', 'HS', 'NOT_HS', 'NOT_HS', 'NOT_HS', 'NOT_HS', 'NOT_HS', 'NOT_HS', 'NOT_HS', 'NOT_HS', 'NOT_HS', 'NOT_HS', 'NOT_HS', 'NOT_HS', 'NOT_HS', 'NOT_HS', 'HS', 'NOT_HS', 'NOT_HS', 'NOT_HS', 'NOT_HS', 'NOT_HS', 'NOT_HS', 'NOT_HS', 'NOT_HS', 'NOT_HS', 'NOT_HS', 'NOT_HS', 'NOT_HS', 'NOT_HS', 'NOT_HS', 'HS', 'NOT_HS', 'NOT_HS', 'HS', 'NOT_HS', 'HS', 'NOT_HS', 'NOT_HS', 'NOT_HS', 'NOT_HS', 'NOT_HS', 'NOT_HS', 'NOT_HS', 'NOT_HS', 'NOT_HS', 'NOT_HS', 'NOT_HS', 'NOT_HS', 'NOT_HS', 'NOT_HS', 'NOT_HS', 'NOT_HS', 'NOT_HS', 'NOT_HS', 'HS', 'HS', 'NOT_HS', 'HS', 'NOT_HS', 'NOT_HS', 'NOT_HS', 'NOT_HS', 'NOT_HS', 'HS', 'NOT_HS', 'NOT_HS', 'HS', 'NOT_HS', 'NOT_HS', 'NOT_HS', 'NOT_HS', 'NOT_HS', 'NOT_HS', 'NOT_HS', 'NOT_HS', 'NOT_HS', 'HS', 'NOT_HS', 'NOT_HS', 'NOT_HS', 'NOT_HS', 'NOT_HS', 'NOT_HS', 'NOT_HS', 'NOT_HS', 'NOT_HS', 'NOT_HS', 'NOT_HS', 'NOT_HS', 'NOT_HS', 'NOT_HS', 'NOT_HS', 'NOT_HS', 'HS', 'NOT_HS', 'NOT_HS', 'NOT_HS', 'NOT_HS', 'NOT_HS', 'NOT_HS', 'NOT_HS', 'HS', 'NOT_HS', 'NOT_HS', 'NOT_HS', 'NOT_HS', 'NOT_HS', 'NOT_HS', 'NOT_HS', 'NOT_HS', 'NOT_HS', 'NOT_HS', 'NOT_HS', 'NOT_HS', 'NOT_HS', 'NOT_HS', 'NOT_HS', 'NOT_HS', 'NOT_HS', 'NOT_HS', 'NOT_HS', 'NOT_HS', 'NOT_HS', 'NOT_HS', 'NOT_HS', 'NOT_HS', 'NOT_HS', 'NOT_HS', 'NOT_HS', 'NOT_HS', 'NOT_HS', 'NOT_HS', 'NOT_HS', 'NOT_HS', 'NOT_HS', 'NOT_HS', 'NOT_HS', 'NOT_HS', 'NOT_HS', 'NOT_HS', 'NOT_HS', 'NOT_HS', 'NOT_HS', 'NOT_HS', 'NOT_HS', 'NOT_HS', 'NOT_HS', 'NOT_HS', 'NOT_HS', 'NOT_HS', 'HS', 'HS', 'NOT_HS', 'NOT_HS', 'NOT_HS', 'NOT_HS', 'HS', 'HS', 'NOT_HS', 'NOT_HS', 'NOT_HS', 'NOT_HS', 'NOT_HS', 'NOT_HS', 'NOT_HS', 'NOT_HS', 'NOT_HS', 'NOT_HS', 'HS', 'NOT_HS', 'HS', 'NOT_HS', 'HS', 'NOT_HS', 'NOT_HS', 'NOT_HS', 'HS', 'NOT_HS', 'HS', 'NOT_HS', 'NOT_HS', 'NOT_HS', 'NOT_HS', 'NOT_HS', 'HS', 'NOT_HS', 'NOT_HS', 'NOT_HS', 'NOT_HS', 'NOT_HS', 'NOT_HS', 'NOT_HS', 'HS', 'HS', 'NOT_HS', 'NOT_HS', 'HS', 'NOT_HS', 'HS', 'NOT_HS', 'NOT_HS', 'NOT_HS', 'NOT_HS', 'NOT_HS', 'NOT_HS', 'NOT_HS', 'NOT_HS', 'NOT_HS', 'HS', 'NOT_HS', 'NOT_HS', 'NOT_HS', 'HS', 'HS', 'NOT_HS', 'NOT_HS', 'NOT_HS', 'NOT_HS', 'NOT_HS', 'HS', 'NOT_HS', 'NOT_HS', 'NOT_HS', 'NOT_HS', 'NOT_HS', 'NOT_HS', 'NOT_HS', 'NOT_HS', 'NOT_HS', 'NOT_HS', 'NOT_HS', 'NOT_HS', 'NOT_HS', 'NOT_HS', 'NOT_HS', 'HS', 'NOT_HS', 'NOT_HS', 'NOT_HS', 'NOT_HS', 'NOT_HS', 'NOT_HS', 'NOT_HS', 'NOT_HS', 'NOT_HS', 'NOT_HS', 'NOT_HS', 'NOT_HS', 'NOT_HS', 'NOT_HS', 'NOT_HS', 'NOT_HS', 'NOT_HS', 'NOT_HS', 'NOT_HS', 'NOT_HS', 'NOT_HS', 'NOT_HS', 'NOT_HS', 'NOT_HS', 'NOT_HS', 'NOT_HS', 'NOT_HS', 'NOT_HS', 'NOT_HS', 'NOT_HS', 'HS', 'NOT_HS', 'NOT_HS', 'NOT_HS', 'HS', 'HS', 'NOT_HS', 'NOT_HS', 'NOT_HS', 'NOT_HS', 'NOT_HS', 'NOT_HS', 'NOT_HS', 'NOT_HS', 'NOT_HS', 'NOT_HS', 'NOT_HS', 'NOT_HS', 'NOT_HS', 'NOT_HS', 'NOT_HS', 'NOT_HS', 'NOT_HS', 'NOT_HS', 'NOT_HS', 'NOT_HS', 'NOT_HS', 'NOT_HS', 'NOT_HS', 'NOT_HS', 'NOT_HS', 'NOT_HS', 'NOT_HS', 'NOT_HS', 'NOT_HS', 'NOT_HS', 'NOT_HS', 'NOT_HS', 'NOT_HS', 'NOT_HS', 'NOT_HS', 'NOT_HS', 'NOT_HS', 'NOT_HS', 'NOT_HS', 'NOT_HS', 'NOT_HS', 'NOT_HS', 'NOT_HS', 'NOT_HS', 'NOT_HS', 'NOT_HS', 'NOT_HS', 'NOT_HS', 'NOT_HS', 'NOT_HS', 'NOT_HS', 'NOT_HS', 'NOT_HS', 'NOT_HS', 'NOT_HS', 'NOT_HS', 'NOT_HS', 'NOT_HS', 'NOT_HS', 'NOT_HS', 'NOT_HS', 'NOT_HS', 'NOT_HS', 'NOT_HS', 'HS', 'NOT_HS', 'NOT_HS', 'NOT_HS', 'NOT_HS', 'NOT_HS', 'HS', 'HS', 'NOT_HS', 'NOT_HS', 'NOT_HS', 'NOT_HS', 'NOT_HS', 'NOT_HS', 'NOT_HS', 'NOT_HS', 'NOT_HS', 'NOT_HS', 'NOT_HS', 'NOT_HS', 'NOT_HS', 'NOT_HS', 'HS', 'NOT_HS', 'NOT_HS', 'NOT_HS', 'NOT_HS', 'NOT_HS', 'NOT_HS', 'NOT_HS', 'NOT_HS', 'NOT_HS', 'NOT_HS', 'NOT_HS', 'HS', 'NOT_HS', 'NOT_HS', 'NOT_HS', 'NOT_HS', 'NOT_HS', 'HS', 'NOT_HS', 'NOT_HS', 'NOT_HS', 'NOT_HS', 'NOT_HS', 'NOT_HS', 'NOT_HS', 'NOT_HS', 'NOT_HS', 'NOT_HS', 'NOT_HS', 'NOT_HS', 'HS', 'NOT_HS', 'NOT_HS', 'NOT_HS', 'NOT_HS', 'NOT_HS', 'NOT_HS', 'NOT_HS', 'NOT_HS', 'HS', 'NOT_HS', 'NOT_HS', 'NOT_HS', 'NOT_HS', 'NOT_HS', 'NOT_HS', 'NOT_HS', 'NOT_HS', 'NOT_HS', 'NOT_HS', 'NOT_HS', 'NOT_HS', 'NOT_HS', 'NOT_HS', 'NOT_HS', 'NOT_HS', 'NOT_HS', 'NOT_HS', 'NOT_HS', 'NOT_HS', 'NOT_HS', 'NOT_HS', 'NOT_HS', 'HS', 'NOT_HS', 'NOT_HS', 'NOT_HS', 'NOT_HS', 'NOT_HS', 'NOT_HS', 'NOT_HS', 'NOT_HS', 'NOT_HS', 'NOT_HS', 'NOT_HS', 'NOT_HS', 'NOT_HS', 'NOT_HS', 'NOT_HS', 'NOT_HS', 'NOT_HS', 'HS', 'NOT_HS', 'NOT_HS', 'NOT_HS', 'NOT_HS', 'NOT_HS', 'NOT_HS', 'NOT_HS', 'NOT_HS', 'NOT_HS', 'NOT_HS', 'NOT_HS', 'NOT_HS', 'NOT_HS', 'NOT_HS', 'NOT_HS', 'HS', 'HS', 'NOT_HS', 'NOT_HS', 'NOT_HS', 'NOT_HS', 'NOT_HS', 'NOT_HS', 'NOT_HS', 'NOT_HS', 'NOT_HS', 'HS', 'NOT_HS', 'NOT_HS', 'NOT_HS', 'HS', 'NOT_HS', 'NOT_HS', 'NOT_HS', 'NOT_HS', 'NOT_HS', 'NOT_HS', 'NOT_HS', 'NOT_HS', 'NOT_HS', 'NOT_HS', 'HS', 'NOT_HS', 'NOT_HS', 'NOT_HS', 'NOT_HS', 'HS', 'NOT_HS', 'NOT_HS', 'NOT_HS', 'NOT_HS', 'NOT_HS', 'NOT_HS', 'NOT_HS', 'NOT_HS', 'HS', 'NOT_HS', 'NOT_HS', 'NOT_HS', 'NOT_HS', 'NOT_HS', 'NOT_HS', 'NOT_HS', 'NOT_HS', 'HS', 'NOT_HS', 'NOT_HS', 'NOT_HS', 'NOT_HS', 'NOT_HS', 'NOT_HS', 'NOT_HS', 'NOT_HS', 'NOT_HS', 'NOT_HS', 'HS', 'NOT_HS', 'NOT_HS', 'NOT_HS', 'NOT_HS', 'NOT_HS', 'HS', 'NOT_HS', 'NOT_HS', 'NOT_HS', 'NOT_HS', 'NOT_HS', 'NOT_HS', 'NOT_HS', 'NOT_HS', 'NOT_HS', 'NOT_HS', 'NOT_HS', 'NOT_HS', 'HS', 'NOT_HS', 'HS', 'NOT_HS', 'NOT_HS', 'NOT_HS', 'NOT_HS', 'NOT_HS', 'NOT_HS', 'NOT_HS', 'NOT_HS', 'NOT_HS', 'NOT_HS', 'NOT_HS', 'NOT_HS', 'HS', 'NOT_HS', 'HS', 'NOT_HS', 'NOT_HS', 'NOT_HS', 'NOT_HS', 'NOT_HS', 'NOT_HS', 'HS', 'NOT_HS', 'NOT_HS', 'NOT_HS', 'NOT_HS', 'NOT_HS', 'HS', 'NOT_HS', 'NOT_HS', 'NOT_HS', 'NOT_HS', 'NOT_HS', 'NOT_HS', 'NOT_HS', 'HS', 'NOT_HS', 'NOT_HS', 'NOT_HS', 'NOT_HS', 'NOT_HS', 'NOT_HS', 'NOT_HS', 'NOT_HS', 'NOT_HS', 'NOT_HS', 'NOT_HS', 'NOT_HS', 'NOT_HS', 'NOT_HS', 'NOT_HS', 'NOT_HS', 'NOT_HS', 'NOT_HS', 'NOT_HS', 'NOT_HS', 'HS', 'HS', 'HS', 'NOT_HS', 'NOT_HS', 'NOT_HS', 'NOT_HS', 'HS', 'NOT_HS', 'NOT_HS', 'NOT_HS', 'NOT_HS', 'NOT_HS', 'HS', 'NOT_HS', 'HS', 'NOT_HS', 'NOT_HS', 'NOT_HS', 'NOT_HS', 'NOT_HS', 'HS', 'NOT_HS', 'NOT_HS', 'NOT_HS', 'NOT_HS', 'NOT_HS', 'NOT_HS', 'NOT_HS', 'NOT_HS', 'NOT_HS', 'NOT_HS', 'NOT_HS', 'NOT_HS', 'NOT_HS', 'NOT_HS', 'NOT_HS', 'NOT_HS', 'NOT_HS', 'NOT_HS', 'NOT_HS', 'NOT_HS', 'NOT_HS', 'NOT_HS', 'NOT_HS', 'NOT_HS', 'NOT_HS', 'NOT_HS', 'NOT_HS', 'NOT_HS', 'NOT_HS', 'NOT_HS', 'NOT_HS', 'NOT_HS', 'NOT_HS', 'HS', 'NOT_HS', 'NOT_HS', 'NOT_HS', 'NOT_HS', 'NOT_HS', 'NOT_HS', 'NOT_HS', 'NOT_HS', 'NOT_HS', 'NOT_HS', 'NOT_HS', 'HS', 'NOT_HS', 'NOT_HS', 'HS', 'NOT_HS', 'NOT_HS', 'HS', 'NOT_HS', 'NOT_HS', 'NOT_HS', 'NOT_HS', 'NOT_HS', 'NOT_HS', 'NOT_HS', 'NOT_HS', 'NOT_HS', 'NOT_HS', 'NOT_HS', 'NOT_HS', 'NOT_HS', 'NOT_HS', 'NOT_HS', 'NOT_HS', 'NOT_HS', 'NOT_HS', 'NOT_HS', 'NOT_HS', 'HS', 'NOT_HS', 'NOT_HS', 'NOT_HS', 'NOT_HS', 'NOT_HS', 'HS', 'NOT_HS', 'NOT_HS', 'NOT_HS', 'NOT_HS', 'NOT_HS', 'NOT_HS', 'NOT_HS', 'NOT_HS', 'HS', 'NOT_HS', 'NOT_HS', 'NOT_HS', 'NOT_HS', 'NOT_HS', 'NOT_HS', 'NOT_HS', 'NOT_HS', 'NOT_HS', 'NOT_HS', 'NOT_HS', 'NOT_HS', 'NOT_HS', 'NOT_HS', 'HS', 'NOT_HS', 'NOT_HS', 'NOT_HS', 'NOT_HS', 'NOT_HS', 'NOT_HS', 'NOT_HS', 'NOT_HS', 'NOT_HS', 'HS', 'NOT_HS', 'NOT_HS', 'HS', 'NOT_HS', 'NOT_HS', 'NOT_HS', 'NOT_HS', 'NOT_HS', 'NOT_HS', 'NOT_HS', 'HS', 'NOT_HS', 'NOT_HS', 'NOT_HS', 'NOT_HS', 'NOT_HS', 'NOT_HS', 'NOT_HS', 'NOT_HS', 'NOT_HS', 'NOT_HS', 'NOT_HS', 'NOT_HS', 'NOT_HS', 'NOT_HS', 'HS', 'NOT_HS', 'HS', 'NOT_HS', 'NOT_HS', 'NOT_HS', 'NOT_HS', 'HS', 'NOT_HS', 'NOT_HS', 'NOT_HS', 'NOT_HS', 'NOT_HS', 'NOT_HS', 'NOT_HS', 'NOT_HS', 'NOT_HS', 'NOT_HS', 'NOT_HS', 'NOT_HS', 'NOT_HS', 'NOT_HS', 'NOT_HS', 'NOT_HS', 'NOT_HS', 'NOT_HS', 'NOT_HS', 'NOT_HS', 'NOT_HS', 'NOT_HS', 'NOT_HS', 'NOT_HS', 'NOT_HS', 'NOT_HS', 'NOT_HS', 'NOT_HS', 'NOT_HS', 'HS', 'NOT_HS', 'HS', 'NOT_HS', 'HS', 'NOT_HS', 'NOT_HS', 'NOT_HS', 'NOT_HS', 'NOT_HS', 'HS', 'NOT_HS', 'NOT_HS', 'NOT_HS', 'NOT_HS', 'NOT_HS', 'NOT_HS', 'NOT_HS', 'NOT_HS', 'HS', 'NOT_HS', 'NOT_HS', 'NOT_HS', 'NOT_HS', 'HS', 'HS', 'NOT_HS', 'NOT_HS', 'HS', 'NOT_HS', 'NOT_HS', 'NOT_HS', 'NOT_HS', 'NOT_HS', 'NOT_HS', 'HS', 'HS', 'NOT_HS', 'NOT_HS', 'NOT_HS', 'NOT_HS', 'NOT_HS', 'NOT_HS', 'NOT_HS', 'NOT_HS', 'NOT_HS', 'NOT_HS', 'NOT_HS', 'NOT_HS', 'NOT_HS', 'NOT_HS', 'NOT_HS', 'NOT_HS', 'NOT_HS', 'NOT_HS', 'NOT_HS', 'NOT_HS', 'NOT_HS', 'NOT_HS', 'NOT_HS', 'NOT_HS', 'NOT_HS', 'NOT_HS', 'NOT_HS', 'NOT_HS', 'HS', 'NOT_HS', 'NOT_HS', 'NOT_HS', 'NOT_HS', 'NOT_HS', 'NOT_HS', 'NOT_HS', 'NOT_HS', 'HS', 'NOT_HS', 'NOT_HS', 'NOT_HS', 'NOT_HS', 'HS', 'NOT_HS', 'HS', 'NOT_HS', 'NOT_HS', 'NOT_HS', 'NOT_HS', 'HS', 'NOT_HS', 'NOT_HS', 'NOT_HS', 'NOT_HS', 'HS', 'NOT_HS', 'HS', 'NOT_HS', 'NOT_HS', 'NOT_HS', 'NOT_HS', 'NOT_HS', 'NOT_HS', 'NOT_HS', 'NOT_HS', 'NOT_HS', 'NOT_HS', 'NOT_HS', 'NOT_HS', 'NOT_HS', 'HS', 'NOT_HS', 'NOT_HS', 'NOT_HS', 'NOT_HS', 'NOT_HS', 'NOT_HS', 'NOT_HS', 'NOT_HS', 'NOT_HS', 'HS', 'NOT_HS', 'NOT_HS', 'NOT_HS', 'NOT_HS', 'NOT_HS', 'NOT_HS', 'NOT_HS', 'NOT_HS', 'NOT_HS', 'NOT_HS', 'NOT_HS', 'NOT_HS', 'NOT_HS', 'NOT_HS', 'NOT_HS', 'NOT_HS', 'NOT_HS', 'NOT_HS', 'NOT_HS', 'NOT_HS', 'NOT_HS', 'NOT_HS', 'NOT_HS', 'NOT_HS', 'NOT_HS', 'NOT_HS', 'NOT_HS', 'NOT_HS', 'HS', 'NOT_HS', 'NOT_HS', 'HS', 'HS', 'NOT_HS', 'NOT_HS', 'NOT_HS', 'NOT_HS', 'NOT_HS', 'NOT_HS', 'NOT_HS', 'NOT_HS', 'NOT_HS', 'NOT_HS', 'NOT_HS', 'NOT_HS', 'NOT_HS', 'NOT_HS', 'NOT_HS', 'NOT_HS', 'NOT_HS', 'HS', 'NOT_HS', 'NOT_HS', 'NOT_HS', 'NOT_HS', 'NOT_HS', 'NOT_HS', 'NOT_HS', 'NOT_HS', 'HS', 'HS', 'NOT_HS', 'NOT_HS', 'NOT_HS', 'NOT_HS', 'NOT_HS', 'NOT_HS', 'HS', 'NOT_HS', 'NOT_HS', 'NOT_HS', 'HS', 'NOT_HS', 'NOT_HS', 'NOT_HS', 'NOT_HS', 'NOT_HS', 'NOT_HS', 'NOT_HS', 'NOT_HS', 'NOT_HS', 'NOT_HS', 'NOT_HS', 'NOT_HS', 'NOT_HS', 'NOT_HS', 'NOT_HS', 'NOT_HS', 'NOT_HS', 'NOT_HS', 'NOT_HS', 'HS', 'NOT_HS', 'NOT_HS', 'NOT_HS', 'NOT_HS', 'NOT_HS', 'NOT_HS', 'NOT_HS', 'NOT_HS', 'NOT_HS', 'NOT_HS', 'NOT_HS', 'NOT_HS', 'NOT_HS', 'NOT_HS', 'NOT_HS', 'NOT_HS', 'NOT_HS', 'NOT_HS', 'NOT_HS', 'NOT_HS', 'NOT_HS', 'NOT_HS', 'NOT_HS', 'NOT_HS', 'NOT_HS', 'NOT_HS', 'NOT_HS', 'NOT_HS', 'NOT_HS', 'NOT_HS', 'NOT_HS', 'NOT_HS', 'NOT_HS', 'HS', 'NOT_HS', 'NOT_HS', 'NOT_HS', 'HS', 'NOT_HS', 'NOT_HS', 'NOT_HS', 'NOT_HS', 'NOT_HS', 'NOT_HS', 'NOT_HS', 'NOT_HS', 'NOT_HS', 'NOT_HS', 'HS', 'NOT_HS', 'NOT_HS', 'HS', 'NOT_HS', 'NOT_HS', 'HS', 'NOT_HS', 'NOT_HS', 'NOT_HS', 'NOT_HS', 'HS', 'NOT_HS', 'NOT_HS', 'HS', 'NOT_HS', 'NOT_HS', 'NOT_HS', 'NOT_HS', 'NOT_HS', 'NOT_HS', 'NOT_HS', 'NOT_HS', 'NOT_HS', 'NOT_HS', 'NOT_HS', 'NOT_HS', 'NOT_HS', 'NOT_HS', 'NOT_HS', 'NOT_HS', 'NOT_HS', 'NOT_HS', 'NOT_HS', 'NOT_HS', 'NOT_HS', 'NOT_HS', 'NOT_HS', 'NOT_HS', 'NOT_HS', 'HS', 'NOT_HS', 'NOT_HS', 'NOT_HS', 'HS', 'NOT_HS', 'NOT_HS', 'NOT_HS', 'NOT_HS', 'NOT_HS', 'NOT_HS', 'NOT_HS', 'HS', 'NOT_HS', 'NOT_HS', 'NOT_HS', 'NOT_HS', 'NOT_HS', 'NOT_HS', 'HS', 'NOT_HS', 'NOT_HS', 'NOT_HS', 'NOT_HS', 'NOT_HS', 'NOT_HS', 'NOT_HS', 'NOT_HS', 'NOT_HS', 'NOT_HS', 'NOT_HS', 'HS', 'NOT_HS', 'NOT_HS', 'NOT_HS', 'NOT_HS', 'NOT_HS', 'HS', 'NOT_HS', 'NOT_HS', 'NOT_HS', 'HS', 'NOT_HS', 'NOT_HS', 'NOT_HS', 'NOT_HS', 'NOT_HS', 'NOT_HS', 'HS', 'NOT_HS', 'NOT_HS', 'NOT_HS', 'NOT_HS', 'NOT_HS', 'NOT_HS', 'NOT_HS', 'HS', 'NOT_HS', 'NOT_HS', 'NOT_HS', 'NOT_HS', 'NOT_HS', 'NOT_HS', 'NOT_HS', 'NOT_HS', 'NOT_HS', 'NOT_HS', 'NOT_HS', 'NOT_HS', 'NOT_HS', 'NOT_HS', 'NOT_HS', 'HS', 'NOT_HS', 'NOT_HS', 'NOT_HS', 'NOT_HS', 'NOT_HS', 'NOT_HS', 'NOT_HS', 'NOT_HS', 'NOT_HS', 'NOT_HS', 'HS', 'NOT_HS', 'HS', 'NOT_HS', 'NOT_HS', 'NOT_HS', 'NOT_HS', 'NOT_HS', 'NOT_HS', 'NOT_HS', 'NOT_HS', 'NOT_HS', 'NOT_HS', 'HS', 'NOT_HS', 'NOT_HS', 'NOT_HS', 'NOT_HS', 'NOT_HS', 'HS', 'NOT_HS', 'NOT_HS', 'NOT_HS', 'NOT_HS', 'NOT_HS', 'NOT_HS', 'NOT_HS', 'NOT_HS', 'NOT_HS', 'NOT_HS', 'NOT_HS', 'NOT_HS', 'NOT_HS', 'HS', 'NOT_HS', 'NOT_HS', 'NOT_HS', 'NOT_HS', 'NOT_HS', 'NOT_HS', 'NOT_HS', 'NOT_HS', 'NOT_HS', 'HS', 'NOT_HS', 'NOT_HS', 'NOT_HS', 'NOT_HS', 'NOT_HS', 'NOT_HS', 'NOT_HS', 'NOT_HS', 'NOT_HS', 'NOT_HS', 'NOT_HS', 'NOT_HS', 'NOT_HS', 'NOT_HS', 'NOT_HS', 'NOT_HS', 'NOT_HS', 'NOT_HS', 'NOT_HS', 'NOT_HS', 'HS', 'NOT_HS', 'NOT_HS', 'NOT_HS', 'NOT_HS', 'NOT_HS', 'HS', 'NOT_HS', 'HS', 'NOT_HS', 'NOT_HS', 'NOT_HS', 'NOT_HS', 'NOT_HS', 'NOT_HS', 'NOT_HS', 'NOT_HS', 'NOT_HS', 'NOT_HS', 'NOT_HS', 'NOT_HS', 'NOT_HS', 'NOT_HS', 'NOT_HS', 'NOT_HS', 'NOT_HS', 'NOT_HS', 'NOT_HS', 'NOT_HS', 'NOT_HS', 'NOT_HS', 'NOT_HS', 'NOT_HS', 'NOT_HS', 'NOT_HS', 'HS', 'NOT_HS', 'NOT_HS', 'NOT_HS', 'NOT_HS', 'NOT_HS', 'NOT_HS', 'HS', 'NOT_HS', 'NOT_HS', 'NOT_HS', 'NOT_HS', 'NOT_HS', 'NOT_HS', 'HS', 'NOT_HS', 'NOT_HS', 'NOT_HS', 'NOT_HS', 'NOT_HS', 'NOT_HS', 'NOT_HS', 'NOT_HS', 'HS', 'NOT_HS', 'NOT_HS', 'NOT_HS', 'NOT_HS', 'HS', 'NOT_HS', 'NOT_HS', 'NOT_HS', 'NOT_HS', 'NOT_HS', 'HS', 'NOT_HS', 'NOT_HS', 'NOT_HS', 'NOT_HS', 'HS', 'NOT_HS', 'NOT_HS', 'HS', 'NOT_HS', 'NOT_HS', 'NOT_HS', 'NOT_HS', 'NOT_HS', 'NOT_HS', 'NOT_HS', 'NOT_HS', 'NOT_HS', 'NOT_HS', 'NOT_HS', 'NOT_HS', 'NOT_HS', 'NOT_HS', 'NOT_HS', 'NOT_HS', 'NOT_HS', 'NOT_HS', 'NOT_HS', 'NOT_HS', 'NOT_HS', 'NOT_HS', 'NOT_HS', 'NOT_HS', 'NOT_HS', 'NOT_HS', 'NOT_HS', 'NOT_HS', 'NOT_HS', 'NOT_HS', 'NOT_HS', 'NOT_HS', 'NOT_HS', 'HS', 'NOT_HS', 'NOT_HS', 'NOT_HS', 'NOT_HS', 'NOT_HS', 'NOT_HS', 'NOT_HS', 'NOT_HS', 'NOT_HS', 'NOT_HS', 'NOT_HS', 'NOT_HS', 'NOT_HS', 'NOT_HS', 'NOT_HS', 'NOT_HS', 'NOT_HS', 'NOT_HS', 'NOT_HS', 'NOT_HS', 'NOT_HS', 'NOT_HS', 'HS', 'NOT_HS', 'NOT_HS', 'NOT_HS', 'NOT_HS', 'NOT_HS', 'NOT_HS', 'NOT_HS', 'NOT_HS', 'HS', 'NOT_HS', 'NOT_HS', 'NOT_HS', 'NOT_HS', 'NOT_HS', 'NOT_HS', 'NOT_HS', 'NOT_HS', 'NOT_HS', 'NOT_HS', 'NOT_HS', 'NOT_HS', 'NOT_HS', 'NOT_HS', 'NOT_HS', 'NOT_HS', 'NOT_HS', 'NOT_HS', 'NOT_HS', 'NOT_HS', 'NOT_HS', 'NOT_HS', 'NOT_HS', 'NOT_HS', 'NOT_HS', 'NOT_HS', 'NOT_HS', 'HS', 'NOT_HS', 'NOT_HS', 'NOT_HS', 'NOT_HS', 'HS', 'NOT_HS', 'NOT_HS', 'NOT_HS', 'NOT_HS', 'NOT_HS', 'NOT_HS', 'HS', 'NOT_HS', 'NOT_HS', 'NOT_HS', 'NOT_HS', 'HS', 'HS', 'NOT_HS', 'NOT_HS', 'NOT_HS', 'NOT_HS', 'NOT_HS', 'NOT_HS', 'NOT_HS', 'NOT_HS', 'HS', 'NOT_HS', 'NOT_HS', 'NOT_HS', 'NOT_HS', 'NOT_HS', 'NOT_HS', 'HS', 'NOT_HS', 'NOT_HS', 'NOT_HS', 'NOT_HS', 'NOT_HS', 'HS', 'NOT_HS', 'NOT_HS', 'NOT_HS', 'NOT_HS', 'HS', 'NOT_HS', 'HS', 'NOT_HS', 'NOT_HS', 'NOT_HS', 'HS', 'NOT_HS', 'NOT_HS', 'NOT_HS', 'NOT_HS', 'NOT_HS', 'NOT_HS', 'NOT_HS', 'NOT_HS', 'NOT_HS', 'NOT_HS', 'HS', 'NOT_HS', 'NOT_HS', 'NOT_HS', 'NOT_HS', 'HS', 'NOT_HS', 'NOT_HS', 'NOT_HS', 'NOT_HS', 'NOT_HS', 'NOT_HS', 'NOT_HS', 'NOT_HS', 'NOT_HS', 'NOT_HS', 'HS', 'NOT_HS', 'NOT_HS', 'NOT_HS', 'NOT_HS', 'NOT_HS', 'NOT_HS', 'NOT_HS', 'NOT_HS', 'NOT_HS', 'NOT_HS', 'NOT_HS', 'NOT_HS', 'NOT_HS', 'NOT_HS', 'NOT_HS', 'NOT_HS', 'NOT_HS', 'NOT_HS', 'NOT_HS', 'NOT_HS', 'NOT_HS', 'NOT_HS', 'NOT_HS', 'NOT_HS', 'NOT_HS', 'NOT_HS', 'NOT_HS', 'NOT_HS', 'NOT_HS', 'NOT_HS', 'NOT_HS', 'NOT_HS', 'NOT_HS', 'NOT_HS', 'HS', 'NOT_HS', 'NOT_HS', 'NOT_HS', 'NOT_HS', 'NOT_HS', 'NOT_HS', 'NOT_HS', 'NOT_HS', 'NOT_HS', 'NOT_HS', 'NOT_HS', 'HS', 'NOT_HS', 'NOT_HS', 'NOT_HS', 'NOT_HS', 'NOT_HS', 'NOT_HS', 'NOT_HS', 'NOT_HS', 'NOT_HS', 'NOT_HS', 'NOT_HS', 'HS', 'NOT_HS', 'NOT_HS', 'NOT_HS', 'NOT_HS', 'NOT_HS', 'NOT_HS', 'NOT_HS', 'NOT_HS', 'NOT_HS', 'NOT_HS', 'NOT_HS', 'NOT_HS', 'NOT_HS', 'NOT_HS', 'NOT_HS', 'NOT_HS', 'NOT_HS', 'NOT_HS', 'HS', 'NOT_HS', 'NOT_HS', 'NOT_HS', 'HS', 'NOT_HS', 'NOT_HS', 'NOT_HS', 'NOT_HS', 'NOT_HS', 'NOT_HS', 'HS', 'NOT_HS', 'NOT_HS', 'NOT_HS', 'NOT_HS', 'NOT_HS', 'HS', 'NOT_HS', 'NOT_HS', 'NOT_HS', 'NOT_HS', 'NOT_HS', 'NOT_HS', 'NOT_HS', 'NOT_HS', 'NOT_HS', 'NOT_HS', 'HS', 'NOT_HS', 'NOT_HS', 'NOT_HS', 'HS', 'HS', 'NOT_HS', 'NOT_HS', 'NOT_HS', 'NOT_HS', 'HS', 'NOT_HS', 'NOT_HS', 'NOT_HS', 'HS', 'NOT_HS', 'NOT_HS', 'NOT_HS', 'HS', 'NOT_HS', 'NOT_HS', 'NOT_HS', 'HS', 'NOT_HS', 'NOT_HS', 'NOT_HS', 'NOT_HS', 'NOT_HS', 'HS', 'NOT_HS', 'NOT_HS', 'NOT_HS', 'NOT_HS', 'NOT_HS', 'NOT_HS', 'NOT_HS', 'NOT_HS', 'NOT_HS', 'NOT_HS', 'NOT_HS', 'NOT_HS', 'NOT_HS', 'NOT_HS', 'NOT_HS', 'NOT_HS', 'NOT_HS', 'NOT_HS', 'NOT_HS', 'NOT_HS', 'NOT_HS', 'NOT_HS', 'NOT_HS', 'NOT_HS', 'NOT_HS', 'NOT_HS', 'NOT_HS', 'NOT_HS', 'HS', 'NOT_HS', 'NOT_HS', 'NOT_HS', 'NOT_HS', 'NOT_HS', 'NOT_HS', 'NOT_HS', 'NOT_HS', 'NOT_HS', 'NOT_HS', 'NOT_HS', 'NOT_HS', 'NOT_HS', 'NOT_HS', 'NOT_HS', 'NOT_HS', 'NOT_HS', 'NOT_HS', 'NOT_HS', 'NOT_HS', 'NOT_HS', 'NOT_HS', 'NOT_HS', 'NOT_HS', 'NOT_HS', 'NOT_HS', 'NOT_HS', 'NOT_HS', 'NOT_HS', 'NOT_HS', 'NOT_HS', 'NOT_HS', 'NOT_HS', 'NOT_HS', 'NOT_HS', 'NOT_HS', 'NOT_HS', 'NOT_HS', 'NOT_HS', 'NOT_HS', 'NOT_HS', 'HS', 'NOT_HS', 'NOT_HS', 'NOT_HS', 'NOT_HS', 'NOT_HS', 'NOT_HS', 'NOT_HS', 'NOT_HS', 'NOT_HS', 'NOT_HS', 'NOT_HS', 'HS', 'NOT_HS', 'NOT_HS', 'NOT_HS', 'NOT_HS', 'NOT_HS', 'NOT_HS', 'HS', 'HS', 'HS', 'NOT_HS', 'HS', 'NOT_HS', 'NOT_HS', 'NOT_HS', 'NOT_HS', 'NOT_HS', 'NOT_HS', 'NOT_HS', 'NOT_HS', 'NOT_HS', 'NOT_HS', 'NOT_HS', 'NOT_HS', 'NOT_HS', 'NOT_HS', 'NOT_HS', 'NOT_HS', 'NOT_HS', 'NOT_HS', 'NOT_HS', 'NOT_HS', 'NOT_HS', 'NOT_HS', 'NOT_HS', 'NOT_HS', 'NOT_HS', 'NOT_HS', 'HS', 'NOT_HS', 'NOT_HS', 'HS', 'NOT_HS', 'HS', 'NOT_HS', 'NOT_HS', 'NOT_HS', 'NOT_HS', 'HS', 'NOT_HS', 'NOT_HS', 'NOT_HS', 'NOT_HS', 'NOT_HS', 'NOT_HS', 'NOT_HS', 'NOT_HS', 'NOT_HS', 'NOT_HS', 'NOT_HS', 'HS', 'NOT_HS', 'NOT_HS', 'NOT_HS', 'NOT_HS', 'NOT_HS', 'NOT_HS', 'NOT_HS', 'NOT_HS', 'NOT_HS', 'HS', 'NOT_HS', 'NOT_HS', 'NOT_HS', 'NOT_HS', 'NOT_HS', 'NOT_HS', 'NOT_HS', 'NOT_HS', 'NOT_HS', 'NOT_HS', 'NOT_HS', 'NOT_HS', 'NOT_HS', 'NOT_HS', 'NOT_HS', 'NOT_HS', 'NOT_HS', 'NOT_HS', 'NOT_HS', 'NOT_HS', 'NOT_HS', 'NOT_HS', 'HS', 'NOT_HS', 'NOT_HS', 'NOT_HS', 'NOT_HS', 'HS', 'NOT_HS', 'NOT_HS', 'NOT_HS', 'NOT_HS', 'NOT_HS', 'NOT_HS', 'NOT_HS', 'NOT_HS', 'NOT_HS', 'NOT_HS', 'NOT_HS', 'NOT_HS', 'NOT_HS', 'NOT_HS', 'NOT_HS', 'NOT_HS', 'HS', 'NOT_HS', 'NOT_HS', 'HS', 'HS', 'NOT_HS', 'NOT_HS', 'NOT_HS', 'NOT_HS', 'NOT_HS', 'NOT_HS', 'NOT_HS', 'NOT_HS', 'NOT_HS', 'HS', 'NOT_HS', 'NOT_HS', 'NOT_HS', 'NOT_HS', 'NOT_HS', 'NOT_HS', 'NOT_HS', 'NOT_HS', 'NOT_HS', 'NOT_HS', 'NOT_HS', 'HS', 'NOT_HS', 'NOT_HS', 'NOT_HS', 'NOT_HS', 'NOT_HS', 'HS', 'NOT_HS', 'NOT_HS', 'NOT_HS', 'NOT_HS', 'HS', 'NOT_HS', 'NOT_HS', 'NOT_HS', 'NOT_HS', 'NOT_HS', 'HS', 'NOT_HS', 'HS', 'NOT_HS', 'NOT_HS', 'NOT_HS', 'HS', 'NOT_HS', 'NOT_HS', 'NOT_HS', 'NOT_HS']\n"
          ]
        }
      ]
    },
    {
      "cell_type": "code",
      "source": [
        "from google.colab import files\n",
        "with open(\"labelsHS_TaskB.txt\", 'w') as fd:\n",
        "      for lbl in labels:\n",
        "        fd.write(lbl + \"\\n\")\n",
        "files.download('labelsHS_TaskB.txt')"
      ],
      "metadata": {
        "id": "iOMq5q95V2x5",
        "colab": {
          "base_uri": "https://localhost:8080/",
          "height": 17
        },
        "outputId": "9b4e537c-58c4-4d92-f557-8b7c0ba377e8"
      },
      "execution_count": null,
      "outputs": [
        {
          "output_type": "display_data",
          "data": {
            "text/plain": [
              "<IPython.core.display.Javascript object>"
            ],
            "application/javascript": [
              "\n",
              "    async function download(id, filename, size) {\n",
              "      if (!google.colab.kernel.accessAllowed) {\n",
              "        return;\n",
              "      }\n",
              "      const div = document.createElement('div');\n",
              "      const label = document.createElement('label');\n",
              "      label.textContent = `Downloading \"${filename}\": `;\n",
              "      div.appendChild(label);\n",
              "      const progress = document.createElement('progress');\n",
              "      progress.max = size;\n",
              "      div.appendChild(progress);\n",
              "      document.body.appendChild(div);\n",
              "\n",
              "      const buffers = [];\n",
              "      let downloaded = 0;\n",
              "\n",
              "      const channel = await google.colab.kernel.comms.open(id);\n",
              "      // Send a message to notify the kernel that we're ready.\n",
              "      channel.send({})\n",
              "\n",
              "      for await (const message of channel.messages) {\n",
              "        // Send a message to notify the kernel that we're ready.\n",
              "        channel.send({})\n",
              "        if (message.buffers) {\n",
              "          for (const buffer of message.buffers) {\n",
              "            buffers.push(buffer);\n",
              "            downloaded += buffer.byteLength;\n",
              "            progress.value = downloaded;\n",
              "          }\n",
              "        }\n",
              "      }\n",
              "      const blob = new Blob(buffers, {type: 'application/binary'});\n",
              "      const a = document.createElement('a');\n",
              "      a.href = window.URL.createObjectURL(blob);\n",
              "      a.download = filename;\n",
              "      div.appendChild(a);\n",
              "      a.click();\n",
              "      div.remove();\n",
              "    }\n",
              "  "
            ]
          },
          "metadata": {}
        },
        {
          "output_type": "display_data",
          "data": {
            "text/plain": [
              "<IPython.core.display.Javascript object>"
            ],
            "application/javascript": [
              "download(\"download_cdf9f8e7-d491-4445-8cf9-c8106e356ddb\", \"labelsHS_TaskB.txt\", 16667)"
            ]
          },
          "metadata": {}
        }
      ]
    },
    {
      "cell_type": "code",
      "source": [
        ""
      ],
      "metadata": {
        "id": "DIr588ctVubJ"
      },
      "execution_count": null,
      "outputs": []
    },
    {
      "cell_type": "code",
      "source": [
        "! zip -r /content/OFF_Not_OFF.zip /content/OFF_Not_OFF"
      ],
      "metadata": {
        "colab": {
          "base_uri": "https://localhost:8080/"
        },
        "id": "rxCdWRB11Pbb",
        "outputId": "650cd78f-e036-4e98-d89c-d0397ae25224"
      },
      "execution_count": null,
      "outputs": [
        {
          "output_type": "stream",
          "name": "stdout",
          "text": [
            "  adding: content/OFF_Not_OFF/ (stored 0%)\n",
            "  adding: content/OFF_Not_OFF/training_args.bin (deflated 44%)\n",
            "  adding: content/OFF_Not_OFF/config.json (deflated 46%)\n",
            "  adding: content/OFF_Not_OFF/pytorch_model.bin (deflated 7%)\n"
          ]
        }
      ]
    },
    {
      "cell_type": "code",
      "source": [
        "from google.colab import drive\n",
        "drive.mount('/content/drive')"
      ],
      "metadata": {
        "id": "sKN3P1R7njIg",
        "colab": {
          "base_uri": "https://localhost:8080/"
        },
        "outputId": "0dcbb59b-596e-4cf6-98e0-35c6b31fb45e"
      },
      "execution_count": null,
      "outputs": [
        {
          "output_type": "stream",
          "name": "stdout",
          "text": [
            "Mounted at /content/drive\n"
          ]
        }
      ]
    },
    {
      "cell_type": "code",
      "source": [
        "import shutil\n",
        "shutil.move('/content/OFF_Not_OFF.zip','/content/drive/MyDrive/')"
      ],
      "metadata": {
        "id": "_zs-aTOWngnS",
        "colab": {
          "base_uri": "https://localhost:8080/",
          "height": 317
        },
        "outputId": "03dcf355-058c-4da9-d5ba-3eb644f49669"
      },
      "execution_count": null,
      "outputs": [
        {
          "output_type": "error",
          "ename": "Error",
          "evalue": "ignored",
          "traceback": [
            "\u001b[0;31m---------------------------------------------------------------------------\u001b[0m",
            "\u001b[0;31mError\u001b[0m                                     Traceback (most recent call last)",
            "\u001b[0;32m<ipython-input-24-3e520407afa4>\u001b[0m in \u001b[0;36m<module>\u001b[0;34m()\u001b[0m\n\u001b[1;32m      1\u001b[0m \u001b[0;32mimport\u001b[0m \u001b[0mshutil\u001b[0m\u001b[0;34m\u001b[0m\u001b[0;34m\u001b[0m\u001b[0m\n\u001b[0;32m----> 2\u001b[0;31m \u001b[0mshutil\u001b[0m\u001b[0;34m.\u001b[0m\u001b[0mmove\u001b[0m\u001b[0;34m(\u001b[0m\u001b[0;34m'/content/OFF_Not_OFF.zip'\u001b[0m\u001b[0;34m,\u001b[0m\u001b[0;34m'/content/drive/MyDrive/'\u001b[0m\u001b[0;34m)\u001b[0m\u001b[0;34m\u001b[0m\u001b[0;34m\u001b[0m\u001b[0m\n\u001b[0m",
            "\u001b[0;32m/usr/lib/python3.7/shutil.py\u001b[0m in \u001b[0;36mmove\u001b[0;34m(src, dst, copy_function)\u001b[0m\n\u001b[1;32m    562\u001b[0m         \u001b[0mreal_dst\u001b[0m \u001b[0;34m=\u001b[0m \u001b[0mos\u001b[0m\u001b[0;34m.\u001b[0m\u001b[0mpath\u001b[0m\u001b[0;34m.\u001b[0m\u001b[0mjoin\u001b[0m\u001b[0;34m(\u001b[0m\u001b[0mdst\u001b[0m\u001b[0;34m,\u001b[0m \u001b[0m_basename\u001b[0m\u001b[0;34m(\u001b[0m\u001b[0msrc\u001b[0m\u001b[0;34m)\u001b[0m\u001b[0;34m)\u001b[0m\u001b[0;34m\u001b[0m\u001b[0;34m\u001b[0m\u001b[0m\n\u001b[1;32m    563\u001b[0m         \u001b[0;32mif\u001b[0m \u001b[0mos\u001b[0m\u001b[0;34m.\u001b[0m\u001b[0mpath\u001b[0m\u001b[0;34m.\u001b[0m\u001b[0mexists\u001b[0m\u001b[0;34m(\u001b[0m\u001b[0mreal_dst\u001b[0m\u001b[0;34m)\u001b[0m\u001b[0;34m:\u001b[0m\u001b[0;34m\u001b[0m\u001b[0;34m\u001b[0m\u001b[0m\n\u001b[0;32m--> 564\u001b[0;31m             \u001b[0;32mraise\u001b[0m \u001b[0mError\u001b[0m\u001b[0;34m(\u001b[0m\u001b[0;34m\"Destination path '%s' already exists\"\u001b[0m \u001b[0;34m%\u001b[0m \u001b[0mreal_dst\u001b[0m\u001b[0;34m)\u001b[0m\u001b[0;34m\u001b[0m\u001b[0;34m\u001b[0m\u001b[0m\n\u001b[0m\u001b[1;32m    565\u001b[0m     \u001b[0;32mtry\u001b[0m\u001b[0;34m:\u001b[0m\u001b[0;34m\u001b[0m\u001b[0;34m\u001b[0m\u001b[0m\n\u001b[1;32m    566\u001b[0m         \u001b[0mos\u001b[0m\u001b[0;34m.\u001b[0m\u001b[0mrename\u001b[0m\u001b[0;34m(\u001b[0m\u001b[0msrc\u001b[0m\u001b[0;34m,\u001b[0m \u001b[0mreal_dst\u001b[0m\u001b[0;34m)\u001b[0m\u001b[0;34m\u001b[0m\u001b[0;34m\u001b[0m\u001b[0m\n",
            "\u001b[0;31mError\u001b[0m: Destination path '/content/drive/MyDrive/OFF_Not_OFF.zip' already exists"
          ]
        }
      ]
    },
    {
      "cell_type": "code",
      "source": [
        "import shutil\n",
        "shutil.copy('/content/drive/MyDrive/OFF_Not_OFF.zip','/content')"
      ],
      "metadata": {
        "id": "aLzGWah81FZf",
        "colab": {
          "base_uri": "https://localhost:8080/",
          "height": 35
        },
        "outputId": "fe5dee33-4fc0-44a7-9c1a-9f91500eb381"
      },
      "execution_count": null,
      "outputs": [
        {
          "output_type": "execute_result",
          "data": {
            "text/plain": [
              "'/content/OFF_Not_OFF.zip'"
            ],
            "application/vnd.google.colaboratory.intrinsic+json": {
              "type": "string"
            }
          },
          "metadata": {},
          "execution_count": 25
        }
      ]
    },
    {
      "cell_type": "code",
      "source": [
        "from zipfile import ZipFile\n",
        "with ZipFile('OFF_Not_OFF.zip', 'r') as zip:\n",
        "\t# printing all the contents of the zip file\n",
        "\tzip.printdir()\n",
        "\n",
        "\t# extracting all the files\n",
        "\tprint('Extracting all the files now...')\n",
        "\tzip.extractall()\n",
        "\tprint('Done!')"
      ],
      "metadata": {
        "id": "EVn4CZdu1Hb-",
        "colab": {
          "base_uri": "https://localhost:8080/"
        },
        "outputId": "c46718e5-da14-4454-9ac9-db8866124e41"
      },
      "execution_count": null,
      "outputs": [
        {
          "output_type": "stream",
          "name": "stdout",
          "text": [
            "File Name                                             Modified             Size\n",
            "content/OFF_Not_OFF/                           2022-03-25 21:24:36            0\n",
            "content/OFF_Not_OFF/training_args.bin          2022-03-25 21:24:36         1967\n",
            "content/OFF_Not_OFF/config.json                2022-03-25 21:24:34          633\n",
            "content/OFF_Not_OFF/pytorch_model.bin          2022-03-25 21:24:36    540863661\n",
            "Extracting all the files now...\n",
            "Done!\n"
          ]
        }
      ]
    },
    {
      "cell_type": "code",
      "source": [
        "!unzip '/content/drive/MyDrive/OFF_Not_OFF.zip'"
      ],
      "metadata": {
        "colab": {
          "base_uri": "https://localhost:8080/"
        },
        "id": "MAQ3GxiY545H",
        "outputId": "c3b83b6d-a2f2-45cf-818d-c7136869ad12"
      },
      "execution_count": null,
      "outputs": [
        {
          "output_type": "stream",
          "name": "stdout",
          "text": [
            "Archive:  /content/drive/MyDrive/OFF_Not_OFF.zip\n",
            "replace content/OFF_Not_OFF/training_args.bin? [y]es, [n]o, [A]ll, [N]one, [r]ename: y\n",
            "  inflating: content/OFF_Not_OFF/training_args.bin  \n",
            "replace content/OFF_Not_OFF/config.json? [y]es, [n]o, [A]ll, [N]one, [r]ename: y\n",
            "  inflating: content/OFF_Not_OFF/config.json  \n",
            "replace content/OFF_Not_OFF/pytorch_model.bin? [y]es, [n]o, [A]ll, [N]one, [r]ename: y\n",
            "  inflating: content/OFF_Not_OFF/pytorch_model.bin  y\n",
            "\n"
          ]
        }
      ]
    },
    {
      "cell_type": "code",
      "source": [
        "import torch \n",
        "modell= torch.load('/content/content/rename/pytorch_model.bin')\n",
        "print(modell)"
      ],
      "metadata": {
        "colab": {
          "base_uri": "https://localhost:8080/"
        },
        "id": "lLyzZEO58ubU",
        "outputId": "99068047-b6d4-47c3-a3a0-43217c8e1423"
      },
      "execution_count": null,
      "outputs": [
        {
          "output_type": "stream",
          "name": "stdout",
          "text": [
            "<built-in method values of collections.OrderedDict object at 0x7fed541bd200>\n"
          ]
        }
      ]
    },
    {
      "cell_type": "code",
      "source": [
        "modell.load_state_dict(modell)‏"
      ],
      "metadata": {
        "colab": {
          "base_uri": "https://localhost:8080/",
          "height": 135
        },
        "id": "8XTxtSaQCX_y",
        "outputId": "6b5c5430-e24a-4eca-c1ef-63fe9e934656"
      },
      "execution_count": null,
      "outputs": [
        {
          "output_type": "error",
          "ename": "SyntaxError",
          "evalue": "ignored",
          "traceback": [
            "\u001b[0;36m  File \u001b[0;32m\"<ipython-input-78-4fd0341ec477>\"\u001b[0;36m, line \u001b[0;32m1\u001b[0m\n\u001b[0;31m    modell.load_state_dict(modell)‏\u001b[0m\n\u001b[0m                                  ^\u001b[0m\n\u001b[0;31mSyntaxError\u001b[0m\u001b[0;31m:\u001b[0m invalid character in identifier\n"
          ]
        }
      ]
    },
    {
      "cell_type": "code",
      "source": [
        "trainer = Trainer(\n",
        "    model = modell(),\n",
        "    args = '/content/content/rename/training_args.bin',\n",
        "    train_dataset = train_dataset,\n",
        "    eval_dataset='/content/Test.csv',\n",
        "    compute_metrics=compute_metrics,\n",
        ")"
      ],
      "metadata": {
        "colab": {
          "base_uri": "https://localhost:8080/",
          "height": 245
        },
        "id": "n5C8Og199BDS",
        "outputId": "7f43ad2f-3c09-4684-8a06-10fbe9334678"
      },
      "execution_count": null,
      "outputs": [
        {
          "output_type": "error",
          "ename": "TypeError",
          "evalue": "ignored",
          "traceback": [
            "\u001b[0;31m---------------------------------------------------------------------------\u001b[0m",
            "\u001b[0;31mTypeError\u001b[0m                                 Traceback (most recent call last)",
            "\u001b[0;32m<ipython-input-76-1c667e64cb32>\u001b[0m in \u001b[0;36m<module>\u001b[0;34m()\u001b[0m\n\u001b[1;32m      1\u001b[0m trainer = Trainer(\n\u001b[0;32m----> 2\u001b[0;31m     \u001b[0mmodel\u001b[0m \u001b[0;34m=\u001b[0m \u001b[0mmodel\u001b[0m\u001b[0;34m(\u001b[0m\u001b[0;34m)\u001b[0m\u001b[0;34m,\u001b[0m\u001b[0;34m\u001b[0m\u001b[0;34m\u001b[0m\u001b[0m\n\u001b[0m\u001b[1;32m      3\u001b[0m     \u001b[0margs\u001b[0m \u001b[0;34m=\u001b[0m \u001b[0;34m'/content/content/rename/training_args.bin'\u001b[0m\u001b[0;34m,\u001b[0m\u001b[0;34m\u001b[0m\u001b[0;34m\u001b[0m\u001b[0m\n\u001b[1;32m      4\u001b[0m     \u001b[0mtrain_dataset\u001b[0m \u001b[0;34m=\u001b[0m \u001b[0mtrain_dataset\u001b[0m\u001b[0;34m,\u001b[0m\u001b[0;34m\u001b[0m\u001b[0;34m\u001b[0m\u001b[0m\n\u001b[1;32m      5\u001b[0m     \u001b[0meval_dataset\u001b[0m\u001b[0;34m=\u001b[0m\u001b[0;34m'/content/Test.csv'\u001b[0m\u001b[0;34m,\u001b[0m\u001b[0;34m\u001b[0m\u001b[0;34m\u001b[0m\u001b[0m\n",
            "\u001b[0;31mTypeError\u001b[0m: 'collections.OrderedDict' object is not callable"
          ]
        }
      ]
    },
    {
      "cell_type": "code",
      "source": [
        ""
      ],
      "metadata": {
        "id": "C15QkW3E9nlG"
      },
      "execution_count": null,
      "outputs": []
    }
  ]
}